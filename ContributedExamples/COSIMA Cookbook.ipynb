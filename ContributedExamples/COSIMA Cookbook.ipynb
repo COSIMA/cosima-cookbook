{
 "cells": [
  {
   "cell_type": "markdown",
   "metadata": {},
   "source": [
    "# COSIMA Cookbook"
   ]
  },
  {
   "cell_type": "markdown",
   "metadata": {},
   "source": [
    "1. Python package for analysis of ocean/ice model output (MOM5, ACCESS-OM2)\n",
    "\n",
    "2. Jupyter notebooks for documenting and sharing analyses."
   ]
  },
  {
   "cell_type": "code",
   "execution_count": null,
   "metadata": {
    "collapsed": true
   },
   "outputs": [],
   "source": []
  },
  {
   "cell_type": "markdown",
   "metadata": {},
   "source": [
    "- GitHub\n",
    "    - https://github.com/OceansAus/cosima-cookbook\n",
    "    - example PR\n",
    "    - example of a file recovery:\n",
    "        - git log notebooks/MOM-SIS-01\\ Salinity\\ Restoring\\ Analysis.ipynb\n",
    "        - git checkout 6868c3 -- notebooks/MOM-SIS-01\\ Salinity\\ Restoring\\ Analysis.ipynb"
   ]
  },
  {
   "cell_type": "markdown",
   "metadata": {},
   "source": [
    " \n",
    "- Documentation (Sphinx)\n",
    "    - http://cosima-cookbook.readthedocs.io\n",
    "    - auto-generated on hook with GitHub"
   ]
  },
  {
   "cell_type": "markdown",
   "metadata": {},
   "source": [
    "- Python modules and packages\n",
    "    - PyPi vs conda, setup.py and meta.yaml\n",
    "    - `__init__.py` \n",
    "    - plots and diagnostics separated\n",
    "    - use of joblib.Memory"
   ]
  },
  {
   "cell_type": "code",
   "execution_count": 2,
   "metadata": {
    "collapsed": true
   },
   "outputs": [],
   "source": [
    "from joblib import Memory"
   ]
  },
  {
   "cell_type": "code",
   "execution_count": 4,
   "metadata": {},
   "outputs": [],
   "source": [
    "memory = Memory(cachedir='/g/data1/v45/jm0634/demo')"
   ]
  },
  {
   "cell_type": "code",
   "execution_count": null,
   "metadata": {
    "collapsed": true
   },
   "outputs": [],
   "source": [
    "def my_long_caculation"
   ]
  },
  {
   "cell_type": "markdown",
   "metadata": {},
   "source": [
    "Database of netCDF4 files\n",
    "    - SQL: tables and records\n",
    "    - dataset (python module)\n",
    "        - tqdm.tqdm_notebook(iter)\n",
    "    - reporting using pivot_table\n",
    "    "
   ]
  },
  {
   "cell_type": "markdown",
   "metadata": {},
   "source": [
    "Kelvin waves\n",
    " - finding a depth contour\n",
    " - filtering out eddies"
   ]
  },
  {
   "cell_type": "code",
   "execution_count": null,
   "metadata": {
    "collapsed": true
   },
   "outputs": [],
   "source": []
  }
 ],
 "metadata": {
  "kernelspec": {
   "display_name": "Python [conda env:analysis3]",
   "language": "python",
   "name": "conda-env-analysis3-py"
  },
  "language_info": {
   "codemirror_mode": {
    "name": "ipython",
    "version": 3
   },
   "file_extension": ".py",
   "mimetype": "text/x-python",
   "name": "python",
   "nbconvert_exporter": "python",
   "pygments_lexer": "ipython3",
   "version": "3.6.2"
  }
 },
 "nbformat": 4,
 "nbformat_minor": 2
}
