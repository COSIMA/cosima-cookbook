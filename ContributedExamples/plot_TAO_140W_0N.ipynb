{
 "cells": [
  {
   "cell_type": "markdown",
   "metadata": {
    "ein.tags": "worksheet-0",
    "slideshow": {
     "slide_type": "-"
    }
   },
   "source": [
    "# Comparison of EUC/TC structure at 140W, 0N to TAO data"
   ]
  },
  {
   "cell_type": "code",
   "execution_count": 1,
   "metadata": {
    "autoscroll": false,
    "ein.tags": "worksheet-0",
    "slideshow": {
     "slide_type": "-"
    }
   },
   "outputs": [
    {
     "name": "stderr",
     "output_type": "stream",
     "text": [
      "/g/data3/hh5/public/apps/miniconda3/envs/analysis3-18.04/lib/python3.6/site-packages/matplotlib/font_manager.py:273: UserWarning: Matplotlib is building the font cache using fc-list. This may take a moment.\n",
      "  warnings.warn('Matplotlib is building the font cache using fc-list. This may take a moment.')\n",
      "/g/data3/hh5/public/apps/miniconda3/envs/analysis3-18.04/lib/python3.6/site-packages/matplotlib/font_manager.py:273: UserWarning: Matplotlib is building the font cache using fc-list. This may take a moment.\n",
      "  warnings.warn('Matplotlib is building the font cache using fc-list. This may take a moment.')\n"
     ]
    },
    {
     "name": "stdout",
     "output_type": "stream",
     "text": [
      "netcdf_index loaded.\n"
     ]
    }
   ],
   "source": [
    "%matplotlib inline\n",
    "import cosima_cookbook as cc\n",
    "import matplotlib.pyplot as plt\n",
    "from mpl_toolkits.basemap import Basemap, shiftgrid\n",
    "import numpy as np\n",
    "import netCDF4 as nc\n",
    "import xarray as xr"
   ]
  },
  {
   "cell_type": "code",
   "execution_count": 2,
   "metadata": {
    "autoscroll": false,
    "ein.tags": "worksheet-0",
    "slideshow": {
     "slide_type": "-"
    }
   },
   "outputs": [
    {
     "name": "stderr",
     "output_type": "stream",
     "text": [
      "/g/data3/hh5/public/apps/miniconda3/envs/analysis3-18.04/lib/python3.6/site-packages/ipykernel/__main__.py:3: DeprecationWarning: The 'cachedir' parameter has been deprecated in version 0.12 and will be removed in version 0.14.\n",
      "You provided \"cachedir='/g/data1/v45/cosima-cookbook/'\", use \"location=None\" instead.\n",
      "  app.launch_new_instance()\n"
     ]
    }
   ],
   "source": [
    "from joblib import Memory\n",
    "\n",
    "memory = Memory(cachedir='/g/data1/v45/cosima-cookbook/', verbose=0)"
   ]
  },
  {
   "cell_type": "code",
   "execution_count": 3,
   "metadata": {
    "autoscroll": false,
    "ein.tags": "worksheet-0",
    "scrolled": false,
    "slideshow": {
     "slide_type": "-"
    }
   },
   "outputs": [
    {
     "data": {
      "text/plain": [
       "['mom025_jra_ryf0304',\n",
       " 'mom025_jra_ryf8485',\n",
       " 'mom025_jra_ryf9091',\n",
       " 'mom025_jra_ryf9091_saltunderice',\n",
       " 'mom025_nyf',\n",
       " 'mom025_nyf_salt']"
      ]
     },
     "metadata": {},
     "output_type": "display_data"
    }
   ],
   "source": [
    "#configuration = 'mom01v5'\n",
    "configuration = 'mom025'\n",
    "\n",
    "expts = cc.get_experiments(configuration)\n",
    "display(expts)"
   ]
  },
  {
   "cell_type": "code",
   "execution_count": 218,
   "metadata": {
    "autoscroll": false,
    "ein.tags": "worksheet-0",
    "slideshow": {
     "slide_type": "-"
    }
   },
   "outputs": [],
   "source": [
    "ncfile = 'ocean.nc'\n",
    "#expt = 'mom025_jra_ryf8485'\n",
    "expt = 'KDS75_newbathy_JRA' "
   ]
  },
  {
   "cell_type": "code",
   "execution_count": 219,
   "metadata": {
    "autoscroll": false,
    "ein.tags": "worksheet-0",
    "slideshow": {
     "slide_type": "-"
    }
   },
   "outputs": [
    {
     "data": {
      "text/plain": [
       "HBox(children=(IntProgress(value=0, description='get_nc_variable:', max=9), HTML(value='')))"
      ]
     },
     "metadata": {},
     "output_type": "display_data"
    },
    {
     "name": "stdout",
     "output_type": "stream",
     "text": [
      "\r"
     ]
    },
    {
     "data": {
      "text/plain": [
       "HBox(children=(IntProgress(value=0, description='get_nc_variable:', max=9), HTML(value='')))"
      ]
     },
     "metadata": {},
     "output_type": "display_data"
    },
    {
     "name": "stdout",
     "output_type": "stream",
     "text": [
      "\r"
     ]
    }
   ],
   "source": [
    "temp = cc.get_nc_variable(expt, ncfile, 'temp',\n",
    "                        chunks={'st_ocean': None}, n=9,\n",
    "                        time_units=\"days since 1900-01-01\")\n",
    "\n",
    "u = cc.get_nc_variable(expt, ncfile, 'u',\n",
    "                        chunks={'st_ocean': None}, n=9,\n",
    "                        time_units=\"days since 1900-01-01\")"
   ]
  },
  {
   "cell_type": "code",
   "execution_count": 220,
   "metadata": {
    "autoscroll": false,
    "ein.tags": "worksheet-0",
    "scrolled": true,
    "slideshow": {
     "slide_type": "-"
    }
   },
   "outputs": [],
   "source": [
    "# Extract 140W, 0N:\n",
    "temp_140w0n = temp.sel(st_ocean=slice(0,300)).sel(yt_ocean=0.,method='nearest').sel(xt_ocean=-140.,method='nearest')\n",
    "u_140w0n = u.sel(st_ocean=slice(0,300)).sel(yu_ocean=0.,method='nearest').sel(xu_ocean=-140.,method='nearest')\n",
    "dep = u_140w0n.st_ocean"
   ]
  },
  {
   "cell_type": "code",
   "execution_count": 221,
   "metadata": {
    "autoscroll": false,
    "ein.tags": "worksheet-0",
    "scrolled": true,
    "slideshow": {
     "slide_type": "-"
    }
   },
   "outputs": [],
   "source": [
    "# Get TAO data:\n",
    "obs_file_temp = xr.open_dataset('/g/data/e14/rmh561/TAO/t0n140w_dy.cdf')\n",
    "obs_temp = obs_file_temp['T_20'].isel(lon=0).isel(lat=0).sel(depth=slice(0,300))\n",
    "obs_temp = obs_temp.where(obs_temp!=1.e35)\n",
    "count = np.count_nonzero(~np.isnan(obs_temp), axis=0)\n",
    "obs_temp = obs_temp.isel(depth=count>=5000) # Only average if more than x observations at given depth\n",
    "obs_file_u = xr.open_dataset('/g/data/e14/rmh561/TAO/adcp0n140w_dy.cdf')\n",
    "obs_u = obs_file_u['u_1205'].isel(lon=0).isel(lat=0).sel(depth=slice(0,300))/100.\n",
    "obs_u = obs_u.where(abs(obs_u)<=100.)\n",
    "count = np.count_nonzero(~np.isnan(obs_u), axis=0)\n",
    "obs_u = obs_u.isel(depth=count>=5000)  # Only average if more than x observations at given depth"
   ]
  },
  {
   "cell_type": "code",
   "execution_count": 222,
   "metadata": {
    "autoscroll": false,
    "ein.tags": "worksheet-0",
    "slideshow": {
     "slide_type": "-"
    }
   },
   "outputs": [
    {
     "data": {
      "text/plain": [
       "<matplotlib.legend.Legend at 0x7f280989dac8>"
      ]
     },
     "execution_count": 222,
     "metadata": {},
     "output_type": "execute_result"
    },
    {
     "data": {
      "image/png": "[encoded data removed]",
      "text/plain": [
       "<matplotlib.figure.Figure at 0x7f28149b01d0>"
      ]
     },
     "metadata": {},
     "output_type": "display_data"
    }
   ],
   "source": [
    "# Plot Annual mean:\n",
    "f = plt.figure(figsize=(10,5),facecolor='white')\n",
    "ax1 = plt.subplot(1,2,1);\n",
    "ax1.set_xlabel('Temperature ($^\\circ$C)')\n",
    "ax1.set_ylabel('Depth (m)')\n",
    "ax2 = plt.subplot(1,2,2)\n",
    "ax2.set_xlabel('Zonal Velocity (ms$^{-1}$)')\n",
    "ax2.set_ylabel('Depth (m)')\n",
    "ax1.plot(temp_140w0n.mean('time'),-dep,'-k',label=expt,linewidth=2)\n",
    "ax1.plot(obs_temp.mean('time'),-obs_temp.depth,'.-r',linewidth=2,label='TAO')\n",
    "ax2.plot(u_140w0n.mean('time'),-dep,'-k',label=expt,linewidth=2)\n",
    "ax2.plot(obs_u.mean('time'),-obs_u.depth,'.-r',linewidth=2)\n",
    "ax1.legend(loc=2)"
   ]
  },
  {
   "cell_type": "code",
   "execution_count": null,
   "metadata": {
    "autoscroll": false,
    "ein.tags": "worksheet-0",
    "slideshow": {
     "slide_type": "-"
    }
   },
   "outputs": [],
   "source": []
  }
 ],
 "metadata": {
  "kernelspec": {
   "display_name": "Python [conda env:analysis3-18.04]",
   "language": "python",
   "name": "conda-env-analysis3-18.04-py"
  },
  "language_info": {
   "codemirror_mode": {
    "name": "ipython",
    "version": 3
   },
   "file_extension": ".py",
   "mimetype": "text/x-python",
   "name": "python",
   "nbconvert_exporter": "python",
   "pygments_lexer": "ipython3",
   "version": "3.6.5"
  },
  "name": "plot_TAO_140W_0N.ipynb"
 },
 "nbformat": 4,
 "nbformat_minor": 2
}
