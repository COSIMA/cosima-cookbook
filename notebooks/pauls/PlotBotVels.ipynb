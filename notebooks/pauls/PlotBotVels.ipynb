{
 "cells": [
  {
   "cell_type": "markdown",
   "metadata": {},
   "source": [
    "# Plot global bottom speeds and sample std from KDS75"
   ]
  },
  {
   "cell_type": "code",
   "execution_count": 1,
   "metadata": {
    "collapsed": false
   },
   "outputs": [
    {
     "name": "stdout",
     "output_type": "stream",
     "text": [
      "Populating the interactive namespace from numpy and matplotlib\n"
     ]
    }
   ],
   "source": [
    "# Load modules\n",
    "%pylab inline\n",
    "from netCDF4 import Dataset # to work with NetCDF files\n",
    "from netCDF4 import MFDataset # to work with NetCDF files\n",
    "import numpy as np\n",
    "import matplotlib.pyplot as plt # to generate plots\n",
    "from mpl_toolkits.basemap import Basemap, shiftgrid # plot on map projections\n",
    "from os.path import expanduser\n",
    "home = expanduser(\"~\") # Get users home directory\n",
    "import os # operating system interface"
   ]
  },
  {
   "cell_type": "code",
   "execution_count": 2,
   "metadata": {
    "collapsed": true
   },
   "outputs": [],
   "source": [
    "# function to do latitude shifting:\n",
    "def shifted(input,geolon):\n",
    "    ny,nx = geolon.shape\n",
    "    shifted = np.zeros(input.shape)\n",
    "    for j in range(ny):\n",
    "        ii = np.max(np.where(geolon[j,:]<-180)) + 1\n",
    "        shifted[j,(3600-ii):] = input[j,:ii]\n",
    "        shifted[j,:(3600-ii)] = input[j,ii:]\n",
    "    return shifted"
   ]
  },
  {
   "cell_type": "code",
   "execution_count": 3,
   "metadata": {
    "collapsed": false
   },
   "outputs": [
    {
     "ename": "IOError",
     "evalue": "No such file or directory",
     "output_type": "error",
     "traceback": [
      "\u001b[0;31m---------------------------------------------------------------------------\u001b[0m",
      "\u001b[0;31mIOError\u001b[0m                                   Traceback (most recent call last)",
      "\u001b[0;32m<ipython-input-3-9f41b3682d02>\u001b[0m in \u001b[0;36m<module>\u001b[0;34m()\u001b[0m\n\u001b[1;32m      2\u001b[0m \u001b[0mfile\u001b[0m \u001b[0;34m=\u001b[0m\u001b[0;34m'/g/data1/v45/pas561/mom/archive/VertOverturn/ocean_grid.nc'\u001b[0m\u001b[0;34m\u001b[0m\u001b[0m\n\u001b[1;32m      3\u001b[0m \u001b[0;34m\u001b[0m\u001b[0m\n\u001b[0;32m----> 4\u001b[0;31m \u001b[0mnc\u001b[0m \u001b[0;34m=\u001b[0m \u001b[0mDataset\u001b[0m\u001b[0;34m(\u001b[0m\u001b[0mfile\u001b[0m\u001b[0;34m,\u001b[0m \u001b[0mmode\u001b[0m\u001b[0;34m=\u001b[0m\u001b[0;34m'r'\u001b[0m\u001b[0;34m)\u001b[0m \u001b[0;31m# file handle, open in read only mode\u001b[0m\u001b[0;34m\u001b[0m\u001b[0m\n\u001b[0m\u001b[1;32m      5\u001b[0m \u001b[0mgeolon_t\u001b[0m \u001b[0;34m=\u001b[0m \u001b[0mnc\u001b[0m\u001b[0;34m.\u001b[0m\u001b[0mvariables\u001b[0m\u001b[0;34m[\u001b[0m\u001b[0;34m'geolon_t'\u001b[0m\u001b[0;34m]\u001b[0m\u001b[0;34m[\u001b[0m\u001b[0;34m:\u001b[0m\u001b[0;34m]\u001b[0m\u001b[0;34m\u001b[0m\u001b[0m\n\u001b[1;32m      6\u001b[0m \u001b[0mgeolat_t\u001b[0m \u001b[0;34m=\u001b[0m \u001b[0mnc\u001b[0m\u001b[0;34m.\u001b[0m\u001b[0mvariables\u001b[0m\u001b[0;34m[\u001b[0m\u001b[0;34m'geolat_t'\u001b[0m\u001b[0;34m]\u001b[0m\u001b[0;34m[\u001b[0m\u001b[0;34m:\u001b[0m\u001b[0;34m]\u001b[0m\u001b[0;34m\u001b[0m\u001b[0m\n",
      "\u001b[0;32mnetCDF4/_netCDF4.pyx\u001b[0m in \u001b[0;36mnetCDF4._netCDF4.Dataset.__init__ (netCDF4/_netCDF4.c:12626)\u001b[0;34m()\u001b[0m\n",
      "\u001b[0;31mIOError\u001b[0m: No such file or directory"
     ]
    }
   ],
   "source": [
    "# Extract the variables\n",
    "file ='/g/data1/v45/pas561/mom/archive/VertOverturn/ocean_grid.nc'\n",
    "\n",
    "nc = Dataset(file, mode='r') # file handle, open in read only mode\n",
    "geolon_t = nc.variables['geolon_t'][:]\n",
    "geolat_t = nc.variables['geolat_t'][:]\n",
    "lat = nc.variables['yu_ocean'][:]\n",
    "h = nc.variables['hu'][:]\n",
    "nc.close() # close the file\n",
    "\n"
   ]
  },
  {
   "cell_type": "code",
   "execution_count": null,
   "metadata": {
    "collapsed": false
   },
   "outputs": [],
   "source": [
    "file ='/g/data1/v45/pas561/mom/archive/KDS75/botvel_kds75_258.nc'\n",
    "\n",
    "nc = Dataset(file, mode='r') # file handle, open in read only mode\n",
    "ubot = nc.variables['ubot'][:]\n",
    "vbot = nc.variables['vbot'][:]\n",
    "nc.close() # close the file\n",
    "\n",
    "#f = MFDataset(\"/g/data1/v45/pas561/mom/archive/KDS75/botvel_kds75_2*nc\",exclude=['v'])\n",
    "#f = MFDataset(\"/g/data1/v45/pas561/mom/archive/KDS75/SH_botvel_kds75_2*nc\")\n",
    "#f.variable[NAME][10:20,50:60,0,:]\n"
   ]
  },
  {
   "cell_type": "code",
   "execution_count": null,
   "metadata": {
    "collapsed": false
   },
   "outputs": [],
   "source": [
    "#f.variables['ubot'].shape\n",
    "#print(f.variables['xu_ocean'][:])"
   ]
  },
  {
   "cell_type": "code",
   "execution_count": null,
   "metadata": {
    "collapsed": false
   },
   "outputs": [],
   "source": [
    "print(ubot.shape)\n",
    "print(vbot.shape)\n",
    "#f.variables['vbot'].shape\n",
    "#[:,0:1349,:]\n",
    "#vbot= f.variables['vbot'][:]\n",
    "#ubot= f.variables['ubot'][:]\n",
    "\n",
    "vbot.shape"
   ]
  },
  {
   "cell_type": "code",
   "execution_count": null,
   "metadata": {
    "collapsed": false
   },
   "outputs": [],
   "source": [
    "uvstd=np.ma.std(np.ma.sqrt(vbot**2 + ubot**2),axis=0)\n",
    "#vbot=vbot[:,0:1349,:]\n",
    "#vbot.shape"
   ]
  },
  {
   "cell_type": "markdown",
   "metadata": {},
   "source": [
    "## plot bottom v vel at day 1"
   ]
  },
  {
   "cell_type": "code",
   "execution_count": null,
   "metadata": {
    "collapsed": false
   },
   "outputs": [],
   "source": [
    "clev = np.arange(-.1,.105,0.005)\n",
    "klev = np.arange(1000,4000,2000)\n",
    "\n",
    "plt.contourf(geolon_t,geolat_t,vbot[0],cmap=plt.cm.PiYG,levels=clev,extend='both')\n",
    "#plt.contourf(geolon_t,geolat_t,f.variables['vbot'][0],cmap=plt.cm.PiYG,levels=clev,extend='both')\n",
    "cb=plt.colorbar(orientation='vertical',shrink = 0.7)\n",
    "cb.ax.set_xlabel('m')\n",
    "plt.contour(geolon_t,geolat_t,h,levels=klev,colors='k',linewidth=0.25)\n",
    "\n",
    "plt.ylabel('Latitude ($^\\circ$)')\n",
    "plt.xlabel('Longitude ($^\\circ$)')\n",
    "plt.ylim([-80,90])\n",
    "plt.xlim([-280,80])\n",
    "plt.title('V Bottom Day 1 in KDS75')\n",
    "\n",
    "plt.show()\n",
    "plt.savefig('V.pdf')"
   ]
  },
  {
   "cell_type": "code",
   "execution_count": null,
   "metadata": {
    "collapsed": false
   },
   "outputs": [],
   "source": [
    "ubar=np.ma.mean(ubot,0)\n",
    "vbar=np.ma.mean(vbot,0)\n",
    "ubar.shape"
   ]
  },
  {
   "cell_type": "code",
   "execution_count": null,
   "metadata": {
    "collapsed": false
   },
   "outputs": [],
   "source": [
    "uvbar=np.ma.sqrt(vbar**2 + ubar**2)\n",
    "uvbar.shape"
   ]
  },
  {
   "cell_type": "code",
   "execution_count": null,
   "metadata": {
    "collapsed": false
   },
   "outputs": [],
   "source": [
    "np.max(uvbar)"
   ]
  },
  {
   "cell_type": "code",
   "execution_count": null,
   "metadata": {
    "collapsed": false
   },
   "outputs": [],
   "source": [
    "np.min(uvbar)"
   ]
  },
  {
   "cell_type": "code",
   "execution_count": null,
   "metadata": {
    "collapsed": false
   },
   "outputs": [],
   "source": [
    "clev = np.arange(0,.51,0.01)\n",
    "clev[:]"
   ]
  },
  {
   "cell_type": "markdown",
   "metadata": {},
   "source": [
    "## plot bottom speeds"
   ]
  },
  {
   "cell_type": "code",
   "execution_count": null,
   "metadata": {
    "collapsed": false
   },
   "outputs": [],
   "source": [
    "\n",
    "plt.contourf(geolon_t,geolat_t,uvbar,cmap=plt.cm.CMRmap_r,levels=clev,extend='max')\n",
    "cb=plt.colorbar(orientation='vertical',shrink = 0.7)\n",
    "cb.ax.set_xlabel('m')\n",
    "#plt.contour(geolon_t,geolat_t,ssh[0],levels=clev,colors='k',linewidths=0.25)\n",
    "#plt.contour(geolon_t,geolat_t,ssh[0],levels=[0.0,],colors='k',linewidths=0.5)\n",
    "\n",
    "plt.ylabel('Latitude ($^\\circ$)')\n",
    "plt.xlabel('Longitude ($^\\circ$)')\n",
    "plt.ylim([-80,90])\n",
    "plt.xlim([-280,80])\n",
    "plt.title('Mean Bottom Speed in KDS75')\n",
    "\n",
    "plt.show()"
   ]
  },
  {
   "cell_type": "markdown",
   "metadata": {
    "collapsed": true
   },
   "source": [
    "## plot std of bottom vels"
   ]
  },
  {
   "cell_type": "code",
   "execution_count": null,
   "metadata": {
    "collapsed": false
   },
   "outputs": [],
   "source": [
    "#uvbot=np.ma.sqrt(vbot**2 + ubot**2)\n",
    "\n",
    "#uvstd=np.ma.std(np.ma.sqrt(vbot**2 + ubot**2),axis=0)\n",
    "\n"
   ]
  },
  {
   "cell_type": "code",
   "execution_count": null,
   "metadata": {
    "collapsed": false
   },
   "outputs": [],
   "source": [
    "clev = np.linspace(0,0.1,21)\n",
    "klev = np.arange(1000,4000,2000)\n",
    "\n",
    "plt.contourf(geolon_t,geolat_t,uvstd,cmap=plt.cm.CMRmap_r,levels=clev,extend='max')\n",
    "cb=plt.colorbar(orientation='vertical',shrink = 0.7)\n",
    "cb.ax.set_xlabel('m')\n",
    "plt.contour(geolon_t,geolat_t,h,levels=klev,colors='k',linewidth=0.25)\n",
    "\n",
    "plt.ylabel('Latitude ($^\\circ$)')\n",
    "plt.xlabel('Longitude ($^\\circ$)')\n",
    "plt.ylim([-80,90])\n",
    "plt.xlim([-280,80])\n",
    "plt.title('Std of Bottom Speed in KDS75')\n",
    "\n",
    "plt.show()\n",
    "\n",
    "plt.savefig('std.pdf')"
   ]
  },
  {
   "cell_type": "markdown",
   "metadata": {},
   "source": [
    "## Make an extra pretty version"
   ]
  },
  {
   "cell_type": "code",
   "execution_count": null,
   "metadata": {
    "collapsed": false
   },
   "outputs": [],
   "source": [
    "ny,nx = geolon_t.shape\n",
    "shifty = np.zeros(geolat_t.shape)\n",
    "for j in range(2200):\n",
    "        ii = np.max(np.where(geolon_t[j,:]<-180)) + 1\n",
    "        #print(j)\n",
    "    \n",
    "    #for j in range(1):\n",
    "    #tmp=np.where(geolon_t[j,:]<-180)\n",
    "    #print(tmp)\n",
    "    #ii = np.max(np.where(geolon_t[j,:]<-180)) + 1\n",
    "    #print(ii)\n",
    "    #shifty[j,(3600-ii):] = geolat_t[j,:ii]\n",
    "    #shifty[j,:(3600-ii)] = geolat_t[j,ii:]"
   ]
  },
  {
   "cell_type": "code",
   "execution_count": null,
   "metadata": {
    "collapsed": false
   },
   "outputs": [],
   "source": [
    "ny"
   ]
  },
  {
   "cell_type": "code",
   "execution_count": null,
   "metadata": {
    "collapsed": false
   },
   "outputs": [],
   "source": [
    "a=np.max(tmp)+1\n",
    "a"
   ]
  },
  {
   "cell_type": "code",
   "execution_count": null,
   "metadata": {
    "collapsed": false
   },
   "outputs": [],
   "source": [
    "ii = np.max(tmp) + 1"
   ]
  },
  {
   "cell_type": "code",
   "execution_count": null,
   "metadata": {
    "collapsed": false
   },
   "outputs": [],
   "source": [
    "lon = shifted(geolon_t,geolon_t)\n",
    "lat = shifted(geolat_t,geolon_t)\n",
    "uvstd2 = shifted(uvstd,geolon_t)\n",
    "h2 = shifted(h,geolon_t)"
   ]
  },
  {
   "cell_type": "code",
   "execution_count": null,
   "metadata": {
    "collapsed": true
   },
   "outputs": [],
   "source": [
    "\n",
    "map = Basemap(projection='mbtfpq',lon_0 = 0,resolution='l')\n",
    "map.drawcoastlines(linewidth=0.25)\n",
    "map.fillcontinents(color='gray',lake_color='gray')\n",
    "map.drawparallels(np.arange(-60.,61.,30.),labels=[True,False,False,False])\n",
    "map.drawmeridians(np.arange(-180.,181.,90.),labels=[False,False,False,True])\n",
    "X, Y = map(lon,lat) \n",
    "\n",
    "map.contourf(X,Y,uvstd2, colors='k',linewidths=0.5,levels=clev) \n",
    "cb=plt.colorbar(orientation='vertical',shrink = 0.7)\n",
    "cb.ax.set_xlabel('m')\n",
    "\n",
    "map.contour(X,Y,h,levels=klev,extend='max') #CMRmap_r, gist_stern_r\n",
    "#cb.ax.yaxis.set_major_formatter(x_formatter)\n",
    "plt.title('(STD of Bottom Vels)')"
   ]
  }
 ],
 "metadata": {
  "anaconda-cloud": {},
  "kernelspec": {
   "display_name": "Python [conda env:oceanpy27]",
   "language": "python",
   "name": "conda-env-oceanpy27-py"
  },
  "language_info": {
   "codemirror_mode": {
    "name": "ipython",
    "version": 2
   },
   "file_extension": ".py",
   "mimetype": "text/x-python",
   "name": "python",
   "nbconvert_exporter": "python",
   "pygments_lexer": "ipython2",
   "version": "2.7.13"
  }
 },
 "nbformat": 4,
 "nbformat_minor": 1
}
