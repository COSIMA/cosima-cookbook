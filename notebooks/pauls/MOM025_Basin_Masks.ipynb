{
 "cells": [
  {
   "cell_type": "code",
   "execution_count": null,
   "metadata": {
    "collapsed": true
   },
   "outputs": [],
   "source": [
    "#Create mask for ATl for AMOC calculations"
   ]
  },
  {
   "cell_type": "code",
   "execution_count": 2,
   "metadata": {
    "collapsed": false
   },
   "outputs": [
    {
     "name": "stdout",
     "output_type": "stream",
     "text": [
      "Populating the interactive namespace from numpy and matplotlib\n"
     ]
    }
   ],
   "source": [
    "# Load modules\n",
    "%pylab inline\n",
    "from netCDF4 import Dataset # to work with NetCDF files\n",
    "import numpy as np\n",
    "import matplotlib.pyplot as plt # to generate plots\n",
    "from mpl_toolkits.basemap import Basemap # plot on map projections\n",
    "from os.path import expanduser\n",
    "home = expanduser(\"~\") # Get users home directory\n",
    "import os # operating system interface\n",
    "\n",
    "import xarray as xr\n",
    "from xarray.ufuncs import square, sqrt\n",
    "import scipy.interpolate\n",
    "\n"
   ]
  },
  {
   "cell_type": "code",
   "execution_count": 4,
   "metadata": {
    "collapsed": false
   },
   "outputs": [
    {
     "name": "stdout",
     "output_type": "stream",
     "text": [
      "(1080, 1440)\n"
     ]
    }
   ],
   "source": [
    "#extract the MOM model grid info - 50 and 75 vertical levels\n",
    "hgrid_file ='/g/data1/v45/pas561/mom/archive/gfdl_nyf_1080/mom025_ocean_grid.nc'\n",
    "\n",
    "# Extract the variables\n",
    "nc = Dataset(hgrid_file, mode='r') # file handle, open in read only mode\n",
    "geolon_t = nc.variables['geolon_t'][:]\n",
    "geolat_t = nc.variables['geolat_t'][:]\n",
    "area_t = nc.variables['area_t'][:]\n",
    "dxt = nc.variables['dxt'][:]\n",
    "dyt = nc.variables['dyt'][:]\n",
    "kmu = nc.variables['kmu'][:]\n",
    "kmt = nc.variables['kmt'][:]\n",
    "nc.close() # close the file\n",
    "print geolon_t.shape\n"
   ]
  },
  {
   "cell_type": "code",
   "execution_count": 6,
   "metadata": {
    "collapsed": false
   },
   "outputs": [
    {
     "name": "stdout",
     "output_type": "stream",
     "text": [
      "(1080, 1440)\n",
      "(1080, 1440)\n"
     ]
    }
   ],
   "source": [
    "#plot hovmoeller of AMOC evolution. create Atlantic Mask.\n",
    "#write land sea mask to txt file, for hand editing.\n",
    "msk=np.copy(kmu)\n",
    "print msk.shape\n",
    "msk[np.where(kmu<=0)]=0\n",
    "\n",
    "for j in range(0,531):\n",
    "    for i in range(840,1200):\n",
    "        if kmu[j,i]>0:\n",
    "            msk[j,i]=-1\n",
    "for j in range(530,650):\n",
    "    for i in range(807,1200):\n",
    "        if kmu[j,i]>0:\n",
    "            msk[j,i]=-1\n",
    "\n",
    "for j in range(532,650):\n",
    "    for i in range(806,1200):\n",
    "        if kmu[j,i]>0:\n",
    "            msk[j,i]=-1\n",
    "\n",
    "for j in range(533,650):\n",
    "    for i in range(805,1200):\n",
    "        if kmu[j,i]>0:\n",
    "            msk[j,i]=-1\n",
    "\n",
    "for j in range(533,538):\n",
    "    for i in range(786,1200):\n",
    "        if kmu[j,i]>0:\n",
    "            msk[j,i]=-1            \n",
    "            \n",
    "for j in range(535,650):\n",
    "    for i in range(786,1200):\n",
    "        if kmu[j,i]>0:\n",
    "            msk[j,i]=-1\n",
    "\n",
    "for j in range(539,650):\n",
    "    for i in range(777,1200):\n",
    "        if kmu[j,i]>0:\n",
    "            msk[j,i]=-1\n",
    "\n",
    "for j in range(561,650):\n",
    "    for i in range(747,1200):\n",
    "        if kmu[j,i]>0:\n",
    "            msk[j,i]=-1\n",
    "\n",
    "for j in range(570,624):\n",
    "    for i in range(707,1200):\n",
    "        if kmu[j,i]>0:\n",
    "            msk[j,i]=-1\n",
    "\n",
    "for j in range(625,1080):\n",
    "    for i in range(707,1440):\n",
    "        if kmu[j,i]>0:\n",
    "            msk[j,i]=-1\n",
    "\n",
    "for j in range(625,1080):\n",
    "    for i in range(707,1440):\n",
    "        if kmu[j,i]>0:\n",
    "            msk[j,i]=-1\n",
    "\n",
    "for j in range(854,1080):\n",
    "    for i in range(0,1440):\n",
    "        if kmu[j,i]>0:\n",
    "            msk[j,i]=-1\n",
    "\n",
    "            \n",
    "#lsu_msk= kmu > 0\n",
    "#reate Atlantic Mask.\n",
    "#write land sea mask to txt file, for hand editing.\n",
    "msk=np.copy(kmu)\n",
    "print msk.shape\n",
    "msk[np.where(kmu<=0)]=0\n",
    "\n",
    "for j in range(0,531):\n",
    "    for i in range(840,1200):\n",
    "        if kmu[j,i]>0:\n",
    "            msk[j,i]=-1\n",
    "for j in range(530,650):\n",
    "    for i in range(807,1200):\n",
    "        if kmu[j,i]>0:\n",
    "            msk[j,i]=-1\n",
    "\n",
    "for j in range(532,650):\n",
    "    for i in range(806,1200):\n",
    "        if kmu[j,i]>0:\n",
    "            msk[j,i]=-1\n",
    "\n",
    "for j in range(533,650):\n",
    "    for i in range(805,1200):\n",
    "        if kmu[j,i]>0:\n",
    "            msk[j,i]=-1\n",
    "\n",
    "for j in range(533,538):\n",
    "    for i in range(786,1200):\n",
    "        if kmu[j,i]>0:\n",
    "            msk[j,i]=-1            \n",
    "            \n",
    "for j in range(535,650):\n",
    "    for i in range(786,1200):\n",
    "        if kmu[j,i]>0:\n",
    "            msk[j,i]=-1\n",
    "\n",
    "for j in range(539,650):\n",
    "    for i in range(777,1200):\n",
    "        if kmu[j,i]>0:\n",
    "            msk[j,i]=-1\n",
    "\n",
    "for j in range(561,650):\n",
    "    for i in range(747,1200):\n",
    "        if kmu[j,i]>0:\n",
    "            msk[j,i]=-1\n",
    "\n",
    "for j in range(570,624):\n",
    "    for i in range(707,1200):\n",
    "        if kmu[j,i]>0:\n",
    "            msk[j,i]=-1\n",
    "\n",
    "for j in range(625,1080):\n",
    "    for i in range(707,1440):\n",
    "        if kmu[j,i]>0:\n",
    "            msk[j,i]=-1\n",
    "\n",
    "for j in range(625,1080):\n",
    "    for i in range(707,1440):\n",
    "        if kmu[j,i]>0:\n",
    "            msk[j,i]=-1\n",
    "\n",
    "for j in range(854,1080):\n",
    "    for i in range(0,1440):\n",
    "        if kmu[j,i]>0:\n",
    "            msk[j,i]=-1\n",
    "\n",
    "            \n",
    "#lsu_msk= kmu > 0\n",
    "#print lsu_msk.shape\n",
    "#print lsu_msk[:,500]\n",
    "#np.savetxt('/g/data1/v45/pas561/mom/archive/gfdl_nyf_1080/basin_mask.txt',lsu_msk,'%1i',delimiter=' ')\n",
    "\n",
    "#import netCDF4 as nc4\n",
    "#kmt.to_dataset(name=\"basin_mask\").to_netcdf('/g/data1/v45/pas561/mom/archive/gfdl_nyf_1080/basin_mask.nc')\n"
   ]
  },
  {
   "cell_type": "code",
   "execution_count": 10,
   "metadata": {
    "collapsed": true
   },
   "outputs": [],
   "source": [
    "#set all other ocean values to -2\n",
    "msk[np.where(msk>0)]=-2\n"
   ]
  },
  {
   "cell_type": "code",
   "execution_count": 11,
   "metadata": {
    "collapsed": false
   },
   "outputs": [
    {
     "name": "stdout",
     "output_type": "stream",
     "text": [
      "(1080, 1440)\n",
      "(1080, 1440)\n"
     ]
    }
   ],
   "source": [
    "#import netCDF4 as nc4\n",
    "#kmt.to_dataset(name=\"mask\").to_netcdf('/g/data1/v45/pas561/mom/archive/gfdl_nyf_1080/basin_mask.nc')\n",
    "\n",
    "import netCDF4 as nc4\n",
    "\n",
    "ofile = nc4.Dataset('/g/data1/v45/pas561/mom/archive/gfdl_nyf_1080/basin_mask.nc', 'a')\n",
    "\n",
    "var = ofile.variables['kmt']\n",
    "print var.shape\n",
    "print msk.shape\n",
    "var[:] = msk\n",
    "\n",
    "ofile.sync()\n",
    "ofile.close()"
   ]
  },
  {
   "cell_type": "code",
   "execution_count": 12,
   "metadata": {
    "collapsed": false
   },
   "outputs": [
    {
     "data": {
      "image/png": "[encoded data removed]",
      "text/plain": [
       "<matplotlib.figure.Figure at 0x7f575115c5d0>"
      ]
     },
     "metadata": {},
     "output_type": "display_data"
    }
   ],
   "source": [
    "plt.imshow(msk)\n",
    "plt.gca().invert_yaxis()\n",
    "plt.show()"
   ]
  },
  {
   "cell_type": "code",
   "execution_count": 13,
   "metadata": {
    "collapsed": false
   },
   "outputs": [
    {
     "data": {
      "image/png": "[encoded data removed]",
      "text/plain": [
       "<matplotlib.figure.Figure at 0x7f5714058950>"
      ]
     },
     "metadata": {},
     "output_type": "display_data"
    }
   ],
   "source": [
    "msk[np.where(msk<-1)]=0\n",
    "plt.imshow(msk)\n",
    "plt.gca().invert_yaxis()\n",
    "plt.show()"
   ]
  },
  {
   "cell_type": "code",
   "execution_count": null,
   "metadata": {
    "collapsed": true
   },
   "outputs": [],
   "source": []
  }
 ],
 "metadata": {
  "kernelspec": {
   "display_name": "Python [conda env:oceanpy27]",
   "language": "python",
   "name": "conda-env-oceanpy27-py"
  },
  "language_info": {
   "codemirror_mode": {
    "name": "ipython",
    "version": 2
   },
   "file_extension": ".py",
   "mimetype": "text/x-python",
   "name": "python",
   "nbconvert_exporter": "python",
   "pygments_lexer": "ipython2",
   "version": "2.7.13"
  }
 },
 "nbformat": 4,
 "nbformat_minor": 2
}
