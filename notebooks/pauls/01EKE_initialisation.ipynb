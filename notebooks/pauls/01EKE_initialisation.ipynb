{
 "cells": [
  {
   "cell_type": "code",
   "execution_count": 11,
   "metadata": {
    "collapsed": true
   },
   "outputs": [],
   "source": [
    "# Step 01: Isolates EKE output from Kial Stewart's mk_KDS75_bottom_EKE[3].py\n",
    "# script.\n",
    "\n",
    "# Step 01_1: Regrids botvel onto regular lat/lon from Paul's code provided\n",
    "# in 17/01/2018 email."
   ]
  },
  {
   "cell_type": "code",
   "execution_count": 12,
   "metadata": {
    "collapsed": true
   },
   "outputs": [],
   "source": [
    "#Import modules\n",
    "import netCDF4 as nc"
   ]
  },
  {
   "cell_type": "code",
   "execution_count": 13,
   "metadata": {},
   "outputs": [
    {
     "name": "stdout",
     "output_type": "stream",
     "text": [
      "(3600,) (2700,) (1, 2700, 3600)\n",
      "-279.899993896 80.0\n"
     ]
    }
   ],
   "source": [
    "#Import EKE (computed by Kial Stewart - script provided in an email)\n",
    "gridfile = nc.Dataset('/Users/mandithran/Dropbox/PhD/Contourites/eke/KDS75_bottom_terms_for_Paul.nc','r')\n",
    "xu_ocean = gridfile.variables['xu_ocean'][:] #Change these for finalised\n",
    "yu_ocean = gridfile.variables['yu_ocean'][:] #Change these for finalised\n",
    "bot_K = gridfile.variables['bot_K'][:,:] #Change these for finalised\n",
    "gridfile.close()\n",
    "\n",
    "#Check shape of arrays\n",
    "print xu_ocean.shape, yu_ocean.shape, bot_K.shape\n",
    "#Check min and max of longitudes\n",
    "print xu_ocean.min(), xu_ocean.max()\n"
   ]
  },
  {
   "cell_type": "code",
   "execution_count": 14,
   "metadata": {
    "collapsed": true
   },
   "outputs": [],
   "source": [
    "# STEP 01 (optional step): Isolate eke and get rid of time variable,\n",
    "# write file back out (time variable was making it unreadable in Panoply)\n",
    "\n",
    "#From Kial's script:\n",
    "\n",
    "eddyfile = nc.Dataset('/Users/mandithran/Dropbox/PhD/Contourites/eke/KDS75_bottom_terms_eke01.nc', 'w', format='NETCDF4')\n",
    "\n",
    "#For creating x,y dimensions for output netCDF file\n",
    "xn = len(xu_ocean) #3600 # number of longitude points\n",
    "yn = len(yu_ocean) #2700 # number of latitude points\n",
    "eddyfile.createDimension('yu_ocean',yn)\n",
    "eddyfile.createDimension('xu_ocean',xn)\n",
    "lat = eddyfile.createVariable('yu_ocean','f8',('yu_ocean',)) #yu_ocean\n",
    "lat.long_name = 'ucell latitude'\n",
    "lat.units = 'degrees_N'\n",
    "lat.cartesian_axis = 'Y'\n",
    "eddyfile.variables['yu_ocean'][:] = yu_ocean\n",
    "lon = eddyfile.createVariable('xu_ocean','f8',('xu_ocean',)) #xu_ocean\n",
    "lon.long_name = 'ucell longitude'\n",
    "lon.units = 'degrees_E'\n",
    "lon.cartesian_axis = 'X'\n",
    "eddyfile.variables['xu_ocean'][:] = xu_ocean\n",
    "Fssh_bar = eddyfile.createVariable('bot_K','f8',('yu_ocean','xu_ocean',),fill_value=1.e+20)\n",
    "Fssh_bar.long_name = 'EKE_bottom'\n",
    "Fssh_bar.units = 'm2s-2'\n",
    "Fssh_bar.valid_range = -1000., 1000.\n",
    "Fssh_bar.missing_value = 1.e+20\n",
    "Fssh_bar.cell_methods = 'time: mean'\n",
    "Fssh_bar.coordinates = 'lon lat'\n",
    "Fssh_bar.standard_name = 'EKE_bottom'\n",
    "eddyfile.variables['bot_K'][:,:] = bot_K\n",
    "eddyfile.close()\n",
    "\n",
    "\n",
    "# Note: if you get a \"permission denied\" error with\n",
    "# this step, just remove the output file generated \n",
    "# at the end of the cell (if present), and it will\n",
    "# regenerate the file with no problems."
   ]
  },
  {
   "cell_type": "markdown",
   "metadata": {},
   "source": [
    "## Step 01_1:\n",
    "\n",
    "Comments directly from Paul's code:\n",
    "\n",
    "\"This works by over-writing a variable in an existing netcdf file that has geolon_t and geolat_t then use cdo to interpolate to a regular grid. The cdo commands need to be done in the terminal window\" (Mandi comment: use magic (!) in iPython notebook)\"\n",
    "\n",
    "Adding a mask helps with computational efficiency while MOM is actually running (time and resources would otherwise be wasted over land). This mask needs to be corrected for before the regridding.\n",
    "\n",
    "\n",
    "## Potential errors:\n",
    "\n",
    "If this cell throws a permissions error, stops, or keeps running [*] inexplicably, just restart the kernel and make sure the unmasked_vars_for_cdo_regrid.nc made in this cell has been removed - if you're de-bugging, put this line at the top of the cell: ! rm unmasked_vars_for_cdo_regrid.nc"
   ]
  },
  {
   "cell_type": "code",
   "execution_count": null,
   "metadata": {},
   "outputs": [
    {
     "name": "stdout",
     "output_type": "stream",
     "text": [
      "rm: unmasked_vars_for_cdo_regrid_01_1.nc: No such file or directory\n",
      "(2700, 3600)\n",
      "(2700, 3600)\n",
      "(2700, 3600)\n",
      "(2700, 3600)\n",
      "cdo remapbil: Started child process \"selname,beta /Users/mandithran/Dropbox/PhD/Contourites/eke/unmasked_vars_for_cdo_regrid.nc (pipe1.1)\".\n",
      "Warning (cdf_set_var) : Inconsistent variable definition for geolat_c!\n",
      "Warning (cdf_set_var) : Inconsistent variable definition for geolat_t!\n",
      "Warning (cdf_set_var) : Inconsistent variable definition for geolon_c!\n",
      "Warning (cdf_set_var) : Inconsistent variable definition for geolon_t!\n",
      "cdo remapbil: SCRIP bilinear weights from curvilinear (3600x2700) to lonlat (3600x2700) grid, with source mask (6071846)\n",
      "cdo remapbil:   0%\b\b\b\b  0%\b\b\b\b  1%\b\b\b\b  2%\b\b\b\b  3%\b\b\b\b  4%\b\b\b\b  5%\b\b\b\b  6%\b\b\b\b  7%\b\b\b\b  8%\b\b\b\b  9%\b\b\b\b 10%\b\b\b\b 11%\b\b\b\b 12%\b\b\b\b 13%\b\b\b\b 14%\b\b\b\b 15%\b\b\b\b 16%\b\b\b\b 17%\b\b\b\b 18%\b\b\b\b 19%\b\b\b\b 20%\b\b\b\b 21%\b\b\b\b 22%\b\b\b\b 23%\b\b\b\b 24%\b\b\b\b 25%\b\b\b\b 26%\b\b\b\b 27%\b\b\b\b 28%\b\b\b\b 29%\b\b\b\b 30%\b\b\b\b 31%\b\b\b\b 32%\b\b\b\b 33%\b\b\b\b 34%\b\b\b\b 35%\b\b\b\b 36%\b\b\b\b 37%\b\b\b\b 38%\b\b\b\b 39%\b\b\b\b 40%\b\b\b\b 41%\b\b\b\b 42%\b\b\b\b 43%\b\b\b\b 44%\b\b\b\b 45%\b\b\b\b 46%\b\b\b\b 47%\b\b\b\b 48%\b\b\b\b 49%\b\b\b\b 50%\b\b\b\b 51%\b\b\b\b 52%\b\b\b\b 53%\b\b\b\b 54%\b\b\b\b 55%\b\b\b\b 56%\b\b\b\b 57%\b\b\b\b 58%\b\b\b\b 59%\b\b\b\b 60%\b\b\b\b 61%\b\b\b\b 62%\b\b\b\b 63%\b\b\b\b 64%\b\b\b\b 65%\b\b\b\b 66%\b\b\b\b 67%\b\b\b\b 68%\b\b\b\b 69%\b\b\b\b 70%\b\b\b\b 71%\b\b\b\b 72%\b\b\b\b 73%\b\b\b\b 74%\b\b\b\b 75%\b\b\b\b 76%\b\b\b\b 77%\b\b\b\b 78%\b\b\b\b 79%\b\b\b\b 80%\b\b\b\b 81%\b\b\b\b 82%\b\b\b\b 83%\b\b\b\b 84%\b\b\b\b 85%\b\b\b\b 86%\b\b\b\b 87%\b\b\b\b 88%\b\b\b\b 89%"
     ]
    }
   ],
   "source": [
    "import subprocess as sub\n",
    "\n",
    "# For debugging purposes. Otherwise I get a permissions error (even when running locally). This can probably be permanently rectified by figuring out the source of the permissions error...\n",
    "! rm unmasked_vars_for_cdo_regrid.nc\n",
    "! rm unmasked_vars_for_cdo_regrid_01_1.nc\n",
    "\n",
    "\n",
    "# Import file from Step 01 (previous cell)\n",
    "\n",
    "# Running locally:\n",
    "ifile = nc.Dataset(\\\n",
    "                   '/Users/mandithran/Dropbox/PhD/Contourites/eke/KDS75_bottom_terms_eke01.nc',\\\n",
    "                   format='NETCDF4') # local directory\n",
    "\n",
    "# Raijin path:\n",
    "#ifile = nc.Dataset(\\\n",
    "#                   '/g/data1/v45/pas561/mom/archive/KDS75/KDS75_bottom_terms_eke01',\\\n",
    "#                   format='NETCDF4')\n",
    "\n",
    "# Variable name can be queried, or alternatively,\n",
    "# pop it into Panoply, which will list it. If created\n",
    "# in previous step, just look it up in previous cell.\n",
    "\n",
    "\n",
    "#Assign variable\n",
    "target_var = ifile.variables['bot_K'][:,:]                                    \n",
    "ifile.close()\n",
    "\n",
    "\n",
    "# Assign masked and unmasked vars grids as python variables\n",
    "unmasked_ocean_grid = '/Users/mandithran/Dropbox/PhD/Contourites/eke/unmasked_ocean_grid.nc'\n",
    "unmasked_vars_for_cdo_regrid = '/Users/mandithran/Dropbox/PhD/Contourites/eke/unmasked_vars_for_cdo_regrid.nc'\n",
    "\n",
    "\n",
    "# If running locally, you need to rsync the'unmasked_ocean_grid.nc' input file from Raijin.\n",
    "# Directory: /g/data1/v45/pas561/mom/archive/KDS75/\n",
    "! ncks -v beta,geolat_t,geolon_t,kmt,geolon_c,geolat_c $unmasked_ocean_grid $unmasked_vars_for_cdo_regrid\n",
    "\n",
    "ofile = nc.Dataset(unmasked_vars_for_cdo_regrid, 'r')\n",
    "beta = ofile.variables['beta'][:,:]\n",
    "ofile.close()\n",
    "\n",
    "\n",
    "# Check shape - vars must be of the same dimension\n",
    "print beta.shape\n",
    "print target_var.shape\n",
    "beta[:] = target_var # Write variable of interest for regrid\n",
    "\n",
    "\n",
    "# Overwriting unmasked_vars_for_cdo_regrid.nc file:\n",
    "ofile = nc.Dataset('/Users/mandithran/Dropbox/PhD/Contourites/eke/unmasked_vars_for_cdo_regrid.nc', 'a')\n",
    "var = ofile.variables['beta']\n",
    "print var.shape\n",
    "print target_var.shape\n",
    "var[:] = target_var\n",
    "ofile.sync()\n",
    "ofile.close()\n",
    "\n",
    "\n",
    "# Regridding step\n",
    "! cdo remapbil,r3600x2700 -selname,beta $unmasked_vars_for_cdo_regrid regrid_beta.nc\n",
    "\n",
    "#For multiple vertical levels?\n",
    "#cdo remapbil,r3600x2700x75 -selname,temp unmasked_vars_for_cdo_regrid.nc regrid_temp.nc\n",
    "\n"
   ]
  },
  {
   "cell_type": "markdown",
   "metadata": {},
   "source": [
    "## Problems along the way\n",
    "\n",
    "1. CDO was complaining about an unsupported file type (netCDF4). Apparently, HDF5 had to be configured in a particular way such that it was \"netcdf4 supported\".\n",
    "    - Checked cdo config using: cdo -V (saw that packages were not being recognized)\n",
    "    - Tried uninstalling/reinstalling relevant packages\n",
    "    - Homebrew suddenly couldn't find cdo\n",
    "    - Tried exporting file from ipython notebook as netCDF3 classic, but this was futile because my cdo still wasn't working\n",
    "    - Tried setting up a virtual environment. First time I used a package manager. Then I tried installing all libraries from source, following steps here: tinyurl.com/haaewsk\n",
    "    - This didn't work (Jasper install instructions were tricky in virtual environment, tried Quick Install instead to no avail tinyurl.com/y7n2h7yu)\n",
    "    - Found this page tinyurl.com/y9udsqtg which said that homebrew/science tap has now been deprecated - explained why Homebrew wasn't finding formula before\n",
    "    - SOLUTION uninstall/reinstall cdo using: brew install brewsci/science/cdo;\n",
    "    or,\n",
    "    brew upgrade brewsci/science/cdo.\n",
    "    but if new updates to the formula are needed (on new CDO versions) a new tap must be maintained. See: tinyurl.com/y9udsqtg\n",
    "\n",
    "2. CDO didn't know what to do with the new file I exported in previous cell before regridding step.\n",
    "    - Best guess: according to errors, seems like it looks for variables with lat/lon in the name\n",
    "    - Simplest solution: simply overwrite unmasked_vars_for_cdo_regrid.nc with code provided in email (written in last block of previous cell)\n",
    "    - Another solution: probably renaming the variables but I can't really be bothered doing that right now."
   ]
  },
  {
   "cell_type": "markdown",
   "metadata": {},
   "source": [
    "#Old code for writing out new file:\n",
    "\n",
    "\"\"\"# Write out new grid for cdo regrid step. Originally overwrote unmasked_vars_for_cdo_regrid.nc (see next block).\n",
    "unmasked_vars_for_cdo_regrid_01_1 = '/Users/mandithran/Dropbox/PhD/Contourites/eke/unmasked_vars_for_cdo_regrid_01_1.nc'\n",
    "ofile_01_1 = nc.Dataset(unmasked_vars_for_cdo_regrid_01_1, 'w', format='NETCDF4')\n",
    "xn = len(xu_ocean) #3600 # number of longitude points\n",
    "yn = len(yu_ocean) #2700 # number of latitude points\n",
    "ofile_01_1.createDimension('yu_ocean',yn)\n",
    "ofile_01_1.createDimension('xu_ocean',xn)\n",
    "lat = ofile_01_1.createVariable('yu_ocean','f8',('yu_ocean',)) #yu_ocean\n",
    "lat.long_name = 'ucell latitude'\n",
    "lat.units = 'degrees_N'\n",
    "lat.cartesian_axis = 'Y'\n",
    "ofile_01_1.variables['yu_ocean'][:] = yu_ocean\n",
    "lon = ofile_01_1.createVariable('xu_ocean','f8',('xu_ocean',)) #xu_ocean\n",
    "lon.long_name = 'ucell longitude'\n",
    "lon.units = 'degrees_E'\n",
    "lon.cartesian_axis = 'X'\n",
    "ofile_01_1.variables['xu_ocean'][:] = xu_ocean\n",
    "Fssh_bar = ofile_01_1.createVariable('beta','f8',('yu_ocean','xu_ocean',),fill_value=1.e+20)\n",
    "Fssh_bar.long_name = 'EKE_bottom' # Replace with desired attributes\n",
    "Fssh_bar.units = 'm2s-2'\n",
    "Fssh_bar.valid_range = -1000., 1000.\n",
    "Fssh_bar.missing_value = 1.e+20\n",
    "Fssh_bar.cell_methods = 'time: mean'\n",
    "Fssh_bar.coordinates = 'lon lat'\n",
    "Fssh_bar.standard_name = 'EKE_bottom'\n",
    "ofile_01_1.variables['beta'][:,:] = beta\n",
    "ofile_01_1.close()\"\"\""
   ]
  }
 ],
 "metadata": {
  "anaconda-cloud": {},
  "kernelspec": {
   "display_name": "Python [conda env:analysis27]",
   "language": "python",
   "name": "conda-env-analysis27-py"
  },
  "language_info": {
   "codemirror_mode": {
    "name": "ipython",
    "version": 2
   },
   "file_extension": ".py",
   "mimetype": "text/x-python",
   "name": "python",
   "nbconvert_exporter": "python",
   "pygments_lexer": "ipython2",
   "version": "2.7.14"
  }
 },
 "nbformat": 4,
 "nbformat_minor": 1
}
