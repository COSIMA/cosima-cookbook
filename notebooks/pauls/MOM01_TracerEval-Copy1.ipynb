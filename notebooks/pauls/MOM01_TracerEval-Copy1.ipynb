{
 "cells": [
  {
   "cell_type": "markdown",
   "metadata": {},
   "source": [
    "## MOM01 Tracer Evaluations"
   ]
  },
  {
   "cell_type": "code",
   "execution_count": 1,
   "metadata": {
    "collapsed": false
   },
   "outputs": [
    {
     "name": "stdout",
     "output_type": "stream",
     "text": [
      "Populating the interactive namespace from numpy and matplotlib\n"
     ]
    }
   ],
   "source": [
    "# Load modules\n",
    "%pylab inline\n",
    "from netCDF4 import Dataset # to work with NetCDF files\n",
    "import numpy as np\n",
    "import matplotlib.pyplot as plt # to generate plots\n",
    "from mpl_toolkits.basemap import Basemap # plot on map projections\n",
    "from os.path import expanduser\n",
    "home = expanduser(\"~\") # Get users home directory\n",
    "import os # operating system interface\n",
    "\n",
    "import xarray\n",
    "from xarray.ufuncs import square, sqrt\n",
    "#import scipy\n",
    "#sfrom scipy.interpolate import RegularGridInterpolator, griddata"
   ]
  },
  {
   "cell_type": "code",
   "execution_count": 2,
   "metadata": {
    "collapsed": false
   },
   "outputs": [
    {
     "name": "stdout",
     "output_type": "stream",
     "text": [
      "(2700, 3600)\n",
      "(75,)\n",
      "(50,)\n"
     ]
    }
   ],
   "source": [
    "hgrid_file ='/g/data1/v45/pas561/mom/archive/VertOverturn/mom01_unmasked_ocean_grid.nc'\n",
    "vgrid75_file ='/g/data1/v45/pas561/mom/archive/VertOverturn/kds75.uvwt.230-257.ncra.nc'\n",
    "vgrid50_file ='/g/data3/hh5/tmp/cosima/mom01v5/GFDL50/gfdl50.uvwt.384_403.ncra.nc'\n",
    "\n",
    "# Extract the variables\n",
    "nc = Dataset(hgrid_file, mode='r') # file handle, open in read only mode\n",
    "geolon_t = nc.variables['geolon_t'][:]\n",
    "geolat_t = nc.variables['geolat_t'][:]\n",
    "area_t = nc.variables['area_t'][:]\n",
    "dxt = nc.variables['dxt'][:]\n",
    "dyt = nc.variables['dyt'][:]\n",
    "#beta = nc.variables['beta'][:]\n",
    "#f_coriolis=nc.variables['f_coriolis'][:]\n",
    "#potrho = nc.variables['potrho'][:]\n",
    "#ssh = nc.variables[variable][:]\n",
    "#mld = nc.variables['mld'][:]\n",
    "#ty_trans_rho = nc.variables['ty_trans_rho'][0,:,:,:]\n",
    "nc.close() # close the file\n",
    "print geolon_t.shape\n",
    "\n",
    "nc = Dataset(vgrid75_file, mode='r') # file handle, open in read only mode\n",
    "sw75_ocean = nc.variables['sw_ocean'][:]\n",
    "st75_ocean = nc.variables['st_ocean'][:]\n",
    "yt_ocean = nc.variables['yt_ocean'][:]\n",
    "nc.close() # close the file\n",
    "\n",
    "nc = Dataset(vgrid50_file, mode='r') # file handle, open in read only mode\n",
    "sw50_ocean = nc.variables['sw_ocean'][:]\n",
    "st50_ocean = nc.variables['st_ocean'][:]\n",
    "yt_ocean = nc.variables['yt_ocean'][:]\n",
    "nc.close() # close the file\n",
    "\n",
    "print st75_ocean.shape\n",
    "print st50_ocean.shape\n"
   ]
  },
  {
   "cell_type": "code",
   "execution_count": null,
   "metadata": {
    "collapsed": true
   },
   "outputs": [],
   "source": [
    "DataDir = '/g/data3/hh5/tmp/cosima/mom01v5'\n",
    "\n",
    "expts = ['GFDL50','KDS75','KDS75_UP','KDS75_PI']\n",
    "#expts = ['GFDL50','KDS75']"
   ]
  },
  {
   "cell_type": "code",
   "execution_count": null,
   "metadata": {
    "collapsed": false
   },
   "outputs": [
    {
     "name": "stdout",
     "output_type": "stream",
     "text": [
      "/g/data3/hh5/tmp/cosima/mom01v5/GFDL50/output4*/ocean.nc\n",
      "(4, 50, 2700, 3600)\n",
      "(50, 2700, 3600)\n"
     ]
    }
   ],
   "source": [
    "#plt.figure(1)\n",
    "plt.figure(figsize(12.5,9.5))\n",
    "x_formatter = matplotlib.ticker.ScalarFormatter(useOffset=False)\n",
    "\n",
    "#plt.figure(2)\n",
    "#x_formatter = matplotlib.ticker.ScalarFormatter(useOffset=False)\n",
    "\n",
    "ii=-1\n",
    "nplot=0\n",
    "for e in expts:\n",
    "    \n",
    "    ii+=1\n",
    "    nplot+=1\n",
    "    \n",
    "    ExpDir = os.path.join(DataDir,e)\n",
    "    \n",
    "    if ii==0:\n",
    "        #this causes memory errors\n",
    "        OceanFile = os.path.join(DataDir,e,'output4*/ocean.nc')\n",
    "        print OceanFile\n",
    "        ff=xarray.open_mfdataset(OceanFile,engine='netcdf4',concat_dim='time',decode_times=False,chunks={'time':10,'xu_ocean':3600,'yu_ocean':2700})\n",
    "        print ff.temp.shape \n",
    "        tavg=ff.temp[-4:,:,:,:].mean('time')  \n",
    "    if ii==1:\n",
    "        OceanFile = os.path.join(DataDir,e,'output4*/ocean_month.nc')\n",
    "        print OceanFile\n",
    "        ff=xarray.open_mfdataset(OceanFile,engine='netcdf4',concat_dim='time',decode_times=False,chunks={'time':10,'xu_ocean':3600,'yu_ocean':2700})\n",
    "        print ff.temp.shape \n",
    "        tavg=ff.temp[-12:,:,:,:].mean('time')\n",
    "    if ii==2:\n",
    "        OceanFile = os.path.join(DataDir,e,'output3*/ocean.nc')\n",
    "        print OceanFile\n",
    "        ff=xarray.open_mfdataset(OceanFile,engine='netcdf4',concat_dim='time',decode_times=False,chunks={'time':10,'xu_ocean':3600,'yu_ocean':2700})\n",
    "        print ff.temp.shape \n",
    "        tavg=ff.temp[-4:,:,:,:].mean('time')\n",
    "    if ii==3:\n",
    "        OceanFile = os.path.join(DataDir,e,'output3*/ocean.nc')\n",
    "        print OceanFile\n",
    "        ff=xarray.open_mfdataset(OceanFile,engine='netcdf4',concat_dim='time',decode_times=False,chunks={'time':10,'xu_ocean':3600,'yu_ocean':2700})\n",
    "        print ff.temp.shape \n",
    "        tavg=ff.temp[-4:,:,:,:].mean('time')\n",
    "    #if ii==4:\n",
    "    #    OceanFile = os.path.join(DataDir,e,'output16*/ocean.nc')\n",
    "    #    print OceanFile\n",
    "    #    ff=xarray.open_mfdataset(OceanFile,engine='netcdf4',concat_dim='time',decode_times=False,chunks={'time':10,'xu_ocean':3600,'yu_ocean':2700})\n",
    "    #    print ff.temp.shape \n",
    "    #    tavg=ff.temp[-4:,:,:,:].mean('time')\n",
    "                \n",
    "    #tavg=np.ma.mean(ff.temp[-4:,:,:,:],axis=0)\n",
    "    print tavg.shape\n",
    "    #sst=tavg[1,:,:]\n",
    "    #print sst.shape\n",
    "    \n",
    "    plt.figure(1)\n",
    "    plt.subplot(2,2,nplot)\n",
    "    clev = np.arange(-2,34,1)\n",
    "    plt.contourf(geolon_t,geolat_t,tavg[1,:,:],cmap=plt.cm.PiYG,levels=clev,extend='both')\n",
    "    cb=plt.colorbar(orientation='vertical',shrink = 0.7)\n",
    "    cb.ax.set_xlabel('($^\\circ$C)')\n",
    "    plt.xlabel('Longitude ($^\\circ$W)')\n",
    "    plt.ylabel('Latitude ($^\\circ$N)')\n",
    "    #plt.xlim([-75,85])\n",
    "    plt.title(e)\n"
   ]
  },
  {
   "cell_type": "code",
   "execution_count": null,
   "metadata": {
    "collapsed": false
   },
   "outputs": [],
   "source": [
    "expts = ['GFDL50','KDS75']\n",
    "\n",
    "#plt.figure(1)\n",
    "plt.figure(figsize(12.5,9.5))\n",
    "x_formatter = matplotlib.ticker.ScalarFormatter(useOffset=False)\n",
    "\n",
    "#plt.figure(2)\n",
    "#x_formatter = matplotlib.ticker.ScalarFormatter(useOffset=False)\n",
    "\n",
    "ii=-1\n",
    "nplot=0\n",
    "for e in expts:\n",
    "    \n",
    "    ii+=1\n",
    "    nplot+=1\n",
    "    \n",
    "    ExpDir = os.path.join(DataDir,e)\n",
    "    \n",
    "    if ii==0:\n",
    "        #this causes memory errors\n",
    "        OceanFile = os.path.join(DataDir,e,'output4*/ocean.nc')\n",
    "        print OceanFile\n",
    "        ff=xarray.open_mfdataset(OceanFile,engine='netcdf4',concat_dim='time',decode_times=False,chunks={'time':10,'xu_ocean':3600,'yu_ocean':2700})\n",
    "        print ff.temp.shape \n",
    "        tavg=ff.temp[-4:,:,:,:].mean('time').mean('xt_ocean')  \n",
    "    if ii==1:\n",
    "        OceanFile = os.path.join(DataDir,e,'output4*/ocean_month.nc')\n",
    "        print OceanFile\n",
    "        ff=xarray.open_mfdataset(OceanFile,engine='netcdf4',concat_dim='time',decode_times=False,chunks={'time':10,'xu_ocean':3600,'yu_ocean':2700})\n",
    "        print ff.temp.shape \n",
    "        tavg=ff.temp[-12:,:,:,:].mean('time').mean('xt_ocean') \n",
    "    if ii==2:\n",
    "        OceanFile = os.path.join(DataDir,e,'output3*/ocean.nc')\n",
    "        print OceanFile\n",
    "        ff=xarray.open_mfdataset(OceanFile,engine='netcdf4',concat_dim='time',decode_times=False,chunks={'time':10,'xu_ocean':3600,'yu_ocean':2700})\n",
    "        print ff.temp.shape \n",
    "        tavg=ff.temp[-4:,:,:,:].mean('time')\n",
    "    if ii==3:\n",
    "        OceanFile = os.path.join(DataDir,e,'output3*/ocean.nc')\n",
    "        print OceanFile\n",
    "        ff=xarray.open_mfdataset(OceanFile,engine='netcdf4',concat_dim='time',decode_times=False,chunks={'time':10,'xu_ocean':3600,'yu_ocean':2700})\n",
    "        print ff.temp.shape \n",
    "        tavg=ff.temp[-4:,:,:,:].mean('time')\n",
    "    #if ii==4:\n",
    "    #    OceanFile = os.path.join(DataDir,e,'output16*/ocean.nc')\n",
    "    #    print OceanFile\n",
    "    #    ff=xarray.open_mfdataset(OceanFile,engine='netcdf4',concat_dim='time',decode_times=False,chunks={'time':10,'xu_ocean':3600,'yu_ocean':2700})\n",
    "    #    print ff.temp.shape \n",
    "    #    tavg=ff.temp[-4:,:,:,:].mean('time')\n",
    "                \n",
    "    #tavg=np.ma.mean(ff.temp[-4:,:,:,:],axis=0)\n",
    "    print tavg.shape\n",
    "    #sst=tavg[1,:,:]\n",
    "    #print sst.shape\n",
    "    \n",
    "    plt.figure(1)\n",
    "    plt.subplot(2,2,nplot)\n",
    "    clev = np.arange(-2,34,1)\n",
    "    plt.contourf(ff.yt_ocean,ff.st_ocean,tavg[:,:],cmap=plt.cm.PiYG,levels=clev,extend='both')\n",
    "    cb=plt.colorbar(orientation='vertical',shrink = 0.7)\n",
    "    cb.ax.set_xlabel('($^\\circ$C)')\n",
    "    plt.gca().invert_yaxis()\n",
    "    plt.xlabel('Latitude ($^\\circ$N)')\n",
    "    plt.ylabel('Depth (m)')\n",
    "    plt.xlabel('Latitude ($^\\circ$N)')\n",
    "    #plt.xlim([-75,85])\n",
    "    plt.title(e)"
   ]
  },
  {
   "cell_type": "markdown",
   "metadata": {},
   "source": []
  },
  {
   "cell_type": "code",
   "execution_count": null,
   "metadata": {
    "collapsed": false
   },
   "outputs": [],
   "source": []
  },
  {
   "cell_type": "code",
   "execution_count": null,
   "metadata": {
    "collapsed": false
   },
   "outputs": [],
   "source": []
  },
  {
   "cell_type": "code",
   "execution_count": null,
   "metadata": {
    "collapsed": false,
    "scrolled": true
   },
   "outputs": [],
   "source": []
  },
  {
   "cell_type": "code",
   "execution_count": null,
   "metadata": {
    "collapsed": false
   },
   "outputs": [],
   "source": []
  },
  {
   "cell_type": "code",
   "execution_count": null,
   "metadata": {
    "collapsed": false
   },
   "outputs": [],
   "source": []
  },
  {
   "cell_type": "code",
   "execution_count": null,
   "metadata": {
    "collapsed": false
   },
   "outputs": [],
   "source": []
  },
  {
   "cell_type": "code",
   "execution_count": null,
   "metadata": {
    "collapsed": false
   },
   "outputs": [],
   "source": []
  },
  {
   "cell_type": "code",
   "execution_count": null,
   "metadata": {
    "collapsed": false
   },
   "outputs": [],
   "source": []
  },
  {
   "cell_type": "code",
   "execution_count": null,
   "metadata": {
    "collapsed": false
   },
   "outputs": [],
   "source": []
  },
  {
   "cell_type": "code",
   "execution_count": null,
   "metadata": {
    "collapsed": false
   },
   "outputs": [],
   "source": []
  },
  {
   "cell_type": "code",
   "execution_count": null,
   "metadata": {
    "collapsed": false
   },
   "outputs": [],
   "source": []
  },
  {
   "cell_type": "code",
   "execution_count": null,
   "metadata": {
    "collapsed": false
   },
   "outputs": [],
   "source": []
  },
  {
   "cell_type": "code",
   "execution_count": null,
   "metadata": {
    "collapsed": false
   },
   "outputs": [],
   "source": []
  },
  {
   "cell_type": "code",
   "execution_count": null,
   "metadata": {
    "collapsed": true
   },
   "outputs": [],
   "source": []
  }
 ],
 "metadata": {
  "anaconda-cloud": {},
  "kernelspec": {
   "display_name": "Python [conda env:oceanpy27]",
   "language": "python",
   "name": "conda-env-oceanpy27-py"
  },
  "language_info": {
   "codemirror_mode": {
    "name": "ipython",
    "version": 2
   },
   "file_extension": ".py",
   "mimetype": "text/x-python",
   "name": "python",
   "nbconvert_exporter": "python",
   "pygments_lexer": "ipython2",
   "version": "2.7.13"
  }
 },
 "nbformat": 4,
 "nbformat_minor": 2
}
