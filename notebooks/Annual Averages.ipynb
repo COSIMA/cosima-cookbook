{
 "cells": [
  {
   "cell_type": "markdown",
   "metadata": {},
   "source": [
    "# Annual Averages of MOM 0.1 output"
   ]
  },
  {
   "cell_type": "code",
   "execution_count": 1,
   "metadata": {},
   "outputs": [
    {
     "name": "stderr",
     "output_type": "stream",
     "text": [
      "/short/v45/jm0634/conda/envs/cosima/lib/python3.6/site-packages/xarray/core/formatting.py:16: FutureWarning: The pandas.tslib module is deprecated and will be removed in a future version.\n",
      "  from pandas.tslib import OutOfBoundsDatetime\n"
     ]
    }
   ],
   "source": [
    "%matplotlib inline\n",
    "\n",
    "import os\n",
    "\n",
    "import xarray as xr\n",
    "from glob import glob\n",
    "\n",
    "from dask.dot import dot_graph\n",
    "from dask.diagnostics import Profiler, ResourceProfiler, CacheProfiler"
   ]
  },
  {
   "cell_type": "code",
   "execution_count": 2,
   "metadata": {},
   "outputs": [
    {
     "data": {
      "text/html": [
       "\n",
       "    <div class=\"bk-root\">\n",
       "        <a href=\"http://bokeh.pydata.org\" target=\"_blank\" class=\"bk-logo bk-logo-small bk-logo-notebook\"></a>\n",
       "        <span id=\"261a7ae9-4dbb-4e0e-8422-8a0662c4b75a\">Loading BokehJS ...</span>\n",
       "    </div>"
      ]
     },
     "metadata": {},
     "output_type": "display_data"
    },
    {
     "data": {
      "application/javascript": [
       "\n",
       "(function(global) {\n",
       "  function now() {\n",
       "    return new Date();\n",
       "  }\n",
       "\n",
       "  var force = true;\n",
       "\n",
       "  if (typeof (window._bokeh_onload_callbacks) === \"undefined\" || force === true) {\n",
       "    window._bokeh_onload_callbacks = [];\n",
       "    window._bokeh_is_loading = undefined;\n",
       "  }\n",
       "\n",
       "\n",
       "  \n",
       "  if (typeof (window._bokeh_timeout) === \"undefined\" || force === true) {\n",
       "    window._bokeh_timeout = Date.now() + 5000;\n",
       "    window._bokeh_failed_load = false;\n",
       "  }\n",
       "\n",
       "  var NB_LOAD_WARNING = {'data': {'text/html':\n",
       "     \"<div style='background-color: #fdd'>\\n\"+\n",
       "     \"<p>\\n\"+\n",
       "     \"BokehJS does not appear to have successfully loaded. If loading BokehJS from CDN, this \\n\"+\n",
       "     \"may be due to a slow or bad network connection. Possible fixes:\\n\"+\n",
       "     \"</p>\\n\"+\n",
       "     \"<ul>\\n\"+\n",
       "     \"<li>re-rerun `output_notebook()` to attempt to load from CDN again, or</li>\\n\"+\n",
       "     \"<li>use INLINE resources instead, as so:</li>\\n\"+\n",
       "     \"</ul>\\n\"+\n",
       "     \"<code>\\n\"+\n",
       "     \"from bokeh.resources import INLINE\\n\"+\n",
       "     \"output_notebook(resources=INLINE)\\n\"+\n",
       "     \"</code>\\n\"+\n",
       "     \"</div>\"}};\n",
       "\n",
       "  function display_loaded() {\n",
       "    if (window.Bokeh !== undefined) {\n",
       "      document.getElementById(\"261a7ae9-4dbb-4e0e-8422-8a0662c4b75a\").textContent = \"BokehJS successfully loaded.\";\n",
       "    } else if (Date.now() < window._bokeh_timeout) {\n",
       "      setTimeout(display_loaded, 100)\n",
       "    }\n",
       "  }\n",
       "\n",
       "  function run_callbacks() {\n",
       "    window._bokeh_onload_callbacks.forEach(function(callback) { callback() });\n",
       "    delete window._bokeh_onload_callbacks\n",
       "    console.info(\"Bokeh: all callbacks have finished\");\n",
       "  }\n",
       "\n",
       "  function load_libs(js_urls, callback) {\n",
       "    window._bokeh_onload_callbacks.push(callback);\n",
       "    if (window._bokeh_is_loading > 0) {\n",
       "      console.log(\"Bokeh: BokehJS is being loaded, scheduling callback at\", now());\n",
       "      return null;\n",
       "    }\n",
       "    if (js_urls == null || js_urls.length === 0) {\n",
       "      run_callbacks();\n",
       "      return null;\n",
       "    }\n",
       "    console.log(\"Bokeh: BokehJS not loaded, scheduling load and callback at\", now());\n",
       "    window._bokeh_is_loading = js_urls.length;\n",
       "    for (var i = 0; i < js_urls.length; i++) {\n",
       "      var url = js_urls[i];\n",
       "      var s = document.createElement('script');\n",
       "      s.src = url;\n",
       "      s.async = false;\n",
       "      s.onreadystatechange = s.onload = function() {\n",
       "        window._bokeh_is_loading--;\n",
       "        if (window._bokeh_is_loading === 0) {\n",
       "          console.log(\"Bokeh: all BokehJS libraries loaded\");\n",
       "          run_callbacks()\n",
       "        }\n",
       "      };\n",
       "      s.onerror = function() {\n",
       "        console.warn(\"failed to load library \" + url);\n",
       "      };\n",
       "      console.log(\"Bokeh: injecting script tag for BokehJS library: \", url);\n",
       "      document.getElementsByTagName(\"head\")[0].appendChild(s);\n",
       "    }\n",
       "  };var element = document.getElementById(\"261a7ae9-4dbb-4e0e-8422-8a0662c4b75a\");\n",
       "  if (element == null) {\n",
       "    console.log(\"Bokeh: ERROR: autoload.js configured with elementid '261a7ae9-4dbb-4e0e-8422-8a0662c4b75a' but no matching script tag was found. \")\n",
       "    return false;\n",
       "  }\n",
       "\n",
       "  var js_urls = [\"https://cdn.pydata.org/bokeh/release/bokeh-0.12.4.min.js\", \"https://cdn.pydata.org/bokeh/release/bokeh-widgets-0.12.4.min.js\"];\n",
       "\n",
       "  var inline_js = [\n",
       "    function(Bokeh) {\n",
       "      Bokeh.set_log_level(\"info\");\n",
       "    },\n",
       "    \n",
       "    function(Bokeh) {\n",
       "      \n",
       "      document.getElementById(\"261a7ae9-4dbb-4e0e-8422-8a0662c4b75a\").textContent = \"BokehJS is loading...\";\n",
       "    },\n",
       "    function(Bokeh) {\n",
       "      console.log(\"Bokeh: injecting CSS: https://cdn.pydata.org/bokeh/release/bokeh-0.12.4.min.css\");\n",
       "      Bokeh.embed.inject_css(\"https://cdn.pydata.org/bokeh/release/bokeh-0.12.4.min.css\");\n",
       "      console.log(\"Bokeh: injecting CSS: https://cdn.pydata.org/bokeh/release/bokeh-widgets-0.12.4.min.css\");\n",
       "      Bokeh.embed.inject_css(\"https://cdn.pydata.org/bokeh/release/bokeh-widgets-0.12.4.min.css\");\n",
       "    }\n",
       "  ];\n",
       "\n",
       "  function run_inline_js() {\n",
       "    \n",
       "    if ((window.Bokeh !== undefined) || (force === true)) {\n",
       "      for (var i = 0; i < inline_js.length; i++) {\n",
       "        inline_js[i](window.Bokeh);\n",
       "      }if (force === true) {\n",
       "        display_loaded();\n",
       "      }} else if (Date.now() < window._bokeh_timeout) {\n",
       "      setTimeout(run_inline_js, 100);\n",
       "    } else if (!window._bokeh_failed_load) {\n",
       "      console.log(\"Bokeh: BokehJS failed to load within specified timeout.\");\n",
       "      window._bokeh_failed_load = true;\n",
       "    } else if (force !== true) {\n",
       "      var cell = $(document.getElementById(\"261a7ae9-4dbb-4e0e-8422-8a0662c4b75a\")).parents('.cell').data().cell;\n",
       "      cell.output_area.append_execute_result(NB_LOAD_WARNING)\n",
       "    }\n",
       "\n",
       "  }\n",
       "\n",
       "  if (window._bokeh_is_loading === 0) {\n",
       "    console.log(\"Bokeh: BokehJS loaded, going straight to plotting\");\n",
       "    run_inline_js();\n",
       "  } else {\n",
       "    load_libs(js_urls, function() {\n",
       "      console.log(\"Bokeh: BokehJS plotting callback run at\", now());\n",
       "      run_inline_js();\n",
       "    });\n",
       "  }\n",
       "}(this));"
      ]
     },
     "metadata": {},
     "output_type": "display_data"
    }
   ],
   "source": [
    "from bokeh.plotting import output_notebook\n",
    "output_notebook()"
   ]
  },
  {
   "cell_type": "code",
   "execution_count": 3,
   "metadata": {
    "collapsed": true
   },
   "outputs": [],
   "source": [
    "from dask.diagnostics import ProgressBar\n",
    "pbar = ProgressBar()\n",
    "pbar.register()"
   ]
  },
  {
   "cell_type": "code",
   "execution_count": 4,
   "metadata": {
    "collapsed": true
   },
   "outputs": [],
   "source": [
    "DataDir = '/g/data3/hh5/tmp/cosima/mom01v5'\n",
    "\n",
    "expts = ['GFDL50','KDS75','KDS75_UP','KDS75_PI','KDS75_wind']"
   ]
  },
  {
   "cell_type": "code",
   "execution_count": 5,
   "metadata": {},
   "outputs": [
    {
     "name": "stdout",
     "output_type": "stream",
     "text": [
      "CPU times: user 1.91 ms, sys: 2.5 ms, total: 4.41 ms\n",
      "Wall time: 7.96 ms\n"
     ]
    }
   ],
   "source": [
    "%%time\n",
    "# Annual mean of u\n",
    "expt = 'KDS75_UP'\n",
    "ExpDir = os.path.join(DataDir, expt)\n",
    "FileList = glob(os.path.join(ExpDir, 'output*/ocean.nc'))\n",
    "FileList.sort()"
   ]
  },
  {
   "cell_type": "code",
   "execution_count": 6,
   "metadata": {
    "collapsed": true
   },
   "outputs": [],
   "source": [
    "import warnings\n",
    "warnings.filterwarnings(\"ignore\", message=\"Unable to decode time axis into full numpy.datetime64 objects\")"
   ]
  },
  {
   "cell_type": "code",
   "execution_count": 7,
   "metadata": {},
   "outputs": [
    {
     "name": "stdout",
     "output_type": "stream",
     "text": [
      "[########################################] | 100% Completed |  5.4s\n",
      "CPU times: user 926 ms, sys: 158 ms, total: 1.08 s\n",
      "Wall time: 6.25 s\n"
     ]
    }
   ],
   "source": [
    "%%time\n",
    "from dask import bag \n",
    "datasets =  bag.from_sequence(FileList)\\\n",
    "              .map(lambda path: (path, xr.open_dataset(path, decode_times=True)))\\\n",
    "              .map(lambda path, ds: (path, ds.time))\\\n",
    "              .groupby(lambda p: p[1].time.data[0].year)\\\n",
    "              .map(lambda k, p: (k, [x[0] for x in p]))\n",
    "FilesByYear = dict(datasets.compute())"
   ]
  },
  {
   "cell_type": "code",
   "execution_count": 8,
   "metadata": {},
   "outputs": [
    {
     "data": {
      "text/plain": [
       "['/g/data3/hh5/tmp/cosima/mom01v5/KDS75_UP/output267/ocean.nc',\n",
       " '/g/data3/hh5/tmp/cosima/mom01v5/KDS75_UP/output269/ocean.nc',\n",
       " '/g/data3/hh5/tmp/cosima/mom01v5/KDS75_UP/output268/ocean.nc',\n",
       " '/g/data3/hh5/tmp/cosima/mom01v5/KDS75_UP/output266/ocean.nc']"
      ]
     },
     "execution_count": 8,
     "metadata": {},
     "output_type": "execute_result"
    }
   ],
   "source": [
    "year = 70\n",
    "FilesByYear[year]"
   ]
  },
  {
   "cell_type": "code",
   "execution_count": 22,
   "metadata": {},
   "outputs": [
    {
     "name": "stdout",
     "output_type": "stream",
     "text": [
      "CPU times: user 241 ms, sys: 9.29 ms, total: 250 ms\n",
      "Wall time: 249 ms\n"
     ]
    }
   ],
   "source": [
    "%%time\n",
    "datasets = [xr.open_dataset(fn,\n",
    "                         chunks={'time':1, 'st_ocean':7, 'yu_ocean':300, 'xu_ocean': 400},\n",
    "                        decode_times=False).isel(xu_ocean=slice(0,400)).u for fn in FilesByYear[year]]\n",
    "\n",
    "u_merged = xr.concat(datasets, \n",
    "                     dim='time',\n",
    "                     coords='all',\n",
    "            )\n",
    "\n",
    "u_avg = u_merged.mean(dim='time')\n"
   ]
  },
  {
   "cell_type": "code",
   "execution_count": 57,
   "metadata": {},
   "outputs": [
    {
     "name": "stdout",
     "output_type": "stream",
     "text": [
      "loading...\n",
      "[##########                              ] | 27% Completed |  0.3s"
     ]
    },
    {
     "name": "stderr",
     "output_type": "stream",
     "text": [
      "/short/v45/jm0634/conda/envs/cosima/lib/python3.6/site-packages/dask/array/numpy_compat.py:45: RuntimeWarning: invalid value encountered in true_divide\n",
      "  x = np.divide(x1, x2, out)\n"
     ]
    },
    {
     "name": "stdout",
     "output_type": "stream",
     "text": [
      "[########################################] | 100% Completed |  1.2s\n",
      "[########################################] | 100% Completed |  1.2s\n",
      "[########################################] | 100% Completed |  1.3s\n",
      "saving...\n",
      "CPU times: user 1.31 s, sys: 87.5 ms, total: 1.4 s\n",
      "Wall time: 1.34 s\n"
     ]
    }
   ],
   "source": [
    "%%time\n",
    "print('loading...')\n",
    "u_avg.load()\n",
    "print('saving...')\n",
    "u_avg.to_netcdf('u_100.nc')"
   ]
  },
  {
   "cell_type": "code",
   "execution_count": 23,
   "metadata": {},
   "outputs": [
    {
     "name": "stdout",
     "output_type": "stream",
     "text": [
      "[                                        ] | 1% Completed |  0.4s"
     ]
    },
    {
     "name": "stderr",
     "output_type": "stream",
     "text": [
      "/short/v45/jm0634/conda/envs/cosima/lib/python3.6/site-packages/dask/array/numpy_compat.py:45: RuntimeWarning: invalid value encountered in true_divide\n",
      "  x = np.divide(x1, x2, out)\n"
     ]
    },
    {
     "name": "stdout",
     "output_type": "stream",
     "text": [
      "[########################################] | 100% Completed | 13.7s\n"
     ]
    }
   ],
   "source": [
    "with Profiler() as prof, ResourceProfiler(dt=0.25) as rprof, CacheProfiler() as cprof:\n",
    "    u_avg.load()"
   ]
  },
  {
   "cell_type": "code",
   "execution_count": 24,
   "metadata": {},
   "outputs": [
    {
     "data": {
      "text/html": [
       "\n",
       "\n",
       "    <div class=\"bk-root\">\n",
       "        <div class=\"bk-plotdiv\" id=\"dc7b3f6e-228a-44b9-8a1d-824a28675306\"></div>\n",
       "    </div>\n",
       "<script type=\"text/javascript\">\n",
       "  \n",
       "  (function(global) {\n",
       "    function now() {\n",
       "      return new Date();\n",
       "    }\n",
       "  \n",
       "    var force = false;\n",
       "  \n",
       "    if (typeof (window._bokeh_onload_callbacks) === \"undefined\" || force === true) {\n",
       "      window._bokeh_onload_callbacks = [];\n",
       "      window._bokeh_is_loading = undefined;\n",
       "    }\n",
       "  \n",
       "  \n",
       "    \n",
       "    if (typeof (window._bokeh_timeout) === \"undefined\" || force === true) {\n",
       "      window._bokeh_timeout = Date.now() + 0;\n",
       "      window._bokeh_failed_load = false;\n",
       "    }\n",
       "  \n",
       "    var NB_LOAD_WARNING = {'data': {'text/html':\n",
       "       \"<div style='background-color: #fdd'>\\n\"+\n",
       "       \"<p>\\n\"+\n",
       "       \"BokehJS does not appear to have successfully loaded. If loading BokehJS from CDN, this \\n\"+\n",
       "       \"may be due to a slow or bad network connection. Possible fixes:\\n\"+\n",
       "       \"</p>\\n\"+\n",
       "       \"<ul>\\n\"+\n",
       "       \"<li>re-rerun `output_notebook()` to attempt to load from CDN again, or</li>\\n\"+\n",
       "       \"<li>use INLINE resources instead, as so:</li>\\n\"+\n",
       "       \"</ul>\\n\"+\n",
       "       \"<code>\\n\"+\n",
       "       \"from bokeh.resources import INLINE\\n\"+\n",
       "       \"output_notebook(resources=INLINE)\\n\"+\n",
       "       \"</code>\\n\"+\n",
       "       \"</div>\"}};\n",
       "  \n",
       "    function display_loaded() {\n",
       "      if (window.Bokeh !== undefined) {\n",
       "        document.getElementById(\"dc7b3f6e-228a-44b9-8a1d-824a28675306\").textContent = \"BokehJS successfully loaded.\";\n",
       "      } else if (Date.now() < window._bokeh_timeout) {\n",
       "        setTimeout(display_loaded, 100)\n",
       "      }\n",
       "    }\n",
       "  \n",
       "    function run_callbacks() {\n",
       "      window._bokeh_onload_callbacks.forEach(function(callback) { callback() });\n",
       "      delete window._bokeh_onload_callbacks\n",
       "      console.info(\"Bokeh: all callbacks have finished\");\n",
       "    }\n",
       "  \n",
       "    function load_libs(js_urls, callback) {\n",
       "      window._bokeh_onload_callbacks.push(callback);\n",
       "      if (window._bokeh_is_loading > 0) {\n",
       "        console.log(\"Bokeh: BokehJS is being loaded, scheduling callback at\", now());\n",
       "        return null;\n",
       "      }\n",
       "      if (js_urls == null || js_urls.length === 0) {\n",
       "        run_callbacks();\n",
       "        return null;\n",
       "      }\n",
       "      console.log(\"Bokeh: BokehJS not loaded, scheduling load and callback at\", now());\n",
       "      window._bokeh_is_loading = js_urls.length;\n",
       "      for (var i = 0; i < js_urls.length; i++) {\n",
       "        var url = js_urls[i];\n",
       "        var s = document.createElement('script');\n",
       "        s.src = url;\n",
       "        s.async = false;\n",
       "        s.onreadystatechange = s.onload = function() {\n",
       "          window._bokeh_is_loading--;\n",
       "          if (window._bokeh_is_loading === 0) {\n",
       "            console.log(\"Bokeh: all BokehJS libraries loaded\");\n",
       "            run_callbacks()\n",
       "          }\n",
       "        };\n",
       "        s.onerror = function() {\n",
       "          console.warn(\"failed to load library \" + url);\n",
       "        };\n",
       "        console.log(\"Bokeh: injecting script tag for BokehJS library: \", url);\n",
       "        document.getElementsByTagName(\"head\")[0].appendChild(s);\n",
       "      }\n",
       "    };var element = document.getElementById(\"dc7b3f6e-228a-44b9-8a1d-824a28675306\");\n",
       "    if (element == null) {\n",
       "      console.log(\"Bokeh: ERROR: autoload.js configured with elementid 'dc7b3f6e-228a-44b9-8a1d-824a28675306' but no matching script tag was found. \")\n",
       "      return false;\n",
       "    }\n",
       "  \n",
       "    var js_urls = [];\n",
       "  \n",
       "    var inline_js = [\n",
       "      function(Bokeh) {\n",
       "        (function() {\n",
       "          var fn = function() {\n",
       "            var docs_json = {\"98fcc0fb-bc73-47e7-b018-091db3eed77f\":{\"roots\":{\"references\":[{\"attributes\":{},\"id\":\"ab7dcc14-e5ba-4dfb-9458-d2618f2df122\",\"type\":\"BasicTickFormatter\"},{\"attributes\":{\"data_source\":{\"id\":\"fe31c9bb-3d4d-4451-b2db-38b0e6652891\",\"type\":\"ColumnDataSource\"},\"glyph\":{\"id\":\"55ef27ce-c9e4-4f3a-9e33-afce1f802b24\",\"type\":\"Line\"},\"hover_glyph\":null,\"nonselection_glyph\":{\"id\":\"c4dab6c5-c108-4b39-90e4-4591ccdd97ac\",\"type\":\"Line\"},\"selection_glyph\":null,\"y_range_name\":\"memory\"},\"id\":\"92feb933-8af7-4b08-86a2-7f351d239456\",\"type\":\"GlyphRenderer\"},{\"attributes\":{\"dimensions\":\"width\",\"plot\":{\"id\":\"cd9216ea-bf84-4fb6-8968-b03fdd60dc3f\",\"subtype\":\"Figure\",\"type\":\"Plot\"}},\"id\":\"05a27d7d-809f-4360-8ade-2cef1e46e7ea\",\"type\":\"PanTool\"},{\"attributes\":{\"callback\":null,\"end\":2757.066752,\"start\":646.61504},\"id\":\"32f583f4-d58e-432a-b66c-f66acfe7672e\",\"type\":\"Range1d\"},{\"attributes\":{\"items\":[{\"id\":\"1f242bc5-8e64-49f3-acca-a41e2ad51425\",\"type\":\"LegendItem\"},{\"id\":\"3e145aef-dff1-459f-9a3a-88fb442c3d09\",\"type\":\"LegendItem\"}],\"plot\":{\"id\":\"cd9216ea-bf84-4fb6-8968-b03fdd60dc3f\",\"subtype\":\"Figure\",\"type\":\"Plot\"}},\"id\":\"12ac9561-dc95-46fe-b22f-51a9f96be281\",\"type\":\"Legend\"},{\"attributes\":{\"callback\":null,\"column_names\":[\"x\",\"y\"],\"data\":{\"x\":[0.0,0.2507296111434698,0.5013976842164993,0.8110064892098308,1.0616450728848577,1.3124377629719675,1.5632026540115476,1.8140026638284326,2.064814721234143,2.3156402111053467,2.5664453031495214,2.817238295916468,3.06798525294289,3.318724098149687,3.5695026610046625,3.8202523421496153,4.071104887872934,4.321869113016874,4.572620193939656,4.823310898151249,5.074054482858628,5.324857246130705,5.575611092150211,5.826386666856706,6.077168653253466,6.327929581981152,6.578715650830418,6.829426061827689,7.080151773057878,7.33087318809703,7.581668577156961,7.832513912115246,8.083354871254414,8.334160115104169,8.584891518112272,8.835669338237494,9.086430829949677,9.337228763848543,9.588042275980115,9.83880398888141,10.089581910986453,10.340394287835807,10.59120203088969,10.842003274243325,11.092903260141611,11.343636957928538,11.594490572810173,11.84523220313713,12.095868599135429,12.346671320032328,12.597415457013994,12.84821479814127,13.09896187717095,13.349697857163846,13.600540262181312,13.851338284090161,14.10212095407769,14.352911867201328,14.603600196074694],\"y\":[646.61504,646.61504,646.61504,781.18912,887.042048,1111.003136,1406.6688,1751.339008,1989.001216,2002.6368,1954.832384,1952.50176,1945.862144,1976.057856,1844.748288,1782.484992,1728.262144,1789.227008,1863.696384,1929.302016,2079.973376,2132.967424,2145.521664,2148.524032,2149.552128,2199.252992,2128.326656,2208.452608,2184.343552,2186.170368,2270.584832,2234.605568,2293.743616,2256.216064,2267.860992,2347.573248,2265.501696,2376.142848,2357.153792,2339.602432,2425.131008,2389.180416,2425.5488,2400.632832,2424.561664,2501.873664,2461.53216,2512.797696,2482.180096,2485.366784,2516.516864,2587.308032,2559.26272,2545.491968,2437.664768,2262.298624,2211.508224,2279.477248,2757.066752]}},\"id\":\"fe31c9bb-3d4d-4451-b2db-38b0e6652891\",\"type\":\"ColumnDataSource\"},{\"attributes\":{},\"id\":\"ee5a8fa4-5fb4-4d9b-bd0e-51a5380e8d1e\",\"type\":\"ToolEvents\"},{\"attributes\":{\"line_alpha\":{\"value\":0.1},\"line_color\":{\"value\":\"#1f77b4\"},\"line_width\":{\"value\":4},\"x\":{\"field\":\"x\"},\"y\":{\"field\":\"y\"}},\"id\":\"c4dab6c5-c108-4b39-90e4-4591ccdd97ac\",\"type\":\"Line\"},{\"attributes\":{\"line_color\":{\"value\":\"#440154\"},\"line_width\":{\"value\":4},\"x\":{\"field\":\"x\"},\"y\":{\"field\":\"y\"}},\"id\":\"d4c374f8-5112-4414-97da-acd614635054\",\"type\":\"Line\"},{\"attributes\":{},\"id\":\"c739a7c6-87c3-4ec4-a5fc-0ddd37f554d5\",\"type\":\"BasicTicker\"},{\"attributes\":{\"label\":{\"value\":\"Memory\"},\"renderers\":[{\"id\":\"92feb933-8af7-4b08-86a2-7f351d239456\",\"type\":\"GlyphRenderer\"}]},\"id\":\"3e145aef-dff1-459f-9a3a-88fb442c3d09\",\"type\":\"LegendItem\"},{\"attributes\":{\"below\":[{\"id\":\"d7179259-deb6-4910-a39a-4c7a4f14eaa1\",\"type\":\"LinearAxis\"}],\"extra_y_ranges\":{\"memory\":{\"id\":\"32f583f4-d58e-432a-b66c-f66acfe7672e\",\"type\":\"Range1d\"}},\"left\":[{\"id\":\"d84a2430-8e9b-4563-ad5d-ed5600ffb98a\",\"type\":\"LinearAxis\"}],\"plot_height\":300,\"plot_width\":800,\"renderers\":[{\"id\":\"d7179259-deb6-4910-a39a-4c7a4f14eaa1\",\"type\":\"LinearAxis\"},{\"id\":\"d732841c-9133-4b30-8bda-4e40584e1de3\",\"type\":\"Grid\"},{\"id\":\"d84a2430-8e9b-4563-ad5d-ed5600ffb98a\",\"type\":\"LinearAxis\"},{\"id\":\"a54b7582-947d-4669-ac6f-cd7722c80a66\",\"type\":\"Grid\"},{\"id\":\"12ac9561-dc95-46fe-b22f-51a9f96be281\",\"type\":\"Legend\"},{\"id\":\"963c32ef-5052-4be6-b588-9a6ddb668ccb\",\"type\":\"GlyphRenderer\"},{\"id\":\"92feb933-8af7-4b08-86a2-7f351d239456\",\"type\":\"GlyphRenderer\"},{\"id\":\"125174a0-c3d0-4984-bf9f-a09f1802edfd\",\"type\":\"LinearAxis\"}],\"right\":[{\"id\":\"125174a0-c3d0-4984-bf9f-a09f1802edfd\",\"type\":\"LinearAxis\"}],\"title\":{\"id\":\"67fae27e-3170-42ab-9295-b9c356ea15d0\",\"type\":\"Title\"},\"tool_events\":{\"id\":\"ee5a8fa4-5fb4-4d9b-bd0e-51a5380e8d1e\",\"type\":\"ToolEvents\"},\"toolbar\":{\"id\":\"7bc59502-69ff-4dfa-89bf-e0668d9144bf\",\"type\":\"Toolbar\"},\"x_range\":{\"id\":\"7412a622-1eaa-4598-a244-9b6a5059adaf\",\"type\":\"Range1d\"},\"y_range\":{\"id\":\"965d5bea-efc1-4472-b71f-79beb9c6cd6e\",\"type\":\"Range1d\"}},\"id\":\"cd9216ea-bf84-4fb6-8968-b03fdd60dc3f\",\"subtype\":\"Figure\",\"type\":\"Plot\"},{\"attributes\":{\"active_drag\":\"auto\",\"active_scroll\":\"auto\",\"active_tap\":\"auto\",\"tools\":[{\"id\":\"17e6dba1-9677-4d6d-a37f-cb022083648e\",\"type\":\"SaveTool\"},{\"id\":\"bd01e6b0-c849-40c0-b13a-6a1f8ccbcdbd\",\"type\":\"ResetTool\"},{\"id\":\"0da04d05-7c4a-46ea-8af6-6143594bb68f\",\"type\":\"ResizeTool\"},{\"id\":\"efa72d25-4d8c-4201-91b0-987d249ae4b3\",\"type\":\"WheelZoomTool\"},{\"id\":\"05a27d7d-809f-4360-8ade-2cef1e46e7ea\",\"type\":\"PanTool\"}]},\"id\":\"7bc59502-69ff-4dfa-89bf-e0668d9144bf\",\"type\":\"Toolbar\"},{\"attributes\":{\"line_alpha\":{\"value\":0.1},\"line_color\":{\"value\":\"#1f77b4\"},\"line_width\":{\"value\":4},\"x\":{\"field\":\"x\"},\"y\":{\"field\":\"y\"}},\"id\":\"ca031555-1e86-4ffe-870a-6704c3bc966b\",\"type\":\"Line\"},{\"attributes\":{\"plot\":null,\"text\":\"Profile Results\"},\"id\":\"67fae27e-3170-42ab-9295-b9c356ea15d0\",\"type\":\"Title\"},{\"attributes\":{},\"id\":\"2534640e-21e6-4719-8673-75975d9fbc1b\",\"type\":\"BasicTicker\"},{\"attributes\":{\"callback\":null,\"column_names\":[\"x\",\"y\"],\"data\":{\"x\":[0.0,0.2507296111434698,0.5013976842164993,0.8110064892098308,1.0616450728848577,1.3124377629719675,1.5632026540115476,1.8140026638284326,2.064814721234143,2.3156402111053467,2.5664453031495214,2.817238295916468,3.06798525294289,3.318724098149687,3.5695026610046625,3.8202523421496153,4.071104887872934,4.321869113016874,4.572620193939656,4.823310898151249,5.074054482858628,5.324857246130705,5.575611092150211,5.826386666856706,6.077168653253466,6.327929581981152,6.578715650830418,6.829426061827689,7.080151773057878,7.33087318809703,7.581668577156961,7.832513912115246,8.083354871254414,8.334160115104169,8.584891518112272,8.835669338237494,9.086430829949677,9.337228763848543,9.588042275980115,9.83880398888141,10.089581910986453,10.340394287835807,10.59120203088969,10.842003274243325,11.092903260141611,11.343636957928538,11.594490572810173,11.84523220313713,12.095868599135429,12.346671320032328,12.597415457013994,12.84821479814127,13.09896187717095,13.349697857163846,13.600540262181312,13.851338284090161,14.10212095407769,14.352911867201328,14.603600196074694],\"y\":[0.0,99.7,99.7,171.2,163.5,171.5,183.4,215.3,203.4,187.4,175.4,155.5,211.4,207.4,203.4,179.4,191.4,187.4,191.5,151.6,175.5,239.2,211.4,179.4,151.5,167.5,231.3,227.4,171.5,151.6,175.4,243.2,215.3,175.5,147.6,183.4,223.3,227.2,171.5,151.5,179.4,223.3,223.3,167.5,155.5,171.5,231.2,219.4,167.5,147.5,167.5,239.2,223.4,179.5,155.5,203.4,223.3,139.6,95.8]}},\"id\":\"abf1b75c-2639-4b23-9246-ed23ebed6f23\",\"type\":\"ColumnDataSource\"},{\"attributes\":{\"data_source\":{\"id\":\"abf1b75c-2639-4b23-9246-ed23ebed6f23\",\"type\":\"ColumnDataSource\"},\"glyph\":{\"id\":\"d4c374f8-5112-4414-97da-acd614635054\",\"type\":\"Line\"},\"hover_glyph\":null,\"nonselection_glyph\":{\"id\":\"ca031555-1e86-4ffe-870a-6704c3bc966b\",\"type\":\"Line\"},\"selection_glyph\":null},\"id\":\"963c32ef-5052-4be6-b588-9a6ddb668ccb\",\"type\":\"GlyphRenderer\"},{\"attributes\":{\"axis_label\":\"Memory (MB)\",\"formatter\":{\"id\":\"64fe143c-af1a-4a00-b937-0b10cdf482fc\",\"type\":\"BasicTickFormatter\"},\"plot\":{\"id\":\"cd9216ea-bf84-4fb6-8968-b03fdd60dc3f\",\"subtype\":\"Figure\",\"type\":\"Plot\"},\"ticker\":{\"id\":\"c739a7c6-87c3-4ec4-a5fc-0ddd37f554d5\",\"type\":\"BasicTicker\"},\"y_range_name\":\"memory\"},\"id\":\"125174a0-c3d0-4984-bf9f-a09f1802edfd\",\"type\":\"LinearAxis\"},{\"attributes\":{\"plot\":{\"id\":\"cd9216ea-bf84-4fb6-8968-b03fdd60dc3f\",\"subtype\":\"Figure\",\"type\":\"Plot\"}},\"id\":\"bd01e6b0-c849-40c0-b13a-6a1f8ccbcdbd\",\"type\":\"ResetTool\"},{\"attributes\":{\"plot\":{\"id\":\"cd9216ea-bf84-4fb6-8968-b03fdd60dc3f\",\"subtype\":\"Figure\",\"type\":\"Plot\"}},\"id\":\"17e6dba1-9677-4d6d-a37f-cb022083648e\",\"type\":\"SaveTool\"},{\"attributes\":{\"callback\":null,\"end\":14.603600196074694},\"id\":\"7412a622-1eaa-4598-a244-9b6a5059adaf\",\"type\":\"Range1d\"},{\"attributes\":{\"callback\":null,\"end\":243.2},\"id\":\"965d5bea-efc1-4472-b71f-79beb9c6cd6e\",\"type\":\"Range1d\"},{\"attributes\":{},\"id\":\"32b9071b-4d07-47ee-bea5-f993e32d82c7\",\"type\":\"BasicTicker\"},{\"attributes\":{\"dimensions\":\"width\",\"plot\":{\"id\":\"cd9216ea-bf84-4fb6-8968-b03fdd60dc3f\",\"subtype\":\"Figure\",\"type\":\"Plot\"}},\"id\":\"efa72d25-4d8c-4201-91b0-987d249ae4b3\",\"type\":\"WheelZoomTool\"},{\"attributes\":{},\"id\":\"64fe143c-af1a-4a00-b937-0b10cdf482fc\",\"type\":\"BasicTickFormatter\"},{\"attributes\":{\"axis_label\":\"Time (s)\",\"formatter\":{\"id\":\"ab7dcc14-e5ba-4dfb-9458-d2618f2df122\",\"type\":\"BasicTickFormatter\"},\"plot\":{\"id\":\"cd9216ea-bf84-4fb6-8968-b03fdd60dc3f\",\"subtype\":\"Figure\",\"type\":\"Plot\"},\"ticker\":{\"id\":\"32b9071b-4d07-47ee-bea5-f993e32d82c7\",\"type\":\"BasicTicker\"}},\"id\":\"d7179259-deb6-4910-a39a-4c7a4f14eaa1\",\"type\":\"LinearAxis\"},{\"attributes\":{\"plot\":{\"id\":\"cd9216ea-bf84-4fb6-8968-b03fdd60dc3f\",\"subtype\":\"Figure\",\"type\":\"Plot\"},\"ticker\":{\"id\":\"32b9071b-4d07-47ee-bea5-f993e32d82c7\",\"type\":\"BasicTicker\"}},\"id\":\"d732841c-9133-4b30-8bda-4e40584e1de3\",\"type\":\"Grid\"},{\"attributes\":{\"line_color\":{\"value\":\"#29788E\"},\"line_width\":{\"value\":4},\"x\":{\"field\":\"x\"},\"y\":{\"field\":\"y\"}},\"id\":\"55ef27ce-c9e4-4f3a-9e33-afce1f802b24\",\"type\":\"Line\"},{\"attributes\":{\"label\":{\"value\":\"% CPU\"},\"renderers\":[{\"id\":\"963c32ef-5052-4be6-b588-9a6ddb668ccb\",\"type\":\"GlyphRenderer\"}]},\"id\":\"1f242bc5-8e64-49f3-acca-a41e2ad51425\",\"type\":\"LegendItem\"},{\"attributes\":{\"dimension\":1,\"plot\":{\"id\":\"cd9216ea-bf84-4fb6-8968-b03fdd60dc3f\",\"subtype\":\"Figure\",\"type\":\"Plot\"},\"ticker\":{\"id\":\"2534640e-21e6-4719-8673-75975d9fbc1b\",\"type\":\"BasicTicker\"}},\"id\":\"a54b7582-947d-4669-ac6f-cd7722c80a66\",\"type\":\"Grid\"},{\"attributes\":{},\"id\":\"aacfa4b6-76f7-4030-b22e-503139119d22\",\"type\":\"BasicTickFormatter\"},{\"attributes\":{\"axis_label\":\"% CPU\",\"formatter\":{\"id\":\"aacfa4b6-76f7-4030-b22e-503139119d22\",\"type\":\"BasicTickFormatter\"},\"plot\":{\"id\":\"cd9216ea-bf84-4fb6-8968-b03fdd60dc3f\",\"subtype\":\"Figure\",\"type\":\"Plot\"},\"ticker\":{\"id\":\"2534640e-21e6-4719-8673-75975d9fbc1b\",\"type\":\"BasicTicker\"}},\"id\":\"d84a2430-8e9b-4563-ad5d-ed5600ffb98a\",\"type\":\"LinearAxis\"},{\"attributes\":{\"plot\":{\"id\":\"cd9216ea-bf84-4fb6-8968-b03fdd60dc3f\",\"subtype\":\"Figure\",\"type\":\"Plot\"}},\"id\":\"0da04d05-7c4a-46ea-8af6-6143594bb68f\",\"type\":\"ResizeTool\"}],\"root_ids\":[\"cd9216ea-bf84-4fb6-8968-b03fdd60dc3f\"]},\"title\":\"Bokeh Application\",\"version\":\"0.12.4\"}};\n",
       "            var render_items = [{\"docid\":\"98fcc0fb-bc73-47e7-b018-091db3eed77f\",\"elementid\":\"dc7b3f6e-228a-44b9-8a1d-824a28675306\",\"modelid\":\"cd9216ea-bf84-4fb6-8968-b03fdd60dc3f\"}];\n",
       "            \n",
       "            Bokeh.embed.embed_items(docs_json, render_items);\n",
       "          };\n",
       "          if (document.readyState != \"loading\") fn();\n",
       "          else document.addEventListener(\"DOMContentLoaded\", fn);\n",
       "        })();\n",
       "      },\n",
       "      function(Bokeh) {\n",
       "      }\n",
       "    ];\n",
       "  \n",
       "    function run_inline_js() {\n",
       "      \n",
       "      if ((window.Bokeh !== undefined) || (force === true)) {\n",
       "        for (var i = 0; i < inline_js.length; i++) {\n",
       "          inline_js[i](window.Bokeh);\n",
       "        }if (force === true) {\n",
       "          display_loaded();\n",
       "        }} else if (Date.now() < window._bokeh_timeout) {\n",
       "        setTimeout(run_inline_js, 100);\n",
       "      } else if (!window._bokeh_failed_load) {\n",
       "        console.log(\"Bokeh: BokehJS failed to load within specified timeout.\");\n",
       "        window._bokeh_failed_load = true;\n",
       "      } else if (force !== true) {\n",
       "        var cell = $(document.getElementById(\"dc7b3f6e-228a-44b9-8a1d-824a28675306\")).parents('.cell').data().cell;\n",
       "        cell.output_area.append_execute_result(NB_LOAD_WARNING)\n",
       "      }\n",
       "  \n",
       "    }\n",
       "  \n",
       "    if (window._bokeh_is_loading === 0) {\n",
       "      console.log(\"Bokeh: BokehJS loaded, going straight to plotting\");\n",
       "      run_inline_js();\n",
       "    } else {\n",
       "      load_libs(js_urls, function() {\n",
       "        console.log(\"Bokeh: BokehJS plotting callback run at\", now());\n",
       "        run_inline_js();\n",
       "      });\n",
       "    }\n",
       "  }(this));\n",
       "</script>"
      ]
     },
     "metadata": {},
     "output_type": "display_data"
    },
    {
     "data": {
      "text/html": [
       "<div style=\"display: table;\"><div style=\"display: table-row;\"><div style=\"display: table-cell;\"><b title=\"bokeh.plotting.figure.Figure\">Figure</b>(</div><div style=\"display: table-cell;\">id&nbsp;=&nbsp;'cd9216ea-bf84-4fb6-8968-b03fdd60dc3f', <span id=\"59553078-d248-4f0e-b6e1-95a08abd816d\" style=\"cursor: pointer;\">&hellip;)</span></div></div><div class=\"d71423f2-1603-456a-ad25-8a7273ad8051\" style=\"display: none;\"><div style=\"display: table-cell;\"></div><div style=\"display: table-cell;\">above&nbsp;=&nbsp;[],</div></div><div class=\"d71423f2-1603-456a-ad25-8a7273ad8051\" style=\"display: none;\"><div style=\"display: table-cell;\"></div><div style=\"display: table-cell;\">background_fill_alpha&nbsp;=&nbsp;{'value': 1.0},</div></div><div class=\"d71423f2-1603-456a-ad25-8a7273ad8051\" style=\"display: none;\"><div style=\"display: table-cell;\"></div><div style=\"display: table-cell;\">background_fill_color&nbsp;=&nbsp;{'value': '#ffffff'},</div></div><div class=\"d71423f2-1603-456a-ad25-8a7273ad8051\" style=\"display: none;\"><div style=\"display: table-cell;\"></div><div style=\"display: table-cell;\">below&nbsp;=&nbsp;[LinearAxis(id='d7179259-deb6-4910-a39a-4c7a4f14eaa1', ...)],</div></div><div class=\"d71423f2-1603-456a-ad25-8a7273ad8051\" style=\"display: none;\"><div style=\"display: table-cell;\"></div><div style=\"display: table-cell;\">border_fill_alpha&nbsp;=&nbsp;{'value': 1.0},</div></div><div class=\"d71423f2-1603-456a-ad25-8a7273ad8051\" style=\"display: none;\"><div style=\"display: table-cell;\"></div><div style=\"display: table-cell;\">border_fill_color&nbsp;=&nbsp;{'value': '#ffffff'},</div></div><div class=\"d71423f2-1603-456a-ad25-8a7273ad8051\" style=\"display: none;\"><div style=\"display: table-cell;\"></div><div style=\"display: table-cell;\">css_classes&nbsp;=&nbsp;None,</div></div><div class=\"d71423f2-1603-456a-ad25-8a7273ad8051\" style=\"display: none;\"><div style=\"display: table-cell;\"></div><div style=\"display: table-cell;\">disabled&nbsp;=&nbsp;False,</div></div><div class=\"d71423f2-1603-456a-ad25-8a7273ad8051\" style=\"display: none;\"><div style=\"display: table-cell;\"></div><div style=\"display: table-cell;\">extra_x_ranges&nbsp;=&nbsp;{},</div></div><div class=\"d71423f2-1603-456a-ad25-8a7273ad8051\" style=\"display: none;\"><div style=\"display: table-cell;\"></div><div style=\"display: table-cell;\">extra_y_ranges&nbsp;=&nbsp;{'memory': Range1d(id='32f583f4-d58e-432a-b66c-f66acfe7672e', ...)},</div></div><div class=\"d71423f2-1603-456a-ad25-8a7273ad8051\" style=\"display: none;\"><div style=\"display: table-cell;\"></div><div style=\"display: table-cell;\">h_symmetry&nbsp;=&nbsp;True,</div></div><div class=\"d71423f2-1603-456a-ad25-8a7273ad8051\" style=\"display: none;\"><div style=\"display: table-cell;\"></div><div style=\"display: table-cell;\">height&nbsp;=&nbsp;None,</div></div><div class=\"d71423f2-1603-456a-ad25-8a7273ad8051\" style=\"display: none;\"><div style=\"display: table-cell;\"></div><div style=\"display: table-cell;\">hidpi&nbsp;=&nbsp;True,</div></div><div class=\"d71423f2-1603-456a-ad25-8a7273ad8051\" style=\"display: none;\"><div style=\"display: table-cell;\"></div><div style=\"display: table-cell;\">js_callbacks&nbsp;=&nbsp;{},</div></div><div class=\"d71423f2-1603-456a-ad25-8a7273ad8051\" style=\"display: none;\"><div style=\"display: table-cell;\"></div><div style=\"display: table-cell;\">left&nbsp;=&nbsp;[LinearAxis(id='d84a2430-8e9b-4563-ad5d-ed5600ffb98a', ...)],</div></div><div class=\"d71423f2-1603-456a-ad25-8a7273ad8051\" style=\"display: none;\"><div style=\"display: table-cell;\"></div><div style=\"display: table-cell;\">lod_factor&nbsp;=&nbsp;10,</div></div><div class=\"d71423f2-1603-456a-ad25-8a7273ad8051\" style=\"display: none;\"><div style=\"display: table-cell;\"></div><div style=\"display: table-cell;\">lod_interval&nbsp;=&nbsp;300,</div></div><div class=\"d71423f2-1603-456a-ad25-8a7273ad8051\" style=\"display: none;\"><div style=\"display: table-cell;\"></div><div style=\"display: table-cell;\">lod_threshold&nbsp;=&nbsp;2000,</div></div><div class=\"d71423f2-1603-456a-ad25-8a7273ad8051\" style=\"display: none;\"><div style=\"display: table-cell;\"></div><div style=\"display: table-cell;\">lod_timeout&nbsp;=&nbsp;500,</div></div><div class=\"d71423f2-1603-456a-ad25-8a7273ad8051\" style=\"display: none;\"><div style=\"display: table-cell;\"></div><div style=\"display: table-cell;\">min_border&nbsp;=&nbsp;5,</div></div><div class=\"d71423f2-1603-456a-ad25-8a7273ad8051\" style=\"display: none;\"><div style=\"display: table-cell;\"></div><div style=\"display: table-cell;\">min_border_bottom&nbsp;=&nbsp;None,</div></div><div class=\"d71423f2-1603-456a-ad25-8a7273ad8051\" style=\"display: none;\"><div style=\"display: table-cell;\"></div><div style=\"display: table-cell;\">min_border_left&nbsp;=&nbsp;None,</div></div><div class=\"d71423f2-1603-456a-ad25-8a7273ad8051\" style=\"display: none;\"><div style=\"display: table-cell;\"></div><div style=\"display: table-cell;\">min_border_right&nbsp;=&nbsp;None,</div></div><div class=\"d71423f2-1603-456a-ad25-8a7273ad8051\" style=\"display: none;\"><div style=\"display: table-cell;\"></div><div style=\"display: table-cell;\">min_border_top&nbsp;=&nbsp;None,</div></div><div class=\"d71423f2-1603-456a-ad25-8a7273ad8051\" style=\"display: none;\"><div style=\"display: table-cell;\"></div><div style=\"display: table-cell;\">name&nbsp;=&nbsp;None,</div></div><div class=\"d71423f2-1603-456a-ad25-8a7273ad8051\" style=\"display: none;\"><div style=\"display: table-cell;\"></div><div style=\"display: table-cell;\">outline_line_alpha&nbsp;=&nbsp;{'value': 1.0},</div></div><div class=\"d71423f2-1603-456a-ad25-8a7273ad8051\" style=\"display: none;\"><div style=\"display: table-cell;\"></div><div style=\"display: table-cell;\">outline_line_cap&nbsp;=&nbsp;'butt',</div></div><div class=\"d71423f2-1603-456a-ad25-8a7273ad8051\" style=\"display: none;\"><div style=\"display: table-cell;\"></div><div style=\"display: table-cell;\">outline_line_color&nbsp;=&nbsp;{'value': '#e5e5e5'},</div></div><div class=\"d71423f2-1603-456a-ad25-8a7273ad8051\" style=\"display: none;\"><div style=\"display: table-cell;\"></div><div style=\"display: table-cell;\">outline_line_dash&nbsp;=&nbsp;[],</div></div><div class=\"d71423f2-1603-456a-ad25-8a7273ad8051\" style=\"display: none;\"><div style=\"display: table-cell;\"></div><div style=\"display: table-cell;\">outline_line_dash_offset&nbsp;=&nbsp;0,</div></div><div class=\"d71423f2-1603-456a-ad25-8a7273ad8051\" style=\"display: none;\"><div style=\"display: table-cell;\"></div><div style=\"display: table-cell;\">outline_line_join&nbsp;=&nbsp;'miter',</div></div><div class=\"d71423f2-1603-456a-ad25-8a7273ad8051\" style=\"display: none;\"><div style=\"display: table-cell;\"></div><div style=\"display: table-cell;\">outline_line_width&nbsp;=&nbsp;{'value': 1},</div></div><div class=\"d71423f2-1603-456a-ad25-8a7273ad8051\" style=\"display: none;\"><div style=\"display: table-cell;\"></div><div style=\"display: table-cell;\">plot_height&nbsp;=&nbsp;300,</div></div><div class=\"d71423f2-1603-456a-ad25-8a7273ad8051\" style=\"display: none;\"><div style=\"display: table-cell;\"></div><div style=\"display: table-cell;\">plot_width&nbsp;=&nbsp;800,</div></div><div class=\"d71423f2-1603-456a-ad25-8a7273ad8051\" style=\"display: none;\"><div style=\"display: table-cell;\"></div><div style=\"display: table-cell;\">renderers&nbsp;=&nbsp;[LinearAxis(id='d7179259-deb6-4910-a39a-4c7a4f14eaa1', ...), Grid(id='d732841c-9133-4b30-8bda-4e40584e1de3', ...), LinearAxis(id='d84a2430-8e9b-4563-ad5d-ed5600ffb98a', ...), Grid(id='a54b7582-947d-4669-ac6f-cd7722c80a66', ...), Legend(id='12ac9561-dc95-46fe-b22f-51a9f96be281', ...), GlyphRenderer(id='963c32ef-5052-4be6-b588-9a6ddb668ccb', ...), GlyphRenderer(id='92feb933-8af7-4b08-86a2-7f351d239456', ...), LinearAxis(id='125174a0-c3d0-4984-bf9f-a09f1802edfd', ...)],</div></div><div class=\"d71423f2-1603-456a-ad25-8a7273ad8051\" style=\"display: none;\"><div style=\"display: table-cell;\"></div><div style=\"display: table-cell;\">right&nbsp;=&nbsp;[LinearAxis(id='125174a0-c3d0-4984-bf9f-a09f1802edfd', ...)],</div></div><div class=\"d71423f2-1603-456a-ad25-8a7273ad8051\" style=\"display: none;\"><div style=\"display: table-cell;\"></div><div style=\"display: table-cell;\">sizing_mode&nbsp;=&nbsp;'fixed',</div></div><div class=\"d71423f2-1603-456a-ad25-8a7273ad8051\" style=\"display: none;\"><div style=\"display: table-cell;\"></div><div style=\"display: table-cell;\">tags&nbsp;=&nbsp;[],</div></div><div class=\"d71423f2-1603-456a-ad25-8a7273ad8051\" style=\"display: none;\"><div style=\"display: table-cell;\"></div><div style=\"display: table-cell;\">title&nbsp;=&nbsp;Title(id='67fae27e-3170-42ab-9295-b9c356ea15d0', ...),</div></div><div class=\"d71423f2-1603-456a-ad25-8a7273ad8051\" style=\"display: none;\"><div style=\"display: table-cell;\"></div><div style=\"display: table-cell;\">title_location&nbsp;=&nbsp;'above',</div></div><div class=\"d71423f2-1603-456a-ad25-8a7273ad8051\" style=\"display: none;\"><div style=\"display: table-cell;\"></div><div style=\"display: table-cell;\">tool_events&nbsp;=&nbsp;ToolEvents(id='ee5a8fa4-5fb4-4d9b-bd0e-51a5380e8d1e', ...),</div></div><div class=\"d71423f2-1603-456a-ad25-8a7273ad8051\" style=\"display: none;\"><div style=\"display: table-cell;\"></div><div style=\"display: table-cell;\">toolbar&nbsp;=&nbsp;Toolbar(id='7bc59502-69ff-4dfa-89bf-e0668d9144bf', ...),</div></div><div class=\"d71423f2-1603-456a-ad25-8a7273ad8051\" style=\"display: none;\"><div style=\"display: table-cell;\"></div><div style=\"display: table-cell;\">toolbar_location&nbsp;=&nbsp;'right',</div></div><div class=\"d71423f2-1603-456a-ad25-8a7273ad8051\" style=\"display: none;\"><div style=\"display: table-cell;\"></div><div style=\"display: table-cell;\">toolbar_sticky&nbsp;=&nbsp;True,</div></div><div class=\"d71423f2-1603-456a-ad25-8a7273ad8051\" style=\"display: none;\"><div style=\"display: table-cell;\"></div><div style=\"display: table-cell;\">v_symmetry&nbsp;=&nbsp;False,</div></div><div class=\"d71423f2-1603-456a-ad25-8a7273ad8051\" style=\"display: none;\"><div style=\"display: table-cell;\"></div><div style=\"display: table-cell;\">webgl&nbsp;=&nbsp;False,</div></div><div class=\"d71423f2-1603-456a-ad25-8a7273ad8051\" style=\"display: none;\"><div style=\"display: table-cell;\"></div><div style=\"display: table-cell;\">width&nbsp;=&nbsp;None,</div></div><div class=\"d71423f2-1603-456a-ad25-8a7273ad8051\" style=\"display: none;\"><div style=\"display: table-cell;\"></div><div style=\"display: table-cell;\">x_mapper_type&nbsp;=&nbsp;'auto',</div></div><div class=\"d71423f2-1603-456a-ad25-8a7273ad8051\" style=\"display: none;\"><div style=\"display: table-cell;\"></div><div style=\"display: table-cell;\">x_range&nbsp;=&nbsp;Range1d(id='7412a622-1eaa-4598-a244-9b6a5059adaf', ...),</div></div><div class=\"d71423f2-1603-456a-ad25-8a7273ad8051\" style=\"display: none;\"><div style=\"display: table-cell;\"></div><div style=\"display: table-cell;\">y_mapper_type&nbsp;=&nbsp;'auto',</div></div><div class=\"d71423f2-1603-456a-ad25-8a7273ad8051\" style=\"display: none;\"><div style=\"display: table-cell;\"></div><div style=\"display: table-cell;\">y_range&nbsp;=&nbsp;Range1d(id='965d5bea-efc1-4472-b71f-79beb9c6cd6e', ...))</div></div></div>\n",
       "<script>\n",
       "(function() {\n",
       "  var expanded = false;\n",
       "  var ellipsis = document.getElementById(\"59553078-d248-4f0e-b6e1-95a08abd816d\");\n",
       "  ellipsis.addEventListener(\"click\", function() {\n",
       "    var rows = document.getElementsByClassName(\"d71423f2-1603-456a-ad25-8a7273ad8051\");\n",
       "    for (var i = 0; i < rows.length; i++) {\n",
       "      var el = rows[i];\n",
       "      el.style.display = expanded ? \"none\" : \"table-row\";\n",
       "    }\n",
       "    ellipsis.innerHTML = expanded ? \"&hellip;)\" : \"&lsaquo;&lsaquo;&lsaquo;\";\n",
       "    expanded = !expanded;\n",
       "  });\n",
       "})();\n",
       "</script>\n"
      ],
      "text/plain": [
       "Figure(id='cd9216ea-bf84-4fb6-8968-b03fdd60dc3f', ...)"
      ]
     },
     "execution_count": 24,
     "metadata": {},
     "output_type": "execute_result"
    }
   ],
   "source": [
    "rprof.visualize()"
   ]
  },
  {
   "cell_type": "code",
   "execution_count": 12,
   "metadata": {},
   "outputs": [
    {
     "name": "stderr",
     "output_type": "stream",
     "text": [
      "IOPub data rate exceeded.\n",
      "The notebook server will temporarily stop sending output\n",
      "to the client in order to avoid crashing it.\n",
      "To change this limit, set the config variable\n",
      "`--NotebookApp.iopub_data_rate_limit`.\n"
     ]
    }
   ],
   "source": [
    "dot_graph(u_avg.data.dask, rankdir='LR')"
   ]
  },
  {
   "cell_type": "code",
   "execution_count": null,
   "metadata": {
    "collapsed": true
   },
   "outputs": [],
   "source": []
  }
 ],
 "metadata": {
  "kernelspec": {
   "display_name": "Python 3",
   "language": "python",
   "name": "python3"
  },
  "language_info": {
   "codemirror_mode": {
    "name": "ipython",
    "version": 3
   },
   "file_extension": ".py",
   "mimetype": "text/x-python",
   "name": "python",
   "nbconvert_exporter": "python",
   "pygments_lexer": "ipython3",
   "version": "3.6.1"
  }
 },
 "nbformat": 4,
 "nbformat_minor": 2
}
