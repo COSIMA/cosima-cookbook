{
 "cells": [
  {
   "cell_type": "markdown",
   "metadata": {},
   "source": [
    "# Bathymetry\n",
    "\n",
    "This is a simple example to show how to plot the model bathymetry. It uses cartopy, and the recently developed 0.1° topography."
   ]
  },
  {
   "cell_type": "code",
   "execution_count": 1,
   "metadata": {},
   "outputs": [
    {
     "name": "stdout",
     "output_type": "stream",
     "text": [
      "netcdf_index loaded.\n"
     ]
    },
    {
     "name": "stderr",
     "output_type": "stream",
     "text": [
      "/home/157/amh157/.local/lib/python3.6/site-packages/cmocean/tools.py:76: MatplotlibDeprecationWarning: The is_string_like function was deprecated in version 2.1.\n",
      "  if not mpl.cbook.is_string_like(rgbin[0]):\n"
     ]
    }
   ],
   "source": [
    "%matplotlib inline\n",
    "\n",
    "import cosima_cookbook as cc\n",
    "import matplotlib.pyplot as plt\n",
    "import xarray as xr\n",
    "import numpy as np\n",
    "import netCDF4 as nc\n",
    "import cartopy.crs as ccrs\n",
    "import cartopy.feature as cft\n",
    "import cmocean as cm\n",
    "import IPython.display"
   ]
  },
  {
   "cell_type": "code",
   "execution_count": 2,
   "metadata": {},
   "outputs": [],
   "source": [
    "file = '/g/data3/hh5/tmp/cosima/bathymetry/topog_latest.nc'\n",
    "data = nc.Dataset(file)\n",
    "depth = data.variables['depth'][:,:]"
   ]
  },
  {
   "cell_type": "code",
   "execution_count": null,
   "metadata": {},
   "outputs": [],
   "source": [
    "file2 = '/g/data3/hh5/tmp/cosima/bathymetry/ocean_hgrid.nc'\n",
    "data2 = nc.Dataset(file2)\n",
    "lons = data2.variables['x'][::2,::2]\n",
    "lats = data2.variables['y'][::2,::2]"
   ]
  },
  {
   "cell_type": "code",
   "execution_count": 3,
   "metadata": {},
   "outputs": [],
   "source": [
    "#lons = cc.get_nc_variable('KDS75_newbathy_JRA','ocean.nc','geolon_t',n=1).isel(time=0)\n",
    "#lats = cc.get_nc_variable('KDS75_newbathy_JRA','ocean.nc','geolat_t',n=1)[0,:,:]\n",
    "#IPython.display.clear_output()"
   ]
  },
  {
   "cell_type": "code",
   "execution_count": null,
   "metadata": {
    "scrolled": false
   },
   "outputs": [],
   "source": [
    "plt.figure(figsize=(17,10))\n",
    "ax = plt.axes(projection=ccrs.Robinson(central_longitude=0))\n",
    "ax.coastlines(resolution='50m')\n",
    "ax.add_feature(cft.LAND,color='gray')\n",
    "plt.pcolormesh(lons, lats, depth, cmap=cm.cm.deep, transform=ccrs.PlateCarree())\n",
    "plt.colorbar(shrink=0.5)\n",
    "plt.title('ACCESS-OM2-01 Bathymetry')\n",
    "#plt.savefig('../../bathymetry.png',dpi=300)"
   ]
  },
  {
   "cell_type": "code",
   "execution_count": null,
   "metadata": {},
   "outputs": [],
   "source": []
  }
 ],
 "metadata": {
  "kernelspec": {
   "display_name": "Python [conda env:analysis3]",
   "language": "python",
   "name": "conda-env-analysis3-py"
  },
  "language_info": {
   "codemirror_mode": {
    "name": "ipython",
    "version": 3
   },
   "file_extension": ".py",
   "mimetype": "text/x-python",
   "name": "python",
   "nbconvert_exporter": "python",
   "pygments_lexer": "ipython3",
   "version": "3.6.3"
  }
 },
 "nbformat": 4,
 "nbformat_minor": 2
}
