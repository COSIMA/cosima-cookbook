{
 "cells": [
  {
   "cell_type": "code",
   "execution_count": 1,
   "metadata": {},
   "outputs": [],
   "source": [
    "%matplotlib inline\n",
    "import cosima_cookbook as cc\n",
    "import matplotlib.pyplot as plt\n",
    "from mpl_toolkits.basemap import Basemap\n",
    "import numpy as np"
   ]
  },
  {
   "cell_type": "code",
   "execution_count": 2,
   "metadata": {},
   "outputs": [],
   "source": [
    "from joblib import Memory\n",
    "\n",
    "memory = Memory(cachedir='/g/data1/v45/cosima-cookbook/', verbose=0)"
   ]
  },
  {
   "cell_type": "code",
   "execution_count": 3,
   "metadata": {
    "scrolled": true
   },
   "outputs": [
    {
     "data": {
      "text/plain": [
       "['GFDL50',\n",
       " 'KDS75',\n",
       " 'KDS75_PI',\n",
       " 'KDS75_UP',\n",
       " 'KDS75_WOA13',\n",
       " 'KDS75_newbathy_CORE',\n",
       " 'KDS75_newbathy_JRA',\n",
       " 'KDS75_salt10days',\n",
       " 'KDS75_saltfluxes',\n",
       " 'KDS75_wind']"
      ]
     },
     "metadata": {},
     "output_type": "display_data"
    }
   ],
   "source": [
    "configuration = 'mom01v5'\n",
    "\n",
    "expts = cc.get_experiments(configuration)\n",
    "display(expts)"
   ]
  },
  {
   "cell_type": "code",
   "execution_count": 4,
   "metadata": {
    "scrolled": true
   },
   "outputs": [
    {
     "data": {
      "application/vnd.jupyter.widget-view+json": {
       "model_id": "ae7fbf5f326741d7bab0eba99cea2dbc",
       "version_major": 2,
       "version_minor": 0
      },
      "text/html": [
       "<p>Failed to display Jupyter Widget of type <code>HBox</code>.</p>\n",
       "<p>\n",
       "  If you're reading this message in Jupyter Notebook or JupyterLab, it may mean\n",
       "  that the widgets JavaScript is still loading. If this message persists, it\n",
       "  likely means that the widgets JavaScript library is either not installed or\n",
       "  not enabled. See the <a href=\"https://ipywidgets.readthedocs.io/en/stable/user_install.html\">Jupyter\n",
       "  Widgets Documentation</a> for setup instructions.\n",
       "</p>\n",
       "<p>\n",
       "  If you're reading this message in another notebook frontend (for example, a static\n",
       "  rendering on GitHub or <a href=\"https://nbviewer.jupyter.org/\">NBViewer</a>),\n",
       "  it may mean that your frontend doesn't currently support widgets.\n",
       "</p>\n"
      ],
      "text/plain": [
       "HBox(children=(IntProgress(value=0, description='get_nc_variable:', max=9), HTML(value='')))"
      ]
     },
     "metadata": {},
     "output_type": "display_data"
    },
    {
     "name": "stdout",
     "output_type": "stream",
     "text": [
      "\r"
     ]
    },
    {
     "data": {
      "text/plain": [
       "(12, 2700, 3600)"
      ]
     },
     "execution_count": 4,
     "metadata": {},
     "output_type": "execute_result"
    }
   ],
   "source": [
    "expt = 'KDS75_newbathy_JRA'\n",
    "## Load SST from expt - last 4 outputs (TODO: would prefer to do this by year)\n",
    "tmp = cc.get_nc_variable(expt, 'ocean.nc', 'temp',n=9, time_units = 'days since 1900-01-01').isel(st_ocean=0)\n",
    "old_mom_sst = tmp.sel(time=slice('1902-01','1902-12'))\n",
    "old_mom_sst.shape"
   ]
  },
  {
   "cell_type": "code",
   "execution_count": 5,
   "metadata": {
    "scrolled": true
   },
   "outputs": [
    {
     "data": {
      "application/vnd.jupyter.widget-view+json": {
       "model_id": "3da03987e6c4486db8399cbb28d01360",
       "version_major": 2,
       "version_minor": 0
      },
      "text/html": [
       "<p>Failed to display Jupyter Widget of type <code>HBox</code>.</p>\n",
       "<p>\n",
       "  If you're reading this message in Jupyter Notebook or JupyterLab, it may mean\n",
       "  that the widgets JavaScript is still loading. If this message persists, it\n",
       "  likely means that the widgets JavaScript library is either not installed or\n",
       "  not enabled. See the <a href=\"https://ipywidgets.readthedocs.io/en/stable/user_install.html\">Jupyter\n",
       "  Widgets Documentation</a> for setup instructions.\n",
       "</p>\n",
       "<p>\n",
       "  If you're reading this message in another notebook frontend (for example, a static\n",
       "  rendering on GitHub or <a href=\"https://nbviewer.jupyter.org/\">NBViewer</a>),\n",
       "  it may mean that your frontend doesn't currently support widgets.\n",
       "</p>\n"
      ],
      "text/plain": [
       "HBox(children=(IntProgress(value=0, description='get_nc_variable:', max=6), HTML(value='')))"
      ]
     },
     "metadata": {},
     "output_type": "display_data"
    },
    {
     "name": "stdout",
     "output_type": "stream",
     "text": [
      "\r"
     ]
    },
    {
     "data": {
      "text/plain": [
       "(12, 2700, 3600)"
      ]
     },
     "execution_count": 5,
     "metadata": {},
     "output_type": "execute_result"
    }
   ],
   "source": [
    "expt = 'KDS75_newbathy_CORE'\n",
    "## Load SST from expt - last 4 outputs (TODO: would prefer to do this by year)\n",
    "new_mom_sst = cc.get_nc_variable(expt, 'ocean.nc', 'temp',n=6, time_units = 'days since 1900-01-01').isel(st_ocean=0)\n",
    "new_mom_sst.shape"
   ]
  },
  {
   "cell_type": "code",
   "execution_count": 6,
   "metadata": {
    "scrolled": true
   },
   "outputs": [
    {
     "data": {
      "application/vnd.jupyter.widget-view+json": {
       "model_id": "cf97577f3b934ec0b6835f5ca103d721",
       "version_major": 2,
       "version_minor": 0
      },
      "text/html": [
       "<p>Failed to display Jupyter Widget of type <code>HBox</code>.</p>\n",
       "<p>\n",
       "  If you're reading this message in Jupyter Notebook or JupyterLab, it may mean\n",
       "  that the widgets JavaScript is still loading. If this message persists, it\n",
       "  likely means that the widgets JavaScript library is either not installed or\n",
       "  not enabled. See the <a href=\"https://ipywidgets.readthedocs.io/en/stable/user_install.html\">Jupyter\n",
       "  Widgets Documentation</a> for setup instructions.\n",
       "</p>\n",
       "<p>\n",
       "  If you're reading this message in another notebook frontend (for example, a static\n",
       "  rendering on GitHub or <a href=\"https://nbviewer.jupyter.org/\">NBViewer</a>),\n",
       "  it may mean that your frontend doesn't currently support widgets.\n",
       "</p>\n"
      ],
      "text/plain": [
       "HBox(children=(IntProgress(value=0, description='get_nc_variable:', max=12), HTML(value='')))"
      ]
     },
     "metadata": {},
     "output_type": "display_data"
    },
    {
     "name": "stdout",
     "output_type": "stream",
     "text": [
      "\r"
     ]
    },
    {
     "data": {
      "text/plain": [
       "(12, 2700, 3600)"
      ]
     },
     "execution_count": 6,
     "metadata": {},
     "output_type": "execute_result"
    }
   ],
   "source": [
    "expt = 'woa13/01'\n",
    "## Load SST from expt - last 4 outputs (TODO: would prefer to do this by year)\n",
    "obs_sst = cc.get_nc_variable('woa13/01', 'woa13_ts_\\d+_mom01.nc', 'temp',time_units = 'days since 1900-01-01').isel(ZT=0)\n",
    "obs_sst.shape"
   ]
  },
  {
   "cell_type": "code",
   "execution_count": 7,
   "metadata": {},
   "outputs": [
    {
     "data": {
      "text/plain": [
       "(1600,)"
      ]
     },
     "execution_count": 7,
     "metadata": {},
     "output_type": "execute_result"
    }
   ],
   "source": [
    "# latitude: 5S-5N, longitude: 120E-80W\n",
    "obs_sst_eq = obs_sst.sel(GRID_Y_T=slice(-5,5)).sel(GRID_X_T=slice(-240,-80))\n",
    "m_obs_sst_eq = obs_sst_eq.mean('GRID_Y_T')\n",
    "a_obs_sst_eq = np.ma.anom(m_obs_sst_eq,axis=0)\n",
    "a_obs_sst_eq.shape\n",
    "obs_lon_eq = obs_sst_eq.GRID_X_T\n",
    "obs_lon_eq.shape"
   ]
  },
  {
   "cell_type": "code",
   "execution_count": 8,
   "metadata": {
    "scrolled": true
   },
   "outputs": [],
   "source": [
    "# latitude: 5S-5N, longitude: 120E-80W\n",
    "new_mom_sst_eq = new_mom_sst.sel(yt_ocean=slice(-5,5)).sel(xt_ocean=slice(-240,-80))\n",
    "m_new_mom_sst_eq = new_mom_sst_eq.mean('yt_ocean')\n",
    "a_new_mom_sst_eq = np.ma.anom(m_new_mom_sst_eq,axis=0)\n",
    "a_new_mom_sst_eq.shape\n",
    "new_mom_lon_eq = new_mom_sst_eq.xt_ocean"
   ]
  },
  {
   "cell_type": "code",
   "execution_count": 9,
   "metadata": {
    "scrolled": true
   },
   "outputs": [],
   "source": [
    "# latitude: 5S-5N, longitude: 120E-80W\n",
    "old_mom_sst_eq = old_mom_sst.sel(yt_ocean=slice(-5,5)).sel(xt_ocean=slice(-240,-80))\n",
    "m_old_mom_sst_eq = old_mom_sst_eq.mean('yt_ocean')\n",
    "a_old_mom_sst_eq = np.ma.anom(m_old_mom_sst_eq,axis=0)\n",
    "a_old_mom_sst_eq.shape\n",
    "old_mom_lon_eq = old_mom_sst_eq.xt_ocean"
   ]
  },
  {
   "cell_type": "code",
   "execution_count": 10,
   "metadata": {
    "scrolled": false
   },
   "outputs": [
    {
     "data": {
      "image/png": "[encoded data removed]",
      "text/plain": [
       "<matplotlib.figure.Figure at 0x7f29ce849400>"
      ]
     },
     "metadata": {},
     "output_type": "display_data"
    }
   ],
   "source": [
    "Tmax = 3; Tmin = -Tmax; delT = 0.3\n",
    "clevels = np.arange(Tmin,Tmax+delT,delT)\n",
    "\n",
    "fig_eqobs = plt.figure( figsize=(12,8) )\n",
    "ax = fig_eqobs.add_subplot(131)\n",
    "cax = ax.contourf( new_mom_lon_eq, np.arange(12)+1, a_new_mom_sst_eq, levels=clevels,  \n",
    "               cmap=plt.cm.seismic )#cmap=plt.cm.jet)\n",
    "ax.set_xlabel('Longitude', fontsize=14)\n",
    "ax.set_ylabel('Month', fontsize=14 )\n",
    "#cbar = plt.colorbar(cax)\n",
    "ax.set_title('new bathymetry by CORE', fontsize=18)\n",
    "\n",
    "ax = fig_eqobs.add_subplot(132)\n",
    "cax = ax.contourf( old_mom_lon_eq, np.arange(12)+1, a_old_mom_sst_eq, levels=clevels,\n",
    "               cmap=plt.cm.seismic )#cmap=plt.cm.jet)\n",
    "\n",
    "ax.set_xlabel('Longitude', fontsize=14)\n",
    "ax.set_ylabel('Month', fontsize=14 )\n",
    "#cbar = plt.colorbar(cax)\n",
    "ax.set_title('new bathymetry by JRA', fontsize=18)\n",
    "\n",
    "#fig_eqobs = plt.figure( figsize=(10,8) )\n",
    "ax = fig_eqobs.add_subplot(133)\n",
    "cax = ax.contourf( obs_lon_eq, np.arange(12)+1, a_obs_sst_eq, levels=clevels,  \n",
    "               cmap=plt.cm.seismic )#cmap=plt.cm.jet)\n",
    "ax.set_xlabel('Longitude', fontsize=14)\n",
    "ax.set_ylabel('Month', fontsize=14 )\n",
    "cbar = plt.colorbar(cax)\n",
    "ax.set_title('WOA2013', fontsize=18)\n",
    "\n",
    "fig_eqobs.suptitle('SST along the Pacific equator ($^\\circ$C)', fontsize=22)\n",
    "plt.savefig('seasonal_cycle.png')"
   ]
  }
 ],
 "metadata": {
  "kernelspec": {
   "display_name": "Python [conda env:analysis3]",
   "language": "python",
   "name": "conda-env-analysis3-py"
  },
  "language_info": {
   "codemirror_mode": {
    "name": "ipython",
    "version": 3
   },
   "file_extension": ".py",
   "mimetype": "text/x-python",
   "name": "python",
   "nbconvert_exporter": "python",
   "pygments_lexer": "ipython3",
   "version": "3.6.3"
  }
 },
 "nbformat": 4,
 "nbformat_minor": 2
}
