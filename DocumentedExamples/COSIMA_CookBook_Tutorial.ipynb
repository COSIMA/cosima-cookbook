{
 "cells": [
  {
   "cell_type": "markdown",
   "metadata": {},
   "source": [
    "# How To Use The COSIMA Cookbook\n",
    "\n",
    "This notebook is designed to help new users get to grips with the COSIMA Cookbook. It assumes that:\n",
    " * You have cloned the cosima-cookbook git repository to a location that can see the COSIMA storage space on [NCI](http://cosima-cookbook.readthedocs.io/en/latest/nci.org.au) (/g/data3/hh5/tmp/cosima). We recommend the [Virtual Desktop Infrastructure (VDI)](http://nci.org.au/services/vdi/).\n",
    " * You have access to a python3 distribution with the required packages.\n",
    " * You have installed the cosima-cookbook package (via `pip install --user -e`).\n",
    " * You can fire up a Jupyter notebook!"
   ]
  },
  {
   "cell_type": "markdown",
   "metadata": {},
   "source": [
    "**Before starting,** load in some libraries that you are likely to need:"
   ]
  },
  {
   "cell_type": "code",
   "execution_count": null,
   "metadata": {},
   "outputs": [],
   "source": [
    "%matplotlib inline\n",
    "\n",
    "import matplotlib.pyplot as plt\n",
    "import xarray as xr\n",
    "import numpy as np\n",
    "import IPython.display\n",
    "import cmocean as cm\n",
    "import cartopy.crs as ccrs"
   ]
  },
  {
   "cell_type": "markdown",
   "metadata": {},
   "source": [
    "In addition, you **always** need to load the cosima_cookbook module. This provides a bunch of functions that you will use:"
   ]
  },
  {
   "cell_type": "code",
   "execution_count": null,
   "metadata": {},
   "outputs": [],
   "source": [
    "import cosima_cookbook as cc"
   ]
  },
  {
   "cell_type": "markdown",
   "metadata": {},
   "source": [
    "## 1. The Cookbook Philosophy\n",
    "The COSIMA Cookbook is a framework for analysing ocean-sea ice model output.\n",
    "It is designed to:\n",
    "* Provide a library of commonly used diagnostics;\n",
    "* Write efficient, well-documented, openly accessible code;\n",
    "* Encourage community input to the code;\n",
    "* Ensure diagnostic results are reproducible;\n",
    "* Find methods to deal with the memory limitations of analysing high-resolution model output.\n",
    "\n",
    "\n",
    "### 1.1 A database of experiments\n",
    "The database is created and maintained by a function called `build_index`, which stores simulation data in this directory hierachy:\n",
    "* **configuration** Model resolution (1$^\\circ$, 0.25$^\\circ$ or 0.1$^\\circ$) and submodels (MOM5-SIS1, ACCESS-OM2, etc) \n",
    "* **experiment** Individual simulations, usually with multiple output directories\n",
    "* **netcdf files** Stored inside output directories\n",
    "\n",
    "The database is shared with other users. You shouldn't need to invoke `build_index` unless you have recently run some new experiments, but if you do need it just use:"
   ]
  },
  {
   "cell_type": "markdown",
   "metadata": {},
   "source": [
    "<<<<<<< REMOTE CELL DELETED >>>>>>>\n",
    "## 1. The Cookbook Philosophy\n",
    "The COSIMA Cookbook is a framework for analysing ocean-sea ice model output.\n",
    "It is designed to:\n",
    "* Provide a library of commonly used diagnostics;\n",
    "* Write efficient, well-documented, openly accessible code;\n",
    "* Encourage community input to the code;\n",
    "* Ensure diagnostic results are reproducible;\n",
    "* Find methods to deal with the memory limitations of analysing high-resolution model output.\n",
    "\n",
    "\n",
    "### 1.1 A database of experiments\n",
    "Assumes that we store data in this directory heirarchy:\n",
    "* configuration, \n",
    "* experiment,\n",
    "* output???\n",
    "* netcdf files\n",
    "\n",
    "The database is shared with other users. It can be updated to include new experiments with:"
   ]
  },
  {
   "cell_type": "code",
   "execution_count": null,
   "metadata": {},
   "outputs": [],
   "source": [
    "cc.build_index()"
   ]
  },
  {
   "cell_type": "markdown",
   "metadata": {},
   "source": [
    "### 1.2 Inbuilt Database Functions\n",
    "\n",
    "We have constructed a few functions to help you operate the cookbook and to access the datasets. These functions all sit in the `cosima_cookbook` directory. For example, `netcdf_index.py` contains the above `build_index` function as well as a series of functions that are built to query the SQL database."
   ]
  },
  {
   "cell_type": "markdown",
   "metadata": {},
   "source": [
    "`get_configuration` returns a list of all model configurations that are saved into the database. "
   ]
  },
  {
   "cell_type": "code",
   "execution_count": null,
   "metadata": {},
   "outputs": [],
   "source": [
    "cc.get_configurations()"
   ]
  },
  {
   "cell_type": "markdown",
   "metadata": {},
   "source": [
    "`get_experiments` lists all of the experiments that are catalogued for a given configuration. These function needs one of the above configurations as an input."
   ]
  },
  {
   "cell_type": "code",
   "execution_count": null,
   "metadata": {},
   "outputs": [],
   "source": [
    "cc.get_experiments('access-om2')"
   ]
  },
  {
   "cell_type": "markdown",
   "metadata": {},
   "source": [
    "`get_ncfiles` provides a list of all the netcdf filenames saved for a given experiment. Note that each of these filenames are present in some or all of the output directories."
   ]
  },
  {
   "cell_type": "code",
   "execution_count": null,
   "metadata": {},
   "outputs": [],
   "source": [
    "cc.get_ncfiles('025deg_jra55v13_ryf8485_spinup_A')"
   ]
  },
  {
   "cell_type": "markdown",
   "metadata": {},
   "source": [
    "And finally, `get_variables` provides a list of all the variables available in a specific netcdf file. This functions requires both the experiment and the filename to be provided."
   ]
  },
  {
   "cell_type": "code",
   "execution_count": null,
   "metadata": {},
   "outputs": [],
   "source": [
    "cc.get_variables('025deg_jra55v13_ryf8485_spinup_A','ocean_month.nc')"
   ]
  },
  {
   "cell_type": "markdown",
   "metadata": {},
   "source": [
    "### 1.3 Loading data from a netcdf file\n",
    "\n",
    "<<<<<<< local\n",
    "Python has many ways of reading in data from a netcdf file ... so we thought we would add another way. This is achieved in the `get_nc_variable` function, which is the most commonly used function in the cookbook. This function queries the database to find a variable from a specific file, from a specific variable, and loads some or all of that file. We will now take a little while to get to know this function. In its simplest form, you need just three arguments: expt, ncfile and variable:\n",
    "=======\n",
    "Python has many ways of reading in data from a netcdf file ... so we thought we would add another way. This is achieved in the `get_nc_variable` function, which is the most commonly used function in the cookbook. This function queries the database to find a variable from a specific file, from a specific variable, and loads some or all of that file. We will now take a little while to get to know this function. In it's simplest form, you need just three arguments: expt, ncfile and variable. \n",
    "\n",
    "You can see all the available options using the inbuilt help function, which brings up the function documentation.\n",
    ">>>>>>> remote"
   ]
  },
  {
   "cell_type": "markdown",
   "metadata": {},
   "source": [
    "You can see all the avaiable options using the inbuilt `help` function, which brings up the function documentation."
   ]
  },
  {
   "cell_type": "code",
   "execution_count": null,
   "metadata": {},
   "outputs": [],
   "source": [
    "help(cc.get_nc_variable)"
   ]
  },
  {
   "cell_type": "code",
   "execution_count": null,
   "metadata": {},
   "outputs": [],
   "source": [
    "cc.get_nc_variable('025deg_jra55v13_ryf8485_spinup_A',\\\n",
    "                   'ocean_scalar.nc','temp_global_ave')"
   ]
  },
  {
   "cell_type": "markdown",
   "metadata": {},
   "source": [
    "### 1.4 Exercises\n",
    "OK, this is a tutorial, so now you have to do some work. Your tasks are to:\n",
    "* Find and load SSH from an experiment (an experiment ... perhaps a 1° configuration would be best)."
   ]
  },
  {
   "cell_type": "code",
   "execution_count": null,
   "metadata": {},
   "outputs": [],
   "source": []
  },
  {
   "cell_type": "markdown",
   "metadata": {},
   "source": [
    "* Just load the last 10 files from an experiment (any variable you like)."
   ]
  },
  {
   "cell_type": "code",
   "execution_count": null,
   "metadata": {},
   "outputs": [],
   "source": []
  },
  {
   "cell_type": "markdown",
   "metadata": {},
   "source": [
    "* Load potential temperature from an experiment (again, 1° would be quickest). Can you chunk the data differently from the default?"
   ]
  },
  {
   "cell_type": "code",
   "execution_count": null,
   "metadata": {},
   "outputs": [],
   "source": []
  },
  {
   "cell_type": "markdown",
   "metadata": {},
   "source": [
    "## 2. How to manipulate and plot variables with xarray\n",
    "We use the python package `xarray` (which is built on `dask`, `pandas`, `matplotlib` and `numpy`) for many of our diagnostics. `xarray` has a a lot of nice features, some of which we will try to demonstrate for you. \n",
    "\n",
    "### 2.1 Plotting\n",
    "`xarray`'s `.plot()` method does its best to figure out what you are trying to plot, and plotting it for you. Let's start by loading a 1-dimensional variable and plotting."
   ]
  },
  {
   "cell_type": "code",
   "execution_count": null,
   "metadata": {},
   "outputs": [],
   "source": [
    "darray = cc.get_nc_variable('025deg_jra55v13_ryf8485_spinup_A','ocean_scalar.nc','temp_global_ave')\n",
    "darray.plot()"
   ]
  },
  {
   "cell_type": "markdown",
   "metadata": {},
   "source": [
    "You should see that `xarray` has figured out that this data is a timeseries, that the x-axis is representing time and that the y-axis is `temp_global_ave`. You can always modify aspects of your plot if you are unhappy with the default xarray behaviour:"
   ]
  },
  {
   "cell_type": "code",
   "execution_count": null,
   "metadata": {},
   "outputs": [],
   "source": [
    "darray = cc.get_nc_variable('025deg_jra55v13_ryf8485_spinup_A','ocean_scalar.nc','temp_global_ave')\n",
    "darray.plot()\n",
    "plt.xlabel('Year')\n",
    "plt.ylabel('Temperature (°C)')\n",
    "plt.title('Globally Averaged Temperature')"
   ]
  },
  {
   "cell_type": "markdown",
   "metadata": {},
   "source": [
    "Because `xarray` knows about dimensions, it has plotting routines which can figure out what it should plot. For example, "
   ]
  },
  {
   "cell_type": "code",
   "execution_count": null,
   "metadata": {},
   "outputs": [],
   "source": [
    "darray = cc.get_nc_variable('025deg_jra55v13_ryf8485_spinup_A','ocean_month.nc','surface_temp',n=1)\n",
    "darray.mean('time').plot()"
   ]
  },
  {
   "cell_type": "markdown",
   "metadata": {},
   "source": [
    "Again, you can customise this plot as you see fit:"
   ]
  },
  {
   "cell_type": "code",
   "execution_count": null,
   "metadata": {},
   "outputs": [],
   "source": [
    "darray = cc.get_nc_variable('025deg_jra55v13_ryf8485_spinup_A','ocean_month.nc','surface_temp',n=1)\n",
    "<<<<<<< local\n",
    "darray = darray - 273.15  # convert from Kelvin to Celsius\n",
    "=======\n",
    "darray = darray - 273.15 # convert from Kelvin to Celsius\n",
    ">>>>>>> remote\n",
    "darray.mean('time').plot.contourf(levels=np.arange(-2,32,2),cmap=cm.cm.thermal)\n",
    "plt.ylabel('latitude')\n",
    "plt.xlabel('longitude')"
   ]
  },
  {
   "cell_type": "markdown",
   "metadata": {},
   "source": [
    "### 2.2 Slicing and dicing\n",
    "\n",
    "There are two different ways of subselecting from a DataArray: `isel` and `sel`. The first of these is probably what you are used to -- you specify the value of the index of the array. In the second case you specify the value of the coordinate you want to select. These two methods are demonstrated in the following example:"
   ]
  },
  {
   "cell_type": "code",
   "execution_count": null,
   "metadata": {},
   "outputs": [],
   "source": [
    "darray = cc.get_nc_variable('1deg_jra55_ryf9091_kds50','ocean.nc','pot_rho_2',time_units='days since 1700-01-01')\n",
    "surface_density = darray.isel(time=400).sel(st_ocean=1000,method='nearest')\n",
    "surface_density.plot()"
   ]
  },
  {
   "cell_type": "markdown",
   "metadata": {},
   "source": [
    "In the above example, a 450-year dataset is loaded. We then use `isel` to select the 401st year (time=400) and use `sel` to select a z level that is about 1000m deep. The `sel` method is very flexible, allowing us to use similar code in differing model resolutions or grids. In addition, both methods allow you to slice a range of values:"
   ]
  },
  {
   "cell_type": "code",
   "execution_count": null,
   "metadata": {},
   "outputs": [],
   "source": [
    "darray = cc.get_nc_variable('025deg_jra55v13_ryf8485_spinup_A','ocean.nc','v',time_units='days since 1700-01-01')\n",
    "v = darray.isel(time=100).sel(st_ocean=50,method='nearest')\\\n",
    "            .sel(yu_ocean=slice(-50,-20)).sel(xu_ocean=slice(-230,-180)).load()\n",
    "v.plot()"
   ]
  },
  {
   "cell_type": "markdown",
   "metadata": {},
   "source": [
    "Here we have taken meridional velocity, and sliced out a small region of interest for our plot. Note the `load()` method, which tells `xarray` to do the calculation (otherwise `xarray` aims to defer calculations until the variable is needed)."
   ]
  },
  {
   "cell_type": "markdown",
   "metadata": {},
   "source": [
    "### 2.3 Averaging along dimensions\n",
    "\n",
    "<<<<<<< local\n",
    "We often perform operations such as averaging on dataarrays. Again, knowledge of the coordinates can be a big help here, as you can instruct the `mean` method to operate along given coordinates. The case below takes a temporal and zonal average of potential density. (To be precise, it is actually a mean in the i grid direction, which is only zonal outside the tripolar region in the Arctic, i.e. south of 65N in the ACCESS-OM2 models.)\n",
    "=======\n",
    "We often perform operations such as averaging on dataarrays. Again, knowledge of the coordinates can be a big help here, as you can instruct the `mean()` method to operate along given coordinates. The case below takes a temporal and zonal average of potential density. (To be precise, it is actually a mean in the i grid direction, which is only zonal outside the tripolar region in the Arctic, i.e. south of 65N in the ACCESS-OM2 models.)\n",
    ">>>>>>> remote"
   ]
  },
  {
   "cell_type": "code",
   "execution_count": null,
   "metadata": {},
   "outputs": [],
   "source": [
    "darray = cc.get_nc_variable('1deg_jra55_ryf9091_kds50','ocean.nc','pot_rho_2',n=10,time_units='days since 1700-01-01')\n",
    "darray.mean('time').mean('xt_ocean').plot(cmap=cm.cm.haline)\n",
    "plt.gca().invert_yaxis()"
   ]
  },
  {
   "cell_type": "markdown",
   "metadata": {},
   "source": [
    "### 2.4 Resampling\n",
    "\n",
    "<<<<<<< local\n",
    "`xarray` uses `pandas datetime` conventions to allow for operations such as resampling in time. This resampling is simple and powerful but it has a major drawback: it only works for dates between about 1620 and 2400. Frankly, this limitation really sucks -- it prevents us from analysis simulations for longer than ~700 years, and means we need to set a start date of 1700 (where ocean-sea ice models usually start from zero). Anyway, we still use it, and here is an example of re-plotting the figure from 2.1 with annual averaging:\n",
    "=======\n",
    "`xarray` uses `pandas datetime` conventions to allow for operations such as resampling in time. This resampling is simple and powerful but it has a major drawback: it only works for dates between about 1620 and 2400. Frankly, this limitation really sucks -- it prevents us from analysis simulations for longer than ~700 years, and means we need to set a date of 1700 (where ocean-sea ice models usually start from zero). Anyway, we still use it, and here is an example of re-plotting the figure from 2.1 with annual averaging:\n",
    ">>>>>>> remote"
   ]
  },
  {
   "cell_type": "code",
   "execution_count": null,
   "metadata": {},
   "outputs": [],
   "source": [
    "darray = cc.get_nc_variable('025deg_jra55v13_ryf8485_spinup_A','ocean_scalar.nc','temp_global_ave')\n",
    "darray.resample(time='A').mean().plot()"
   ]
  },
  {
   "cell_type": "markdown",
   "metadata": {},
   "source": [
    "### 2.5 Exercises\n",
    "\n",
    " * Pick an experiment and plot a map of the temperature of the upper 100m of the ocean for one year."
   ]
  },
  {
   "cell_type": "code",
   "execution_count": null,
   "metadata": {},
   "outputs": [],
   "source": []
  },
  {
   "cell_type": "markdown",
   "metadata": {},
   "source": [
    " * Now, take the same experiment and construct a timeseries of spatially averaged (regional or global) upper 700m temperature, resampled every 3 years."
   ]
  },
  {
   "cell_type": "code",
   "execution_count": null,
   "metadata": {},
   "outputs": [],
   "source": []
  },
  {
   "cell_type": "markdown",
   "metadata": {},
   "source": [
    "## 3. More Advanced Stuff\n",
    "\n",
    "### 3.1 Making a map with cartopy"
   ]
  },
  {
   "cell_type": "code",
   "execution_count": null,
   "metadata": {},
   "outputs": [],
   "source": [
    "darray = cc.get_nc_variable('025deg_jra55v13_ryf8485_spinup_A','ocean.nc','temp',n=1,time_units='days since 1700-01-01')\n",
    "<<<<<<< local\n",
    "temp = darray.mean('time').sel(st_ocean=50,method='nearest') - 273.15\n",
    "plt.figure(figsize=(9,4))\n",
    "=======\n",
    "temp = darray.mean('time').sel(st_ocean=50,method='nearest').sel(xt_ocean=slice(-90,30)) - 273.15\n",
    "plt.figure(figsize=(4,4))\n",
    ">>>>>>> remote\n",
    "ax = plt.axes(projection=ccrs.PlateCarree())\n",
    "temp.plot.pcolormesh(ax=ax, transform=ccrs.PlateCarree(),x='xt_ocean', y='yt_ocean',cmap=cm.cm.thermal,vmin=-2,vmax=30)\n",
    "ax.coastlines()"
   ]
  },
  {
   "cell_type": "markdown",
   "metadata": {},
   "source": [
    "### 3.2 Functionising\n",
    "\n",
    "When you have a polished and working code that you think may be commmonly used, you can add it to our list of inbuilt functions. By way of example, we have a function called annual_scalar, which effectively performs  the operation performed in 2.4 (reading in a scalar and annually averaging), but for multiple experiments and multiple variables. You can invoke it as follows:"
   ]
  },
  {
   "cell_type": "code",
   "execution_count": null,
   "metadata": {},
   "outputs": [],
   "source": [
    "expts=['025deg_jra55v13_ryf8485_spinup_A','025deg_jra55v13_ryf8485_KDS75']\n",
    "var = ['temp_global_ave']\n",
    "cc.plots.annual_scalar(expts,var)"
   ]
  },
  {
   "cell_type": "markdown",
   "metadata": {},
   "source": [
    "To follow the logic of this function, look in cosima-cookbook/cosima_cookbook/plots/lineplots.py for the function annual_scalar. Note that this function also calls another function called annual_scalar in cosima-cookbook/cosima_cookbook/diagnostics/simple.py.\n",
    "\n",
    "### 3.3 Distributed computing\n",
    "\n",
    "You may notice that some of our scripts call the `start_cluster()` function. This can be found in `distributed.py`. It sets up a local cluster on your node for distributed computation. "
   ]
  },
  {
   "cell_type": "code",
   "execution_count": null,
   "metadata": {},
   "outputs": [],
   "source": [
    "cc.start_cluster()"
   ]
  },
  {
   "cell_type": "markdown",
   "metadata": {},
   "source": [
    "The dashboard link should allow you to access information on how your work is distributed between the cores on your local cluster (but, just quietly, I haven't been very successful in getting this to work)."
   ]
  },
  {
   "cell_type": "markdown",
   "metadata": {},
   "source": [
    "### 3.5 Sandbox exercises\n",
    "\n",
    "For the remainder of the tutorial, please dream up a new diagnostic that you want to compute, and try to make the computation using cookbook functions."
   ]
  },
  {
   "cell_type": "code",
   "execution_count": null,
   "metadata": {},
   "outputs": [],
   "source": []
  }
 ],
 "metadata": {
  "kernelspec": {
   "display_name": "Python [conda env:analysis3]",
   "language": "python",
   "name": "conda-env-analysis3-py"
  },
  "language_info": {
   "codemirror_mode": {
    "name": "ipython",
    "version": 3
   },
   "file_extension": ".py",
   "mimetype": "text/x-python",
   "name": "python",
   "nbconvert_exporter": "python",
   "pygments_lexer": "ipython3",
   "version": "3.6.4"
  }
 },
 "nbformat": 4,
 "nbformat_minor": 2
}
