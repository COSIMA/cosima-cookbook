{
 "cells": [
  {
   "cell_type": "markdown",
   "metadata": {},
   "source": [
    "# How To Use The COSIMA CookBook\n",
    "\n",
    "This notebook is designed to help new users get to grips with the COSIMA Cookbook. It assumes that:\n",
    " * You have cloned the cosima-cookbook git repository to a location that can see the COSIMA storage space on [NCI](http://cosima-cookbook.readthedocs.io/en/latest/nci.org.au) (/g/data3/hh5/tmp/cosima). We recommend the [Virtual Desktop Infrastructure (VDI)](http://nci.org.au/services/vdi/).\n",
    " * You have access to a python3 distribution with the required packages.\n",
    " * You have installed the cosima-cookbook package (via `pip install --user -e`).\n",
    " * You can fire up a Jupyter notebook!"
   ]
  },
  {
   "cell_type": "markdown",
   "metadata": {},
   "source": [
    "**Before starting,** load in some libraries that you are likely to need:"
   ]
  },
  {
   "cell_type": "code",
   "execution_count": 1,
   "metadata": {},
   "outputs": [],
   "source": [
    "%matplotlib inline\n",
    "\n",
    "import matplotlib.pyplot as plt\n",
    "import xarray as xr\n",
    "import numpy as np\n",
    "import IPython.display"
   ]
  },
  {
   "cell_type": "markdown",
   "metadata": {},
   "source": [
    "In addition, you **always** need to load the cosima_cookbook module. This provides a bunch of functions that you will use:"
   ]
  },
  {
   "cell_type": "code",
   "execution_count": 2,
   "metadata": {},
   "outputs": [
    {
     "name": "stdout",
     "output_type": "stream",
     "text": [
      "netcdf_index loaded.\n"
     ]
    }
   ],
   "source": [
    "import cosima_cookbook as cc"
   ]
  },
  {
   "cell_type": "markdown",
   "metadata": {},
   "source": [
    "## 1. The CookBook Philosophy\n",
    "* framework\n",
    "* consistent methods\n",
    "* reproducibility\n",
    "* a database of expts\n",
    "* efficient code\n",
    "\n",
    "### 1.1 A database of experiments\n",
    "Assumes that we store data as:\n",
    "* configuration, \n",
    "* experiment,\n",
    "* output???\n",
    "* netcdf files"
   ]
  },
  {
   "cell_type": "code",
   "execution_count": 6,
   "metadata": {},
   "outputs": [
    {
     "name": "stdout",
     "output_type": "stream",
     "text": [
      "Files found but not yet indexed: 0\n",
      "No new .nc files found.\n"
     ]
    },
    {
     "data": {
      "text/plain": [
       "True"
      ]
     },
     "execution_count": 6,
     "metadata": {},
     "output_type": "execute_result"
    }
   ],
   "source": [
    "cc.build_index()"
   ]
  },
  {
   "cell_type": "markdown",
   "metadata": {},
   "source": [
    "### 1.2 Inbuilt Database Functions\n",
    "\n",
    "We have constructed a few functions to help you operate the cookbook and to access the datasets. These functions all sit in the `cosima_cookbook` directory. For example, `netcdf_index.py` contains the above `build_index` function as well as a series of functions that are built to query the SQL database."
   ]
  },
  {
   "cell_type": "markdown",
   "metadata": {},
   "source": [
    "`get_configuration` returns a list of all model configurations that are saved into the database. "
   ]
  },
  {
   "cell_type": "code",
   "execution_count": 3,
   "metadata": {},
   "outputs": [
    {
     "data": {
      "text/plain": [
       "['mom01v5',\n",
       " 'APE-MOM',\n",
       " 'access-om2',\n",
       " 'mom025',\n",
       " 'mom-sis',\n",
       " 'access-om2-025',\n",
       " 'access-om2-01',\n",
       " 'woa13',\n",
       " 'kds75_wp2']"
      ]
     },
     "execution_count": 3,
     "metadata": {},
     "output_type": "execute_result"
    }
   ],
   "source": [
    "cc.get_configurations()"
   ]
  },
  {
   "cell_type": "markdown",
   "metadata": {},
   "source": [
    "`get_experiments` lists all of the experiments that are catalogued for a given configuration. These function needs one of the above configurations as an input."
   ]
  },
  {
   "cell_type": "code",
   "execution_count": 10,
   "metadata": {},
   "outputs": [
    {
     "data": {
      "text/plain": [
       "['1deg_core_nyf_spinup_A',\n",
       " '1deg_jra55_ryf0304_gfdl50',\n",
       " '1deg_jra55_ryf0304_kds100_RCP45',\n",
       " '1deg_jra55_ryf0304_kds100_s6_RCP45',\n",
       " '1deg_jra55_ryf0304_kds100_s6_mushy',\n",
       " '1deg_jra55_ryf0304_kds100_sss12',\n",
       " '1deg_jra55_ryf0304_kds50_RCP45',\n",
       " '1deg_jra55_ryf0304_kds50_s13p8_RCP45',\n",
       " '1deg_jra55_ryf0304_kds50_s13p8_mushy',\n",
       " '1deg_jra55_ryf0304_kds50_sss12',\n",
       " '1deg_jra55_ryf0304_kds75_sss12',\n",
       " '1deg_jra55_ryf03_kds50',\n",
       " '1deg_jra55_ryf04_kds50',\n",
       " '1deg_jra55_ryf8485_gfdl50',\n",
       " '1deg_jra55_ryf8485_kds100_RCP45',\n",
       " '1deg_jra55_ryf8485_kds100_s6_RCP45',\n",
       " '1deg_jra55_ryf8485_kds100_s6_mushy',\n",
       " '1deg_jra55_ryf8485_kds100_sss12',\n",
       " '1deg_jra55_ryf8485_kds50_RCP45',\n",
       " '1deg_jra55_ryf8485_kds50_s13p8_RCP45',\n",
       " '1deg_jra55_ryf8485_kds50_s13p8_mushy',\n",
       " '1deg_jra55_ryf8485_kds50_sss12',\n",
       " '1deg_jra55_ryf8485_kds75_sss12',\n",
       " '1deg_jra55_ryf8485_spinup1',\n",
       " '1deg_jra55_ryf8485_spinup2',\n",
       " '1deg_jra55_ryf84_kds50',\n",
       " '1deg_jra55_ryf85_kds50',\n",
       " '1deg_jra55_ryf9091_gfdl50',\n",
       " '1deg_jra55_ryf9091_gfdl50_mdsr',\n",
       " '1deg_jra55_ryf9091_kds100',\n",
       " '1deg_jra55_ryf9091_kds100_RCP45',\n",
       " '1deg_jra55_ryf9091_kds100_s6_RCP45',\n",
       " '1deg_jra55_ryf9091_kds100_s6_mdsr',\n",
       " '1deg_jra55_ryf9091_kds100_s6_mushy',\n",
       " '1deg_jra55_ryf9091_kds100_sss12',\n",
       " '1deg_jra55_ryf9091_kds100_sss6',\n",
       " '1deg_jra55_ryf9091_kds135',\n",
       " '1deg_jra55_ryf9091_kds50',\n",
       " '1deg_jra55_ryf9091_kds50_RCP45',\n",
       " '1deg_jra55_ryf9091_kds50_s13p8_DW10',\n",
       " '1deg_jra55_ryf9091_kds50_s13p8_DW10_RCP45',\n",
       " '1deg_jra55_ryf9091_kds50_s13p8_RCP45',\n",
       " '1deg_jra55_ryf9091_kds50_s13p8_mdsr',\n",
       " '1deg_jra55_ryf9091_kds50_s13p8_mushy',\n",
       " '1deg_jra55_ryf9091_kds50_sss12',\n",
       " '1deg_jra55_ryf9091_kds50_sss13p8',\n",
       " '1deg_jra55_ryf9091_kds75',\n",
       " '1deg_jra55_ryf9091_kds75_sss12',\n",
       " '1deg_jra55_ryf9091_kds75_sss6p5',\n",
       " '1deg_jra55_ryf90_kds50',\n",
       " '1deg_jra55_ryf91_kds50',\n",
       " '1deg_jra55_ryf_RCP45',\n",
       " '1deg_jra55_ryf_spinup1',\n",
       " '1deg_jra55_ryf_spinup2',\n",
       " '1deg_jra55_ryf_spinup3',\n",
       " '1deg_jra55_ryf_spinup4',\n",
       " '1deg_jra55_ryf_spinup5',\n",
       " '1deg_jra55_ryf_spinup6',\n",
       " '1deg_jra55_ryf_spinup7',\n",
       " '1deg_jra55_ryf_spinup8',\n",
       " '1deg_jra55_ryf_spinup9',\n",
       " '1deg_jra55v13_ryf0304_RCP45',\n",
       " '1deg_jra55v13_ryf0304_spinup_A',\n",
       " '1deg_jra55v13_ryf8485_RCP45',\n",
       " '1deg_jra55v13_ryf8485_spinup_A',\n",
       " '1deg_jra55v13_ryf9091_RCP45',\n",
       " '1deg_jra55v13_ryf9091_spinup_A']"
      ]
     },
     "execution_count": 10,
     "metadata": {},
     "output_type": "execute_result"
    }
   ],
   "source": [
    "cc.get_experiments('access-om2')"
   ]
  },
  {
   "cell_type": "markdown",
   "metadata": {},
   "source": [
    "`get_ncfiles` provides a list of all the netcdf filenames saved for a given experiment. Note that each of these filenames are present in some or all of the output directories."
   ]
  },
  {
   "cell_type": "code",
   "execution_count": 7,
   "metadata": {},
   "outputs": [
    {
     "data": {
      "text/plain": [
       "['rmp_jra55_runoff_cice_conserve.nc',\n",
       " 'rmp_jrar_to_cict_CONSERV.nc',\n",
       " 'rmp_jra55_cice_smooth.nc',\n",
       " 'i2a.nc',\n",
       " 'a2i.nc',\n",
       " 'rmp_jra55_cice_conserve.nc',\n",
       " 'ocean.nc',\n",
       " 'ocean_scalar.nc',\n",
       " 'o2i.nc',\n",
       " 'ocean_grid.nc',\n",
       " 'ocean_month.nc',\n",
       " 'iceh.\\\\d+-\\\\d+.nc']"
      ]
     },
     "execution_count": 7,
     "metadata": {},
     "output_type": "execute_result"
    }
   ],
   "source": [
    "cc.get_ncfiles('025deg_jra55v13_ryf8485_spinup_A')"
   ]
  },
  {
   "cell_type": "markdown",
   "metadata": {},
   "source": [
    "And finally, `get_variables` provides a list of all the variables available in a specific netcdf file. This functions requires both the experiment and the filename to be provided."
   ]
  },
  {
   "cell_type": "code",
   "execution_count": 8,
   "metadata": {},
   "outputs": [
    {
     "data": {
      "text/plain": [
       "['xt_ocean',\n",
       " 'yt_ocean',\n",
       " 'st_ocean',\n",
       " 'st_edges_ocean',\n",
       " 'time',\n",
       " 'nv',\n",
       " 'xu_ocean',\n",
       " 'yu_ocean',\n",
       " 'sw_ocean',\n",
       " 'sw_edges_ocean',\n",
       " 'grid_xu_ocean',\n",
       " 'grid_yt_ocean',\n",
       " 'potrho',\n",
       " 'potrho_edges',\n",
       " 'grid_xt_ocean',\n",
       " 'grid_yu_ocean',\n",
       " 'neutral',\n",
       " 'neutralrho_edges',\n",
       " 'temp',\n",
       " 'salt',\n",
       " 'age_global',\n",
       " 'u',\n",
       " 'v',\n",
       " 'wt',\n",
       " 'dzt',\n",
       " 'pot_rho_0',\n",
       " 'pot_rho_2',\n",
       " 'tx_trans',\n",
       " 'ty_trans',\n",
       " 'tx_trans_rho',\n",
       " 'ty_trans_rho',\n",
       " 'ty_trans_nrho_submeso',\n",
       " 'temp_xflux_adv',\n",
       " 'temp_yflux_adv',\n",
       " 'diff_cbt_t',\n",
       " 'average_T1',\n",
       " 'average_T2',\n",
       " 'average_DT',\n",
       " 'time_bounds']"
      ]
     },
     "execution_count": 8,
     "metadata": {},
     "output_type": "execute_result"
    }
   ],
   "source": [
    "cc.get_variables('025deg_jra55v13_ryf8485_spinup_A','ocean.nc')"
   ]
  },
  {
   "cell_type": "markdown",
   "metadata": {},
   "source": [
    "### 1.3 Loading data from a netcdf file\n",
    "\n",
    "Python has many ways of reading in data from a netcdf file ... so we thought we would add another way. This is achieved in the `get_nc_variable` function, which is the most commonly used function in the cookbook. This function queries the database to find a variable from a specific file, from a specific variable, and loads some or all of that file. We will now take a little while to get to know this function. In it's simplest form, you need just three arguments: expt, ncfile and variable:"
   ]
  },
  {
   "cell_type": "code",
   "execution_count": 9,
   "metadata": {},
   "outputs": [
    {
     "data": {
      "application/vnd.jupyter.widget-view+json": {
       "model_id": "30c05155ca06434c8e325b152dc99ece",
       "version_major": 2,
       "version_minor": 0
      },
      "text/html": [
       "<p>Failed to display Jupyter Widget of type <code>HBox</code>.</p>\n",
       "<p>\n",
       "  If you're reading this message in the Jupyter Notebook or JupyterLab Notebook, it may mean\n",
       "  that the widgets JavaScript is still loading. If this message persists, it\n",
       "  likely means that the widgets JavaScript library is either not installed or\n",
       "  not enabled. See the <a href=\"https://ipywidgets.readthedocs.io/en/stable/user_install.html\">Jupyter\n",
       "  Widgets Documentation</a> for setup instructions.\n",
       "</p>\n",
       "<p>\n",
       "  If you're reading this message in another frontend (for example, a static\n",
       "  rendering on GitHub or <a href=\"https://nbviewer.jupyter.org/\">NBViewer</a>),\n",
       "  it may mean that your frontend doesn't currently support widgets.\n",
       "</p>\n"
      ],
      "text/plain": [
       "HBox(children=(IntProgress(value=0, description='get_nc_variable:: '), HTML(value='')))"
      ]
     },
     "metadata": {},
     "output_type": "display_data"
    },
    {
     "name": "stdout",
     "output_type": "stream",
     "text": [
      "\r"
     ]
    },
    {
     "data": {
      "text/plain": [
       "<xarray.DataArray 'temp_global_ave' (time: 2328, scalar_axis: 1)>\n",
       "dask.array<shape=(2328, 1), dtype=float64, chunksize=(1, 1)>\n",
       "Coordinates:\n",
       "  * scalar_axis  (scalar_axis) float64 0.0\n",
       "  * time         (time) datetime64[ns] 1900-01-16T12:00:00 1900-02-15 ...\n",
       "Attributes:\n",
       "    long_name:      Global mean temp in liquid seawater\n",
       "    units:          deg_C\n",
       "    valid_range:    [  -10.  1000.]\n",
       "    cell_methods:   time: mean\n",
       "    time_avg_info:  average_T1,average_T2,average_DT\n",
       "    standard_name:  sea_water_potential_temperature"
      ]
     },
     "execution_count": 9,
     "metadata": {},
     "output_type": "execute_result"
    }
   ],
   "source": [
    "cc.get_nc_variable('025deg_jra55v13_ryf8485_spinup_A','ocean_scalar.nc','temp_global_ave')"
   ]
  },
  {
   "cell_type": "markdown",
   "metadata": {},
   "source": [
    "You may like to note a few things about this function:\n",
    "1. The data is returned as an xarray DataArray, which includes the coordinate and attribute information from the netcdf file (more on xarray later). \n",
    "2. The variable time does not start at zero (like the netcdf file) - we generally shift it to be in a data range that allows us to use `pandas` time series and date functionality.\n",
    "3. By default, we load the whole dataset, but we could just load the last `n` netcdf files (useful for testing).\n",
    "4. Other customisable options include setting the variable chunking and incorporating a function to operate on the data.\n",
    "You can see all the avaiable options using the inbuilt help function, which brings up the function documentation."
   ]
  },
  {
   "cell_type": "code",
   "execution_count": 11,
   "metadata": {},
   "outputs": [
    {
     "name": "stdout",
     "output_type": "stream",
     "text": [
      "Help on function get_nc_variable in module cosima_cookbook.netcdf_index:\n",
      "\n",
      "get_nc_variable(expt, ncfile, variable, chunks={}, n=None, op=None, time_units='days since 1900-01-01', use_bag=False)\n",
      "    For a given experiment, concatenate together\n",
      "    variable over all time given a basename ncfile.\n",
      "    \n",
      "    Since some NetCDF4 files have trailing integers (e.g. ocean_123_456.nc)\n",
      "    ncfile can use glob syntax http://www.sqlitetutorial.net/sqlite-glob/\n",
      "    and regular expressions also work in some limited cases.\n",
      "    \n",
      "    By default, xarray is set to use the same chunking pattern that is\n",
      "    stored in the ncfile. This can be overwritten by passing in a dictionary\n",
      "    chunks or setting chunks=None for no chunking (load directly into memory).\n",
      "    \n",
      "    n > 0 means only use the last n ncfiles files. Useful for testing.\n",
      "    \n",
      "    op() is function to apply to each variable before concatenating.\n",
      "    \n",
      "    time_units (e.g. \"days since 1600-01-01\") can be used to override\n",
      "    the original time.units.  If time_units=None, no overriding is performed.\n",
      "    \n",
      "    if variable is a list, then return a dataset for all given variables\n",
      "\n"
     ]
    }
   ],
   "source": [
    "help(cc.get_nc_variable)"
   ]
  },
  {
   "cell_type": "markdown",
   "metadata": {},
   "source": [
    "### 1.4 Exercises\n",
    "OK, this is a tutorial, so now you have to do some work. Your tasks are to:\n",
    "* Find and load SSH from an experiment (an experiment ... perhaps a 1° configuration would be best)."
   ]
  },
  {
   "cell_type": "code",
   "execution_count": null,
   "metadata": {},
   "outputs": [],
   "source": []
  },
  {
   "cell_type": "markdown",
   "metadata": {},
   "source": [
    "* Just load the last 10 files from an experiment (any variable you like)."
   ]
  },
  {
   "cell_type": "code",
   "execution_count": null,
   "metadata": {},
   "outputs": [],
   "source": []
  },
  {
   "cell_type": "markdown",
   "metadata": {},
   "source": [
    "* Load potential temperature from an experiment (again, 1° would be quickest). Can you chunk the data differently from the default?"
   ]
  },
  {
   "cell_type": "code",
   "execution_count": null,
   "metadata": {},
   "outputs": [],
   "source": []
  },
  {
   "cell_type": "code",
   "execution_count": null,
   "metadata": {},
   "outputs": [],
   "source": []
  }
 ],
 "metadata": {
  "kernelspec": {
   "display_name": "Python [conda env:analysis3]",
   "language": "python",
   "name": "conda-env-analysis3-py"
  },
  "language_info": {
   "codemirror_mode": {
    "name": "ipython",
    "version": 3
   },
   "file_extension": ".py",
   "mimetype": "text/x-python",
   "name": "python",
   "nbconvert_exporter": "python",
   "pygments_lexer": "ipython3",
   "version": "3.6.4"
  }
 },
 "nbformat": 4,
 "nbformat_minor": 2
}
