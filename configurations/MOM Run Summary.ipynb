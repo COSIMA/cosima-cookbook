{
 "cells": [
  {
   "cell_type": "markdown",
   "metadata": {},
   "source": [
    "# Index of Runs and Variables"
   ]
  },
  {
   "cell_type": "markdown",
   "metadata": {},
   "source": [
    "These notebooks document model runs that are avaiable for analysis."
   ]
  },
  {
   "cell_type": "code",
   "execution_count": 1,
   "metadata": {
    "collapsed": true
   },
   "outputs": [],
   "source": [
    "import cosima_cookbook as cc\n",
    "import dataset\n",
    "import pandas as pd\n",
    "from IPython.display import display, HTML\n",
    "import tqdm"
   ]
  },
  {
   "cell_type": "markdown",
   "metadata": {},
   "source": [
    "Currently, the cookbook searches for NetCDF4 files in the following directories"
   ]
  },
  {
   "cell_type": "code",
   "execution_count": 2,
   "metadata": {},
   "outputs": [
    {
     "data": {
      "text/plain": [
       "['/g/data3/hh5/tmp/cosima/', '/g/data1/v45/APE-MOM']"
      ]
     },
     "execution_count": 2,
     "metadata": {},
     "output_type": "execute_result"
    }
   ],
   "source": [
    "cc.netcdf_index.directoriesToSearch"
   ]
  },
  {
   "cell_type": "markdown",
   "metadata": {},
   "source": [
    "We first generate a database of all variables in all netCDF4 files found within these directories. Note that this needs only be called once as the database will persist between sessions.  If new output files are added to the data directories, build_index() will only important the new files.\n",
    "\n",
    "If this database ever becomes corrupted, it can be be safely deleted and will be recreated whenever build_index() is next called."
   ]
  },
  {
   "cell_type": "code",
   "execution_count": 3,
   "metadata": {},
   "outputs": [
    {
     "name": "stdout",
     "output_type": "stream",
     "text": [
      "Searching /g/data3/hh5/tmp/cosima/\n",
      "Searching /g/data1/v45/APE-MOM\n",
      "Found 38641 .nc files\n",
      "Using database sqlite:////g/data1/v45/cosima-cookbook/cosima-cookbook.db\n",
      "Files already indexed: 38232\n",
      "Files found but not yet indexed: 409\n",
      "Indexing new .nc files...\n",
      "\n",
      "Found 0 new variables\n",
      "Saving results in database...\n",
      "Indexing complete.\n"
     ]
    },
    {
     "data": {
      "text/plain": [
       "True"
      ]
     },
     "execution_count": 3,
     "metadata": {},
     "output_type": "execute_result"
    }
   ],
   "source": [
    "cc.build_index()"
   ]
  },
  {
   "cell_type": "markdown",
   "metadata": {},
   "source": [
    "This index of all variables is stored in a SQL database. If needed, it can be accessed directly using the `dataset` module."
   ]
  },
  {
   "cell_type": "code",
   "execution_count": 3,
   "metadata": {
    "collapsed": true
   },
   "outputs": [],
   "source": [
    "db = dataset.connect(cc.netcdf_index.database_url)"
   ]
  },
  {
   "cell_type": "code",
   "execution_count": 6,
   "metadata": {},
   "outputs": [
    {
     "name": "stdout",
     "output_type": "stream",
     "text": [
      "OrderedDict([('id', 87074), ('ncfile', '/g/data3/hh5/tmp/cosima/access-om2-025/025deg_jra55_ryf_spinup1/output003/ocean/ocean_month.nc'), ('rootdir', '/g/data3/hh5/tmp/cosima'), ('configuration', 'access-om2-025'), ('experiment', '025deg_jra55_ryf_spinup1'), ('run', 'output003'), ('basename', 'ocean_month.nc'), ('variable', 'tau_x'), ('dimensions', \"('time', 'yu_ocean', 'xu_ocean')\"), ('chunking', 'None')])\n",
      "OrderedDict([('id', 380293), ('ncfile', '/g/data3/hh5/tmp/cosima/access-om2-025/025deg_jra55_ryf_spinup1/output004/ocean/ocean_month.nc'), ('rootdir', '/g/data3/hh5/tmp/cosima'), ('configuration', 'access-om2-025'), ('experiment', '025deg_jra55_ryf_spinup1'), ('run', 'output004'), ('basename', 'ocean_month.nc'), ('variable', 'tau_x'), ('dimensions', \"('time', 'yu_ocean', 'xu_ocean')\"), ('chunking', 'None')])\n",
      "OrderedDict([('id', 392292), ('ncfile', '/g/data3/hh5/tmp/cosima/access-om2-025/025deg_jra55_ryf_spinup1/output008/ocean/ocean_month.nc'), ('rootdir', '/g/data3/hh5/tmp/cosima'), ('configuration', 'access-om2-025'), ('experiment', '025deg_jra55_ryf_spinup1'), ('run', 'output008'), ('basename', 'ocean_month.nc'), ('variable', 'tau_x'), ('dimensions', \"('time', 'yu_ocean', 'xu_ocean')\"), ('chunking', 'None')])\n",
      "OrderedDict([('id', 430519), ('ncfile', '/g/data3/hh5/tmp/cosima/access-om2-025/025deg_jra55_ryf_spinup1/output007/ocean/ocean_month.nc'), ('rootdir', '/g/data3/hh5/tmp/cosima'), ('configuration', 'access-om2-025'), ('experiment', '025deg_jra55_ryf_spinup1'), ('run', 'output007'), ('basename', 'ocean_month.nc'), ('variable', 'tau_x'), ('dimensions', \"('time', 'yu_ocean', 'xu_ocean')\"), ('chunking', 'None')])\n",
      "OrderedDict([('id', 522023), ('ncfile', '/g/data3/hh5/tmp/cosima/access-om2-025/025deg_jra55_ryf_spinup1/output000/ocean/ocean_month.nc'), ('rootdir', '/g/data3/hh5/tmp/cosima'), ('configuration', 'access-om2-025'), ('experiment', '025deg_jra55_ryf_spinup1'), ('run', 'output000'), ('basename', 'ocean_month.nc'), ('variable', 'tau_x'), ('dimensions', \"('time', 'yu_ocean', 'xu_ocean')\"), ('chunking', 'None')])\n",
      "OrderedDict([('id', 880128), ('ncfile', '/g/data3/hh5/tmp/cosima/access-om2-025/025deg_jra55_ryf_spinup1/output006/ocean/ocean_month.nc'), ('rootdir', '/g/data3/hh5/tmp/cosima'), ('configuration', 'access-om2-025'), ('experiment', '025deg_jra55_ryf_spinup1'), ('run', 'output006'), ('basename', 'ocean_month.nc'), ('variable', 'tau_x'), ('dimensions', \"('time', 'yu_ocean', 'xu_ocean')\"), ('chunking', 'None')])\n",
      "OrderedDict([('id', 926455), ('ncfile', '/g/data3/hh5/tmp/cosima/access-om2-025/025deg_jra55_ryf_spinup1/output002/ocean/ocean_month.nc'), ('rootdir', '/g/data3/hh5/tmp/cosima'), ('configuration', 'access-om2-025'), ('experiment', '025deg_jra55_ryf_spinup1'), ('run', 'output002'), ('basename', 'ocean_month.nc'), ('variable', 'tau_x'), ('dimensions', \"('time', 'yu_ocean', 'xu_ocean')\"), ('chunking', 'None')])\n",
      "OrderedDict([('id', 926584), ('ncfile', '/g/data3/hh5/tmp/cosima/access-om2-025/025deg_jra55_ryf_spinup1/output005/ocean/ocean_month.nc'), ('rootdir', '/g/data3/hh5/tmp/cosima'), ('configuration', 'access-om2-025'), ('experiment', '025deg_jra55_ryf_spinup1'), ('run', 'output005'), ('basename', 'ocean_month.nc'), ('variable', 'tau_x'), ('dimensions', \"('time', 'yu_ocean', 'xu_ocean')\"), ('chunking', 'None')])\n",
      "OrderedDict([('id', 1073004), ('ncfile', '/g/data3/hh5/tmp/cosima/access-om2-025/025deg_jra55_ryf_spinup1/output001/ocean/ocean_month.nc'), ('rootdir', '/g/data3/hh5/tmp/cosima'), ('configuration', 'access-om2-025'), ('experiment', '025deg_jra55_ryf_spinup1'), ('run', 'output001'), ('basename', 'ocean_month.nc'), ('variable', 'tau_x'), ('dimensions', \"('time', 'yu_ocean', 'xu_ocean')\"), ('chunking', 'None')])\n"
     ]
    }
   ],
   "source": [
    "rows = db.query('select * from ncfiles where variable = \"tau_x\" and experiment = \"025deg_jra55_ryf_spinup1\" limit 10')\n",
    "for row in rows:\n",
    "    print(row)"
   ]
  },
  {
   "cell_type": "markdown",
   "metadata": {},
   "source": [
    "Let's bring this database into memory as a Pandas DataFrame for further analysis."
   ]
  },
  {
   "cell_type": "code",
   "execution_count": 5,
   "metadata": {},
   "outputs": [
    {
     "data": {
      "application/vnd.jupyter.widget-view+json": {
       "model_id": "c5d147db478b4794ab5ab10be39498b0"
      }
     },
     "metadata": {},
     "output_type": "display_data"
    },
    {
     "name": "stdout",
     "output_type": "stream",
     "text": [
      "\n"
     ]
    }
   ],
   "source": [
    "data = []\n",
    "for row in tqdm.tqdm_notebook(db['ncfiles'].all(), total = 1200000):\n",
    "    data.append(row)\n",
    "df = pd.DataFrame(data)"
   ]
  },
  {
   "cell_type": "markdown",
   "metadata": {},
   "source": [
    "Many of the output files have names of the form `output__123_45.nc`.  Here we constuct a more generalized name for this output file, namely the regular expression `output__\\d+_\\d+.nc`."
   ]
  },
  {
   "cell_type": "markdown",
   "metadata": {},
   "source": [
    "[To do: add basename_pattern to build_index() ]"
   ]
  },
  {
   "cell_type": "code",
   "execution_count": 7,
   "metadata": {
    "collapsed": true
   },
   "outputs": [],
   "source": [
    "pat = '(?P<root>[^\\d]+)(?P<index>__\\d+_\\d+)?(?P<indexice>.\\d+\\-\\d+)?(?P<ext>\\.nc)'\n",
    "\n",
    "repl = lambda m: m.group('root') + ('__\\d+_\\d+' if m.group('index') else '') + ('.\\d+-\\d+' if m.group('indexice') else '')+ m.group('ext')\n",
    "df['basename_pattern'] = df.basename.str.replace(pat, repl)"
   ]
  },
  {
   "cell_type": "markdown",
   "metadata": {},
   "source": [
    "### Number of runs per configuration/experiment"
   ]
  },
  {
   "cell_type": "markdown",
   "metadata": {},
   "source": [
    "The data directory contains several model __configurations__ (e.g. mom01v5 or mom025)\n",
    "\n",
    "Each configuration contains a number of __experiments__ (e.g. KDS75 or KDS75_wind)\n",
    "\n",
    "The output is a set of several __runs__ (e.g. output266)"
   ]
  },
  {
   "cell_type": "code",
   "execution_count": 39,
   "metadata": {},
   "outputs": [
    {
     "data": {
      "text/html": [
       "<div>\n",
       "<style>\n",
       "    .dataframe thead tr:only-child th {\n",
       "        text-align: right;\n",
       "    }\n",
       "\n",
       "    .dataframe thead th {\n",
       "        text-align: left;\n",
       "    }\n",
       "\n",
       "    .dataframe tbody tr th {\n",
       "        vertical-align: top;\n",
       "    }\n",
       "</style>\n",
       "<table border=\"1\" class=\"dataframe\">\n",
       "  <thead>\n",
       "    <tr style=\"text-align: right;\">\n",
       "      <th></th>\n",
       "      <th></th>\n",
       "      <th>experiment</th>\n",
       "    </tr>\n",
       "    <tr>\n",
       "      <th>rootdir</th>\n",
       "      <th>configuration</th>\n",
       "      <th></th>\n",
       "    </tr>\n",
       "  </thead>\n",
       "  <tbody>\n",
       "    <tr>\n",
       "      <th>/g/data1/v45</th>\n",
       "      <th>APE-MOM</th>\n",
       "      <td>4</td>\n",
       "    </tr>\n",
       "    <tr>\n",
       "      <th rowspan=\"4\" valign=\"top\">/g/data3/hh5/tmp/cosima</th>\n",
       "      <th>access-om2</th>\n",
       "      <td>2</td>\n",
       "    </tr>\n",
       "    <tr>\n",
       "      <th>access-om2-025</th>\n",
       "      <td>4</td>\n",
       "    </tr>\n",
       "    <tr>\n",
       "      <th>mom01v5</th>\n",
       "      <td>7</td>\n",
       "    </tr>\n",
       "    <tr>\n",
       "      <th>mom025</th>\n",
       "      <td>6</td>\n",
       "    </tr>\n",
       "  </tbody>\n",
       "</table>\n",
       "</div>"
      ],
      "text/plain": [
       "                                        experiment\n",
       "rootdir                 configuration             \n",
       "/g/data1/v45            APE-MOM                  4\n",
       "/g/data3/hh5/tmp/cosima access-om2               2\n",
       "                        access-om2-025           4\n",
       "                        mom01v5                  7\n",
       "                        mom025                   6"
      ]
     },
     "metadata": {},
     "output_type": "display_data"
    }
   ],
   "source": [
    "table = pd.pivot_table(df, index=[\"rootdir\", \"configuration\"],  \n",
    "                       values=['experiment'], \n",
    "                       aggfunc=lambda x: len(x.unique()))\n",
    "display(table)"
   ]
  },
  {
   "cell_type": "markdown",
   "metadata": {},
   "source": [
    "This table shows the number of runs that are available for analysis.  "
   ]
  },
  {
   "cell_type": "markdown",
   "metadata": {},
   "source": [
    "## MOM-SIS 0.25$^\\circ$ Diagnostics\n",
    "\n",
    "| Experiment Name | Description |\n",
    "|-----------------|-----------------|\n",
    "|mom025_nyf | Original simulation, rerun from WOA13 initial conditions.|\n",
    "|mom025_nyf_salt | As above, with new ew salt restoring file from WOA13 surface data. (Not running yet)|"
   ]
  },
  {
   "cell_type": "markdown",
   "metadata": {},
   "source": [
    "## MOM-SIS 0.1$^\\circ$\n",
    "\n",
    "| Experiment Name | Description |\n",
    "|-----------------|-----------------|\n",
    "|GFDL50 | Original simulation with 50 vertical levels. Ran from Levitus for about 60 years, but data output only saved from about year 40.|\n",
    "|KDS75 | Branched from GFDL50 at year 45 (re-zeroed), but with Kial Stewart's 75 level scheme. Has now run for 103 years. Years 90-100 have 5-daily output.|\n",
    "| KDS75_wind | Short (5-year) Antarctic wind perturbation case, branched from KDS75 at year 40.|\n",
    "| KDS75_PI | Paul Spence's Poleward Intensification wind experiment. Branched from KDS75 at year 70, will run until year 100 with 5-daily output for the last decade|\n",
    "| KDS75_UP | Paul Spence's Increased winds case. Branched from KDS75 at year 70, will run until year 100 with 5-daily output for the last decade. (In Progress) |"
   ]
  },
  {
   "cell_type": "markdown",
   "metadata": {},
   "source": [
    "## ACCESS-OM2-025 Preliminary Analysis\n",
    "\n",
    "|** Run Name** | **Forcing** | ** Run ** | ** Status **|\n",
    "|--------------|---------|-------------------------------------------------|-------------|\n",
    "|025deg_jra55_ryf_spinup1 | JRA55 RYF9091| This is our initial 0.25° test. Ran for a decade before sea ice build-up overwhelmed us!  | Aborted after 10 years.| \n",
    "|025deg_jra55_ryf_spinup2 | JRA55 RYF9091| This is our initial 0.25° test with the sea ice parameter fixed. Less sea ice buildup, but there seems to be a problem with salinity conservation. It seems we are not doing runoff properly ... | Stopped at 50 years.| \n",
    "|025deg_jra55_ryf_spinup3 | JRA55 RYF9091| Third attempt at 0.25° test. This run is very unstable, and we think it might be something to do with runoff. Will try to fix this and start again. | Up to 8 years.| \n",
    "|025deg_jra55_ryf | JRA55 RYF9091| Latest attempt at 0.25° test.  | Started 5/8/17| \n",
    "\n"
   ]
  },
  {
   "cell_type": "markdown",
   "metadata": {
    "collapsed": true
   },
   "source": [
    "## ACCESS-OM2 Preliminary Analysis\n",
    "\n",
    "|** Run Name** | **Forcing** | ** Run ** | ** Status **|\n",
    "|--------------|---------|-------------------------------------------------|-------------|\n",
    "|1deg_jra55_ryf_spinup1 | JRA55 RYF9091| A short 10 year spinup with first pre-release code. Had bugs in runoff and salt fluxes.| Aborted after 10 years.| \n",
    "|1deg_jra55_ryf | JRA55 RYF9091| second attempt at 1° test. | Up to 50 years.| \n",
    "\n"
   ]
  },
  {
   "cell_type": "code",
   "execution_count": null,
   "metadata": {
    "collapsed": true
   },
   "outputs": [],
   "source": []
  }
 ],
 "metadata": {
  "kernelspec": {
   "display_name": "Python [default]",
   "language": "python",
   "name": "python3"
  },
  "language_info": {
   "codemirror_mode": {
    "name": "ipython",
    "version": 3
   },
   "file_extension": ".py",
   "mimetype": "text/x-python",
   "name": "python",
   "nbconvert_exporter": "python",
   "pygments_lexer": "ipython3",
   "version": "3.6.2"
  }
 },
 "nbformat": 4,
 "nbformat_minor": 2
}
